{
  "nbformat": 4,
  "nbformat_minor": 0,
  "metadata": {
    "colab": {
      "provenance": [],
      "authorship_tag": "ABX9TyM7eUjAGXIWg9t13jadwJIv",
      "include_colab_link": true
    },
    "kernelspec": {
      "name": "python3",
      "display_name": "Python 3"
    },
    "language_info": {
      "name": "python"
    }
  },
  "cells": [
    {
      "cell_type": "markdown",
      "metadata": {
        "id": "view-in-github",
        "colab_type": "text"
      },
      "source": [
        "<a href=\"https://colab.research.google.com/github/tibaris/EntropicSparsificationNN/blob/main/swiss-roll-extract-layers.ipynb\" target=\"_parent\"><img src=\"https://colab.research.google.com/assets/colab-badge.svg\" alt=\"Open In Colab\"/></a>"
      ]
    },
    {
      "cell_type": "code",
      "execution_count": 1,
      "metadata": {
        "id": "y3VNNY28auqT"
      },
      "outputs": [],
      "source": [
        "from skimage import io, exposure\n",
        "\n",
        "import numpy as np\n",
        "import scipy\n",
        "import scipy.ndimage\n",
        "import matplotlib.pyplot as plt\n",
        "\n",
        "from sklearn.metrics import confusion_matrix\n",
        "from sklearn import metrics\n",
        "from scipy.ndimage import gaussian_filter\n",
        "\n",
        "import time\n",
        "from skimage.color import rgb2gray\n",
        "from skimage.transform import rescale"
      ]
    },
    {
      "cell_type": "code",
      "source": [
        "import torch\n",
        "import torch.nn as nn\n",
        "import torch.nn.functional as F\n",
        "import torch.optim as optim\n",
        "import torch.optim.lr_scheduler as sched\n",
        "\n",
        "import csv\n",
        "import pandas as pd\n",
        "import time\n",
        "import gc\n",
        "import sys"
      ],
      "metadata": {
        "id": "v7RQfcSBa2Kj"
      },
      "execution_count": 2,
      "outputs": []
    },
    {
      "cell_type": "code",
      "source": [
        "def count_parameters(model): return sum(p.numel() for p in model.parameters() if p.requires_grad)"
      ],
      "metadata": {
        "id": "9t-8B5kQa2NE"
      },
      "execution_count": 3,
      "outputs": []
    },
    {
      "cell_type": "markdown",
      "source": [
        "# Case 1: One turn"
      ],
      "metadata": {
        "id": "LGg64JiNbNHx"
      }
    },
    {
      "cell_type": "code",
      "source": [
        "train_data = pd.read_csv(\"/content/swissroll-10000-turn1.csv\", header=None)\n",
        "train_data = train_data.to_numpy()"
      ],
      "metadata": {
        "id": "FjRSxscKa2Pk"
      },
      "execution_count": null,
      "outputs": []
    },
    {
      "cell_type": "code",
      "source": [
        "train_data = np.transpose(train_data)\n",
        "train_data = torch.from_numpy(train_data)\n",
        "print(train_data.shape)\n",
        "\n",
        "train_num = train_data.shape[0]\n",
        "torch.manual_seed(0)\n",
        "permutation = torch.randperm(train_num)\n",
        "\n",
        "train_x = train_data[permutation[:15000],:]\n",
        "train_y = (permutation[:15000]<train_num/2)*1\n",
        "train_x = train_x.reshape([train_x.shape[0],train_x.shape[1],1,1])\n",
        "print(train_x.shape)\n",
        "print(train_y.shape)"
      ],
      "metadata": {
        "id": "CH0jYiIha2SA",
        "colab": {
          "base_uri": "https://localhost:8080/"
        },
        "outputId": "54e9fa7e-4d65-484e-94e4-d12fc7049777"
      },
      "execution_count": null,
      "outputs": [
        {
          "output_type": "stream",
          "name": "stdout",
          "text": [
            "torch.Size([20000, 2])\n",
            "torch.Size([15000, 2, 1, 1])\n",
            "torch.Size([15000])\n"
          ]
        }
      ]
    },
    {
      "cell_type": "code",
      "source": [
        "class SimplePerceptron(nn.Module):\n",
        "\n",
        "    def __init__(self):\n",
        "        super(SimplePerceptron, self).__init__()\n",
        "        self.conv1 = nn.Conv2d(2,400,kernel_size = (1,1))\n",
        "        self.conv2 = nn.Conv2d(400,400,kernel_size = (1,1))\n",
        "        self.conv3 = nn.Conv2d(400,1,kernel_size = (1,1))\n",
        "\n",
        "        self.bn1 = nn.BatchNorm2d(400, affine=False)\n",
        "        self.bn2 = nn.BatchNorm2d(400, affine=False)\n",
        "\n",
        "\n",
        "    def forward(self, x):\n",
        "        #1st  layer\n",
        "        #x = self.bn1(x)\n",
        "        x = self.conv1(x)\n",
        "        x = self.bn1(x)\n",
        "        x = F.relu(x)\n",
        "\n",
        "        x = self.conv2(x)\n",
        "        x = self.bn2(x)\n",
        "        x = F.relu(x)\n",
        "\n",
        "        x = self.conv3(x)\n",
        "        #x = F.softmax(x)\n",
        "        x = F.sigmoid(x)\n",
        "        return x\n",
        "\n",
        "    def forward_conv1(self, x):\n",
        "        y = self.conv1(x)\n",
        "        return (x,y)\n",
        "\n",
        "    def forward_conv2(self, x):\n",
        "        x = self.conv1(x)\n",
        "        x = self.bn1(x)\n",
        "        x = F.relu(x)\n",
        "\n",
        "        y = self.conv2(x)\n",
        "        return (x,y)\n",
        "\n",
        "    def forward_conv3(self, x):\n",
        "        x = self.conv1(x)\n",
        "        x = self.bn1(x)\n",
        "        x = F.relu(x)\n",
        "\n",
        "        x = self.conv2(x)\n",
        "        x = self.bn2(x)\n",
        "        x = F.relu(x)\n",
        "\n",
        "        y = self.conv3(x)\n",
        "        return (x,y)"
      ],
      "metadata": {
        "id": "okzePmiwa2UX"
      },
      "execution_count": null,
      "outputs": []
    },
    {
      "cell_type": "code",
      "source": [
        "model = SimplePerceptron().double()\n",
        "print(count_parameters(model))"
      ],
      "metadata": {
        "id": "VNPBqI1cbfaD",
        "colab": {
          "base_uri": "https://localhost:8080/"
        },
        "outputId": "59fc227d-50d2-4435-84c2-db31bf01ab17"
      },
      "execution_count": null,
      "outputs": [
        {
          "output_type": "stream",
          "name": "stdout",
          "text": [
            "162001\n"
          ]
        }
      ]
    },
    {
      "cell_type": "code",
      "source": [
        "model.load_state_dict(torch.load(\"/content/FCC-swiss-roll-1turn-10k.pth\"))\n",
        "model.eval()"
      ],
      "metadata": {
        "id": "qTawJgrKbfc7",
        "colab": {
          "base_uri": "https://localhost:8080/"
        },
        "outputId": "cc0ce426-03d0-46ee-e98e-c5e76706b847"
      },
      "execution_count": null,
      "outputs": [
        {
          "output_type": "execute_result",
          "data": {
            "text/plain": [
              "SimplePerceptron(\n",
              "  (conv1): Conv2d(2, 400, kernel_size=(1, 1), stride=(1, 1))\n",
              "  (conv2): Conv2d(400, 400, kernel_size=(1, 1), stride=(1, 1))\n",
              "  (conv3): Conv2d(400, 1, kernel_size=(1, 1), stride=(1, 1))\n",
              "  (bn1): BatchNorm2d(400, eps=1e-05, momentum=0.1, affine=False, track_running_stats=True)\n",
              "  (bn2): BatchNorm2d(400, eps=1e-05, momentum=0.1, affine=False, track_running_stats=True)\n",
              ")"
            ]
          },
          "metadata": {},
          "execution_count": 44
        }
      ]
    },
    {
      "cell_type": "code",
      "source": [
        "(x_l1, y_l1) = model.forward_conv1(train_x)\n",
        "(x_l2, y_l2) = model.forward_conv2(train_x)\n",
        "(x_l3, y_l3) = model.forward_conv3(train_x)"
      ],
      "metadata": {
        "id": "5msean3mbffl"
      },
      "execution_count": null,
      "outputs": []
    },
    {
      "cell_type": "code",
      "source": [
        "#pd.DataFrame(x_l1[:,:,0,0].detach().numpy()).to_csv(\"model1-layer1-Xtrain.csv\")\n",
        "#pd.DataFrame(y_l1[:,:,0,0].detach().numpy()).to_csv(\"model1-layer1-Ytrain.csv\")\n",
        "\n",
        "#pd.DataFrame(x_l2[:,:,0,0].detach().numpy()).to_csv(\"model1-layer2-Xtrain.csv\")\n",
        "#pd.DataFrame(y_l2[:,:,0,0].detach().numpy()).to_csv(\"model1-layer2-Ytrain.csv\")\n",
        "\n",
        "#pd.DataFrame(x_l3[:,:,0,0].detach().numpy()).to_csv(\"model1-layer3-Xtrain.csv\")\n",
        "#pd.DataFrame(y_l3[:,:,0,0].detach().numpy()).to_csv(\"model1-layer3-Ytrain.csv\")"
      ],
      "metadata": {
        "id": "CXA0Co2Mbfh4"
      },
      "execution_count": null,
      "outputs": []
    },
    {
      "cell_type": "code",
      "source": [
        "plot_x = train_x[:500]\n",
        "plot_x.shape\n",
        "\n",
        "plt.scatter(plot_x[:,0,0,0], plot_x[:,1,0,0])"
      ],
      "metadata": {
        "id": "quO1jivVuqrd",
        "outputId": "b5d095b2-5465-40c7-a17c-2b368f62c89e",
        "colab": {
          "base_uri": "https://localhost:8080/",
          "height": 450
        }
      },
      "execution_count": null,
      "outputs": [
        {
          "output_type": "execute_result",
          "data": {
            "text/plain": [
              "<matplotlib.collections.PathCollection at 0x79c577511d50>"
            ]
          },
          "metadata": {},
          "execution_count": 31
        },
        {
          "output_type": "display_data",
          "data": {
            "text/plain": [
              "<Figure size 640x480 with 1 Axes>"
            ],
            "image/png": "[encoded data removed]"
          },
          "metadata": {}
        }
      ]
    },
    {
      "cell_type": "code",
      "source": [],
      "metadata": {
        "id": "egtuMsfXuquB"
      },
      "execution_count": null,
      "outputs": []
    },
    {
      "cell_type": "markdown",
      "source": [
        "# Case 2: Two turns"
      ],
      "metadata": {
        "id": "-tt5pqIidJV4"
      }
    },
    {
      "cell_type": "code",
      "source": [
        "train_data = pd.read_csv(\"/content/swissroll-10000-turn2.csv\", header=None)\n",
        "train_data = train_data.to_numpy()"
      ],
      "metadata": {
        "id": "RatEF1oudt-u"
      },
      "execution_count": 4,
      "outputs": []
    },
    {
      "cell_type": "code",
      "source": [
        "train_data = np.transpose(train_data)\n",
        "train_data = torch.from_numpy(train_data)\n",
        "print(train_data.shape)\n",
        "\n",
        "train_num = train_data.shape[0]\n",
        "torch.manual_seed(0)\n",
        "permutation = torch.randperm(train_num)\n",
        "\n",
        "train_x = train_data[permutation[:15000],:]\n",
        "train_y = (permutation[:15000]<train_num/2)*1\n",
        "train_x = train_x.reshape([train_x.shape[0],train_x.shape[1],1,1])\n",
        "print(train_x.shape)\n",
        "print(train_y.shape)"
      ],
      "metadata": {
        "id": "LgAM63hkduoe",
        "colab": {
          "base_uri": "https://localhost:8080/"
        },
        "outputId": "b6ad4ceb-74e6-4bd9-8b29-6fe1cc1291fc"
      },
      "execution_count": 5,
      "outputs": [
        {
          "output_type": "stream",
          "name": "stdout",
          "text": [
            "torch.Size([20000, 2])\n",
            "torch.Size([15000, 2, 1, 1])\n",
            "torch.Size([15000])\n"
          ]
        }
      ]
    },
    {
      "cell_type": "code",
      "source": [
        "class SimplePerceptron(nn.Module):\n",
        "\n",
        "    def __init__(self):\n",
        "        super(SimplePerceptron, self).__init__()\n",
        "        self.conv1 = nn.Conv2d(2,400,kernel_size = (1,1))\n",
        "        self.conv2 = nn.Conv2d(400,400,kernel_size = (1,1))\n",
        "        self.conv3 = nn.Conv2d(400,400,kernel_size = (1,1))\n",
        "        self.conv4 = nn.Conv2d(400,1,kernel_size = (1,1))\n",
        "\n",
        "        self.bn1 = nn.BatchNorm2d(400, affine=False)\n",
        "        self.bn2 = nn.BatchNorm2d(400, affine=False)\n",
        "        self.bn3 = nn.BatchNorm2d(400, affine=False)\n",
        "\n",
        "\n",
        "    def forward(self, x):\n",
        "\n",
        "        #1st  layer\n",
        "        #x = self.bn1(x)\n",
        "        x = self.conv1(x)\n",
        "        x = self.bn1(x)\n",
        "        x = F.relu(x)\n",
        "\n",
        "        x = self.conv2(x)\n",
        "        x = self.bn2(x)\n",
        "        x = F.relu(x)\n",
        "\n",
        "        x = self.conv3(x)\n",
        "        x = self.bn3(x)\n",
        "        x = F.relu(x)\n",
        "\n",
        "        x = self.conv4(x)\n",
        "        #x = F.softmax(x)\n",
        "        x = F.sigmoid(x)\n",
        "        return x\n",
        "\n",
        "    def forward_conv1(self, x):\n",
        "        y = self.conv1(x)\n",
        "        return (x,y)\n",
        "\n",
        "    def forward_conv2(self, x):\n",
        "        x = self.conv1(x)\n",
        "        x = self.bn1(x)\n",
        "        x = F.relu(x)\n",
        "\n",
        "        y = self.conv2(x)\n",
        "        return (x,y)\n",
        "\n",
        "    def forward_conv3(self, x):\n",
        "        x = self.conv1(x)\n",
        "        x = self.bn1(x)\n",
        "        x = F.relu(x)\n",
        "\n",
        "        x = self.conv2(x)\n",
        "        x = self.bn2(x)\n",
        "        x = F.relu(x)\n",
        "\n",
        "        y = self.conv3(x)\n",
        "        return (x,y)\n",
        "\n",
        "    def forward_conv4(self, x):\n",
        "        x = self.conv1(x)\n",
        "        x = self.bn1(x)\n",
        "        x = F.relu(x)\n",
        "\n",
        "        x = self.conv2(x)\n",
        "        x = self.bn2(x)\n",
        "        x = F.relu(x)\n",
        "\n",
        "        x = self.conv3(x)\n",
        "        x = self.bn3(x)\n",
        "        x = F.relu(x)\n",
        "\n",
        "        y = self.conv4(x)\n",
        "        return (x,y)"
      ],
      "metadata": {
        "id": "R-qXPocSbfkj"
      },
      "execution_count": 6,
      "outputs": []
    },
    {
      "cell_type": "code",
      "source": [
        "model = SimplePerceptron().double()\n",
        "print(count_parameters(model))"
      ],
      "metadata": {
        "id": "Ve5yAz3Ybfm8",
        "colab": {
          "base_uri": "https://localhost:8080/"
        },
        "outputId": "1deff8a6-8413-4383-f1cf-a29eab1c0bf3"
      },
      "execution_count": 7,
      "outputs": [
        {
          "output_type": "stream",
          "name": "stdout",
          "text": [
            "322401\n"
          ]
        }
      ]
    },
    {
      "cell_type": "code",
      "source": [
        "#model.load_state_dict(torch.load(\"/content/FCC-swiss-roll-2turn-10kbig.pth\"))\n",
        "model.load_state_dict(torch.load(\"/content/FCC-swiss-roll-2turn-10kbig-corrected.pth\"))\n",
        "model.eval()"
      ],
      "metadata": {
        "id": "Po44A6LRbfpi",
        "colab": {
          "base_uri": "https://localhost:8080/"
        },
        "outputId": "f01f563c-3848-4170-b2f1-50d2bfe94a05"
      },
      "execution_count": 8,
      "outputs": [
        {
          "output_type": "execute_result",
          "data": {
            "text/plain": [
              "SimplePerceptron(\n",
              "  (conv1): Conv2d(2, 400, kernel_size=(1, 1), stride=(1, 1))\n",
              "  (conv2): Conv2d(400, 400, kernel_size=(1, 1), stride=(1, 1))\n",
              "  (conv3): Conv2d(400, 400, kernel_size=(1, 1), stride=(1, 1))\n",
              "  (conv4): Conv2d(400, 1, kernel_size=(1, 1), stride=(1, 1))\n",
              "  (bn1): BatchNorm2d(400, eps=1e-05, momentum=0.1, affine=False, track_running_stats=True)\n",
              "  (bn2): BatchNorm2d(400, eps=1e-05, momentum=0.1, affine=False, track_running_stats=True)\n",
              "  (bn3): BatchNorm2d(400, eps=1e-05, momentum=0.1, affine=False, track_running_stats=True)\n",
              ")"
            ]
          },
          "metadata": {},
          "execution_count": 8
        }
      ]
    },
    {
      "cell_type": "code",
      "source": [
        "(x_l1, y_l1) = model.forward_conv1(train_x)\n",
        "(x_l2, y_l2) = model.forward_conv2(train_x)\n",
        "(x_l3, y_l3) = model.forward_conv3(train_x)\n",
        "(x_l4, y_l4) = model.forward_conv4(train_x)"
      ],
      "metadata": {
        "id": "D9WISco9bfst"
      },
      "execution_count": 9,
      "outputs": []
    },
    {
      "cell_type": "code",
      "source": [
        "#pd.DataFrame(x_l1[:,:,0,0].detach().numpy()).to_csv(\"model2-layer1-Xtrain.csv\")\n",
        "#pd.DataFrame(y_l1[:,:,0,0].detach().numpy()).to_csv(\"model2-layer1-Ytrain.csv\")\n",
        "\n",
        "#pd.DataFrame(x_l2[:,:,0,0].detach().numpy()).to_csv(\"model2-layer2-Xtrain.csv\")\n",
        "#pd.DataFrame(y_l2[:,:,0,0].detach().numpy()).to_csv(\"model2-layer2-Ytrain.csv\")\n",
        "\n",
        "#pd.DataFrame(x_l3[:,:,0,0].detach().numpy()).to_csv(\"model2-layer3-Xtrain.csv\")\n",
        "#pd.DataFrame(y_l3[:,:,0,0].detach().numpy()).to_csv(\"model2-layer3-Ytrain.csv\")\n",
        "\n",
        "#pd.DataFrame(x_l4[:,:,0,0].detach().numpy()).to_csv(\"model2-layer4-Xtrain.csv\")\n",
        "#pd.DataFrame(y_l4[:,:,0,0].detach().numpy()).to_csv(\"model2-layer4-Ytrain.csv\")"
      ],
      "metadata": {
        "id": "I05IHOq5a2Wt"
      },
      "execution_count": 10,
      "outputs": []
    },
    {
      "cell_type": "code",
      "source": [
        "plot_x = train_x[:500]\n",
        "plot_x.shape\n",
        "\n",
        "plt.scatter(plot_x[:,0,0,0], plot_x[:,1,0,0])"
      ],
      "metadata": {
        "colab": {
          "base_uri": "https://localhost:8080/",
          "height": 447
        },
        "id": "BnAbHiSktheJ",
        "outputId": "77287b8e-84fa-4b0b-d84b-ce2ed2329b8d"
      },
      "execution_count": 11,
      "outputs": [
        {
          "output_type": "execute_result",
          "data": {
            "text/plain": [
              "<matplotlib.collections.PathCollection at 0x7d70a4b14190>"
            ]
          },
          "metadata": {},
          "execution_count": 11
        },
        {
          "output_type": "display_data",
          "data": {
            "text/plain": [
              "<Figure size 640x480 with 1 Axes>"
            ],
            "image/png": "[encoded data removed]"
          },
          "metadata": {}
        }
      ]
    },
    {
      "cell_type": "code",
      "source": [],
      "metadata": {
        "id": "WgidfF6zurv7"
      },
      "execution_count": null,
      "outputs": []
    },
    {
      "cell_type": "markdown",
      "source": [
        "# Case 3: Three turns"
      ],
      "metadata": {
        "id": "VAiBbAZUePfn"
      }
    },
    {
      "cell_type": "code",
      "source": [
        "train_data = pd.read_csv(\"/content/swissroll-10000-turn3.csv\", header=None)\n",
        "train_data = train_data.to_numpy()"
      ],
      "metadata": {
        "id": "SepuT7lDjXmL"
      },
      "execution_count": 12,
      "outputs": []
    },
    {
      "cell_type": "code",
      "source": [
        "train_data = np.transpose(train_data)\n",
        "train_data = torch.from_numpy(train_data)\n",
        "print(train_data.shape)\n",
        "\n",
        "train_num = train_data.shape[0]\n",
        "torch.manual_seed(0)\n",
        "permutation = torch.randperm(train_num)\n",
        "\n",
        "train_x = train_data[permutation[:15000],:]\n",
        "train_y = (permutation[:15000]<train_num/2)*1\n",
        "train_x = train_x.reshape([train_x.shape[0],train_x.shape[1],1,1])\n",
        "print(train_x.shape)\n",
        "print(train_y.shape)"
      ],
      "metadata": {
        "id": "AORcltZ_a2ZD",
        "colab": {
          "base_uri": "https://localhost:8080/"
        },
        "outputId": "05aacc03-b074-4e4e-a05b-ea867cd54fd3"
      },
      "execution_count": 13,
      "outputs": [
        {
          "output_type": "stream",
          "name": "stdout",
          "text": [
            "torch.Size([20000, 2])\n",
            "torch.Size([15000, 2, 1, 1])\n",
            "torch.Size([15000])\n"
          ]
        }
      ]
    },
    {
      "cell_type": "code",
      "source": [
        "class SimplePerceptron(nn.Module):\n",
        "\n",
        "    def __init__(self):\n",
        "        super(SimplePerceptron, self).__init__()\n",
        "        self.conv1 = nn.Conv2d(2,400,kernel_size = (1,1))\n",
        "        self.conv2 = nn.Conv2d(400,400,kernel_size = (1,1))\n",
        "        self.conv3 = nn.Conv2d(400,400,kernel_size = (1,1))\n",
        "        self.conv4 = nn.Conv2d(400,400,kernel_size = (1,1))\n",
        "        self.conv5 = nn.Conv2d(400,1,kernel_size = (1,1))\n",
        "\n",
        "        self.bn1 = nn.BatchNorm2d(400, affine=False)\n",
        "        self.bn2 = nn.BatchNorm2d(400, affine=False)\n",
        "        self.bn3 = nn.BatchNorm2d(400, affine=False)\n",
        "        self.bn4 = nn.BatchNorm2d(400, affine=False)\n",
        "\n",
        "\n",
        "    def forward(self, x):\n",
        "\n",
        "        #1st  layer\n",
        "        #x = self.bn1(x)\n",
        "        x = self.conv1(x)\n",
        "        x = self.bn1(x)\n",
        "        x = F.relu(x)\n",
        "\n",
        "        x = self.conv2(x)\n",
        "        x = self.bn2(x)\n",
        "        x = F.relu(x)\n",
        "\n",
        "        x = self.conv3(x)\n",
        "        x = self.bn3(x)\n",
        "        x = F.relu(x)\n",
        "\n",
        "        x = self.conv4(x)\n",
        "        x = self.bn4(x)\n",
        "        x = F.relu(x)\n",
        "\n",
        "        x = self.conv5(x)\n",
        "        #x = F.softmax(x)\n",
        "        x = F.sigmoid(x)\n",
        "        return x\n",
        "\n",
        "    def forward_conv1(self, x):\n",
        "        y = self.conv1(x)\n",
        "        return (x,y)\n",
        "\n",
        "    def forward_conv2(self, x):\n",
        "        x = self.conv1(x)\n",
        "        x = self.bn1(x)\n",
        "        x = F.relu(x)\n",
        "\n",
        "        y = self.conv2(x)\n",
        "        return (x,y)\n",
        "\n",
        "    def forward_conv3(self, x):\n",
        "        x = self.conv1(x)\n",
        "        x = self.bn1(x)\n",
        "        x = F.relu(x)\n",
        "\n",
        "        x = self.conv2(x)\n",
        "        x = self.bn2(x)\n",
        "        x = F.relu(x)\n",
        "\n",
        "        y = self.conv3(x)\n",
        "        return (x,y)\n",
        "\n",
        "    def forward_conv4(self, x):\n",
        "        x = self.conv1(x)\n",
        "        x = self.bn1(x)\n",
        "        x = F.relu(x)\n",
        "\n",
        "        x = self.conv2(x)\n",
        "        x = self.bn2(x)\n",
        "        x = F.relu(x)\n",
        "\n",
        "        x = self.conv3(x)\n",
        "        x = self.bn3(x)\n",
        "        x = F.relu(x)\n",
        "\n",
        "        y = self.conv4(x)\n",
        "        return (x,y)\n",
        "\n",
        "    def forward_conv5(self, x):\n",
        "        x = self.conv1(x)\n",
        "        x = self.bn1(x)\n",
        "        x = F.relu(x)\n",
        "\n",
        "        x = self.conv2(x)\n",
        "        x = self.bn2(x)\n",
        "        x = F.relu(x)\n",
        "\n",
        "        x = self.conv3(x)\n",
        "        x = self.bn3(x)\n",
        "        x = F.relu(x)\n",
        "\n",
        "        x = self.conv4(x)\n",
        "        x = self.bn4(x)\n",
        "        x = F.relu(x)\n",
        "\n",
        "        y = self.conv5(x)\n",
        "        return (x,y)"
      ],
      "metadata": {
        "id": "GUTTexlsjUte"
      },
      "execution_count": 14,
      "outputs": []
    },
    {
      "cell_type": "code",
      "source": [
        "model = SimplePerceptron().double()\n",
        "print(count_parameters(model))"
      ],
      "metadata": {
        "id": "iPHWyE7IjUwa",
        "colab": {
          "base_uri": "https://localhost:8080/"
        },
        "outputId": "bf52a821-d3b3-42d3-b105-63b4b3d4cba3"
      },
      "execution_count": 15,
      "outputs": [
        {
          "output_type": "stream",
          "name": "stdout",
          "text": [
            "482801\n"
          ]
        }
      ]
    },
    {
      "cell_type": "code",
      "source": [
        "#model.load_state_dict(torch.load(\"/content/FCC-swiss-roll-3turn-10k-large.pth\"))\n",
        "model.load_state_dict(torch.load(\"/content/FCC-swiss-roll-3turn-10k-large-corrected.pth\"))\n",
        "model.eval()"
      ],
      "metadata": {
        "id": "RyQmmKI3jU0q",
        "colab": {
          "base_uri": "https://localhost:8080/"
        },
        "outputId": "d552591e-3bb8-4b82-bc29-2ef4049e6df5"
      },
      "execution_count": 16,
      "outputs": [
        {
          "output_type": "execute_result",
          "data": {
            "text/plain": [
              "SimplePerceptron(\n",
              "  (conv1): Conv2d(2, 400, kernel_size=(1, 1), stride=(1, 1))\n",
              "  (conv2): Conv2d(400, 400, kernel_size=(1, 1), stride=(1, 1))\n",
              "  (conv3): Conv2d(400, 400, kernel_size=(1, 1), stride=(1, 1))\n",
              "  (conv4): Conv2d(400, 400, kernel_size=(1, 1), stride=(1, 1))\n",
              "  (conv5): Conv2d(400, 1, kernel_size=(1, 1), stride=(1, 1))\n",
              "  (bn1): BatchNorm2d(400, eps=1e-05, momentum=0.1, affine=False, track_running_stats=True)\n",
              "  (bn2): BatchNorm2d(400, eps=1e-05, momentum=0.1, affine=False, track_running_stats=True)\n",
              "  (bn3): BatchNorm2d(400, eps=1e-05, momentum=0.1, affine=False, track_running_stats=True)\n",
              "  (bn4): BatchNorm2d(400, eps=1e-05, momentum=0.1, affine=False, track_running_stats=True)\n",
              ")"
            ]
          },
          "metadata": {},
          "execution_count": 16
        }
      ]
    },
    {
      "cell_type": "code",
      "source": [
        "(x_l1, y_l1) = model.forward_conv1(train_x)\n",
        "(x_l2, y_l2) = model.forward_conv2(train_x)\n",
        "(x_l3, y_l3) = model.forward_conv3(train_x)\n",
        "(x_l4, y_l4) = model.forward_conv4(train_x)\n",
        "(x_l5, y_l5) = model.forward_conv5(train_x)"
      ],
      "metadata": {
        "id": "lNRu4v_ejU4D"
      },
      "execution_count": 17,
      "outputs": []
    },
    {
      "cell_type": "code",
      "source": [
        "#pd.DataFrame(x_l1[:,:,0,0].detach().numpy()).to_csv(\"model3-layer1-Xtrain.csv\")\n",
        "#pd.DataFrame(y_l1[:,:,0,0].detach().numpy()).to_csv(\"model3-layer1-Ytrain.csv\")\n",
        "\n",
        "#pd.DataFrame(x_l2[:,:,0,0].detach().numpy()).to_csv(\"model3-layer2-Xtrain.csv\")\n",
        "#pd.DataFrame(y_l2[:,:,0,0].detach().numpy()).to_csv(\"model3-layer2-Ytrain.csv\")\n",
        "\n",
        "#pd.DataFrame(x_l3[:,:,0,0].detach().numpy()).to_csv(\"model3-layer3-Xtrain.csv\")\n",
        "#pd.DataFrame(y_l3[:,:,0,0].detach().numpy()).to_csv(\"model3-layer3-Ytrain.csv\")\n",
        "\n",
        "#pd.DataFrame(x_l4[:,:,0,0].detach().numpy()).to_csv(\"model3-layer4-Xtrain.csv\")\n",
        "#pd.DataFrame(y_l4[:,:,0,0].detach().numpy()).to_csv(\"model3-layer4-Ytrain.csv\")\n",
        "\n",
        "#pd.DataFrame(x_l5[:,:,0,0].detach().numpy()).to_csv(\"model3-layer5-Xtrain.csv\")\n",
        "#pd.DataFrame(y_l5[:,:,0,0].detach().numpy()).to_csv(\"model3-layer5-Ytrain.csv\")"
      ],
      "metadata": {
        "id": "E_vH8DK4jU7m"
      },
      "execution_count": 19,
      "outputs": []
    },
    {
      "cell_type": "code",
      "source": [
        "plot_x = train_x[:500]\n",
        "plot_x.shape\n",
        "\n",
        "plt.scatter(plot_x[:,0,0,0], plot_x[:,1,0,0])"
      ],
      "metadata": {
        "colab": {
          "base_uri": "https://localhost:8080/",
          "height": 447
        },
        "id": "17x4rzRXuMp_",
        "outputId": "5fb81b1b-f38c-4be1-9613-ec8222f23748"
      },
      "execution_count": 20,
      "outputs": [
        {
          "output_type": "execute_result",
          "data": {
            "text/plain": [
              "<matplotlib.collections.PathCollection at 0x7d70a4a31030>"
            ]
          },
          "metadata": {},
          "execution_count": 20
        },
        {
          "output_type": "display_data",
          "data": {
            "text/plain": [
              "<Figure size 640x480 with 1 Axes>"
            ],
            "image/png": "[encoded data removed]"
          },
          "metadata": {}
        }
      ]
    },
    {
      "cell_type": "code",
      "source": [],
      "metadata": {
        "id": "ioVUd2rGuMsj"
      },
      "execution_count": null,
      "outputs": []
    },
    {
      "cell_type": "code",
      "source": [],
      "metadata": {
        "id": "ZSRpO0FZuMvY"
      },
      "execution_count": null,
      "outputs": []
    },
    {
      "cell_type": "code",
      "source": [],
      "metadata": {
        "id": "9LV9zYbha2cA"
      },
      "execution_count": null,
      "outputs": []
    }
  ]
}