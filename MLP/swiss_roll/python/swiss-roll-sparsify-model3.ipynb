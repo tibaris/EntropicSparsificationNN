{
  "nbformat": 4,
  "nbformat_minor": 0,
  "metadata": {
    "colab": {
      "provenance": [],
      "authorship_tag": "ABX9TyNtn4oe0YPfzTK+fi9gyE+I",
      "include_colab_link": true
    },
    "kernelspec": {
      "name": "python3",
      "display_name": "Python 3"
    },
    "language_info": {
      "name": "python"
    }
  },
  "cells": [
    {
      "cell_type": "markdown",
      "metadata": {
        "id": "view-in-github",
        "colab_type": "text"
      },
      "source": [
        "<a href=\"https://colab.research.google.com/github/tibaris/EntropicSparsificationNN/blob/main/swiss-roll-sparsify-model3.ipynb\" target=\"_parent\"><img src=\"https://colab.research.google.com/assets/colab-badge.svg\" alt=\"Open In Colab\"/></a>"
      ]
    },
    {
      "cell_type": "code",
      "execution_count": 1,
      "metadata": {
        "id": "y3VNNY28auqT"
      },
      "outputs": [],
      "source": [
        "from skimage import io, exposure\n",
        "\n",
        "import numpy as np\n",
        "import scipy\n",
        "import scipy.ndimage\n",
        "import matplotlib.pyplot as plt\n",
        "\n",
        "from sklearn.metrics import confusion_matrix\n",
        "from sklearn import metrics\n",
        "from scipy.ndimage import gaussian_filter\n",
        "\n",
        "import time\n",
        "from skimage.color import rgb2gray\n",
        "from skimage.transform import rescale"
      ]
    },
    {
      "cell_type": "code",
      "source": [
        "import torch\n",
        "import torch.nn as nn\n",
        "import torch.nn.functional as F\n",
        "import torch.optim as optim\n",
        "import torch.optim.lr_scheduler as sched\n",
        "\n",
        "import csv\n",
        "import pandas as pd\n",
        "import time\n",
        "import gc\n",
        "import sys"
      ],
      "metadata": {
        "id": "v7RQfcSBa2Kj"
      },
      "execution_count": 2,
      "outputs": []
    },
    {
      "cell_type": "code",
      "source": [
        "def count_parameters(model): return sum(p.numel() for p in model.parameters() if p.requires_grad)"
      ],
      "metadata": {
        "id": "9t-8B5kQa2NE"
      },
      "execution_count": 3,
      "outputs": []
    },
    {
      "cell_type": "markdown",
      "source": [
        "# Case 3: Three turns"
      ],
      "metadata": {
        "id": "VAiBbAZUePfn"
      }
    },
    {
      "cell_type": "code",
      "source": [
        "train_data = pd.read_csv(\"/content/swissroll-10000-turn3.csv\", header=None)\n",
        "train_data = train_data.to_numpy()"
      ],
      "metadata": {
        "id": "SepuT7lDjXmL"
      },
      "execution_count": 4,
      "outputs": []
    },
    {
      "cell_type": "code",
      "source": [
        "train_data = np.transpose(train_data)\n",
        "train_data = torch.from_numpy(train_data)\n",
        "print(train_data.shape)\n",
        "\n",
        "train_num = train_data.shape[0]\n",
        "torch.manual_seed(0)\n",
        "permutation = torch.randperm(train_num)\n",
        "\n",
        "train_x = train_data[permutation[:15000],:]\n",
        "train_y = (permutation[:15000]<train_num/2)*1\n",
        "train_x = train_x.reshape([train_x.shape[0],train_x.shape[1],1,1])\n",
        "print(train_x.shape)\n",
        "print(train_y.shape)"
      ],
      "metadata": {
        "id": "AORcltZ_a2ZD",
        "colab": {
          "base_uri": "https://localhost:8080/"
        },
        "outputId": "f6444355-93f3-4e69-c620-cbee5a6cbc4d"
      },
      "execution_count": 5,
      "outputs": [
        {
          "output_type": "stream",
          "name": "stdout",
          "text": [
            "torch.Size([20000, 2])\n",
            "torch.Size([15000, 2, 1, 1])\n",
            "torch.Size([15000])\n"
          ]
        }
      ]
    },
    {
      "cell_type": "code",
      "source": [
        "input = train_x[:10000].double()\n",
        "target = train_y[:10000].double()\n",
        "\n",
        "input_v = train_x[10000:].double()\n",
        "target_v = train_y[10000:].double()\n",
        "\n",
        "test_x = train_data[permutation[15000:],:]\n",
        "test_x = test_x.reshape([test_x.shape[0],test_x.shape[1],1,1])\n",
        "test_y = (permutation[15000:]<train_num/2)*1"
      ],
      "metadata": {
        "id": "Ph2fpeGF024f"
      },
      "execution_count": 6,
      "outputs": []
    },
    {
      "cell_type": "code",
      "source": [
        "class SimplePerceptron(nn.Module):\n",
        "\n",
        "    def __init__(self):\n",
        "        super(SimplePerceptron, self).__init__()\n",
        "        self.conv1 = nn.Conv2d(2,400,kernel_size = (1,1))\n",
        "        self.conv2 = nn.Conv2d(400,400,kernel_size = (1,1))\n",
        "        self.conv3 = nn.Conv2d(400,400,kernel_size = (1,1))\n",
        "        self.conv4 = nn.Conv2d(400,400,kernel_size = (1,1))\n",
        "        self.conv5 = nn.Conv2d(400,1,kernel_size = (1,1))\n",
        "\n",
        "        self.bn1 = nn.BatchNorm2d(400, affine=False)\n",
        "        self.bn2 = nn.BatchNorm2d(400, affine=False)\n",
        "        self.bn3 = nn.BatchNorm2d(400, affine=False)\n",
        "        self.bn4 = nn.BatchNorm2d(400, affine=False)\n",
        "\n",
        "\n",
        "        self.path_A2 = '/content/estAp3_layer2.csv'\n",
        "        self.path_b2 = '/content/estB_p3_layer2.csv'\n",
        "        self.path_W2 = '/content/W_p3_layer2.csv'\n",
        "\n",
        "        self.path_A3 = '/content/estAp3_layer3.csv'\n",
        "        self.path_b3 = '/content/estB_p3_layer3.csv'\n",
        "        self.path_W3 = '/content/W_p3_layer3.csv'\n",
        "\n",
        "        self.path_A4 = '/content/estAp3_layer4.csv'\n",
        "        self.path_b4 = '/content/estB_p3_layer4.csv'\n",
        "        self.path_W4 = '/content/W_p3_layer4.csv'\n",
        "\n",
        "        self.path_A5 = '/content/estAp3_layer5.csv'\n",
        "        self.path_b5 = '/content/estB_p3_layer5.csv'\n",
        "        self.path_W5 = '/content/W_p3_layer5.csv'\n",
        "\n",
        "        self.A2 = pd.read_csv(self.path_A2, header = None)\n",
        "        self.A2 = self.A2.to_numpy()\n",
        "        self.A2 = torch.from_numpy(self.A2)\n",
        "        self.b2 = pd.read_csv(self.path_b2, header = None)\n",
        "        self.b2 = self.b2.to_numpy()\n",
        "        self.b2 = torch.squeeze(torch.from_numpy(self.b2))\n",
        "        self.W2 = pd.read_csv(self.path_W2, header = None).to_numpy()\n",
        "\n",
        "        self.A3 = pd.read_csv(self.path_A3, header = None)\n",
        "        self.A3 = self.A3.to_numpy()\n",
        "        self.A3 = torch.from_numpy(self.A3)\n",
        "        self.b3 = pd.read_csv(self.path_b3, header = None)\n",
        "        self.b3 = self.b3.to_numpy()\n",
        "        self.b3 = torch.squeeze(torch.from_numpy(self.b3))\n",
        "        #self.b3 = torch.squeeze(torch.from_numpy(self.b3), dim = 1)\n",
        "        self.W3 = pd.read_csv(self.path_W3, header = None).to_numpy()\n",
        "\n",
        "        self.A4 = pd.read_csv(self.path_A4, header = None)\n",
        "        self.A4 = self.A4.to_numpy()\n",
        "        self.A4 = torch.from_numpy(self.A4)\n",
        "        self.b4 = pd.read_csv(self.path_b4, header = None)\n",
        "        self.b4 = self.b4.to_numpy()\n",
        "        self.b4 = torch.squeeze(torch.from_numpy(self.b4))\n",
        "        #self.b3 = torch.squeeze(torch.from_numpy(self.b3), dim = 1)\n",
        "        self.W4 = pd.read_csv(self.path_W4, header = None).to_numpy()\n",
        "\n",
        "        self.A5 = pd.read_csv(self.path_A5, header = None)\n",
        "        self.A5 = self.A5.to_numpy()\n",
        "        self.A5 = torch.from_numpy(self.A5)\n",
        "        self.b5 = pd.read_csv(self.path_b5, header = None)\n",
        "        self.b5 = self.b5.to_numpy()\n",
        "        #self.b3 = torch.squeeze(torch.from_numpy(self.b3))\n",
        "        self.b5 = torch.squeeze(torch.from_numpy(self.b5), dim = 1)\n",
        "        self.W5 = pd.read_csv(self.path_W5, header = None).to_numpy()\n",
        "        #print(self.b3.shape)\n",
        "\n",
        "\n",
        "    def forward(self, x):\n",
        "        #1st  layer\n",
        "        #x = self.bn1(x)\n",
        "        x = self.conv1(x)\n",
        "        x = self.bn1(x)\n",
        "        x = F.relu(x)\n",
        "\n",
        "        x = self.conv2(x)\n",
        "        x = self.bn2(x)\n",
        "        x = F.relu(x)\n",
        "\n",
        "        x = self.conv3(x)\n",
        "        x = self.bn3(x)\n",
        "        x = F.relu(x)\n",
        "\n",
        "        x = self.conv4(x)\n",
        "        x = self.bn4(x)\n",
        "        x = F.relu(x)\n",
        "\n",
        "        x = self.conv5(x)\n",
        "        #x = F.softmax(x)\n",
        "        x = F.sigmoid(x)\n",
        "        return x\n",
        "\n",
        "\n",
        "    def forward_sparse(self, x):\n",
        "        #1st  layer\n",
        "        #x = self.bn1(x)\n",
        "        x = self.conv1(x)\n",
        "        x = self.bn1(x)\n",
        "        x = F.relu(x)\n",
        "\n",
        "        x = self.my_conv2(x)\n",
        "        x = self.bn2(x)\n",
        "        x = F.relu(x)\n",
        "\n",
        "        x = self.my_conv3(x)\n",
        "        x = self.bn3(x)\n",
        "        x = F.relu(x)\n",
        "\n",
        "        x = self.my_conv4(x)\n",
        "        x = self.bn4(x)\n",
        "        x = F.relu(x)\n",
        "\n",
        "        x = self.my_conv5(x)\n",
        "        #x = F.softmax(x)\n",
        "        x = F.sigmoid(x)\n",
        "        return x\n",
        "\n",
        "    def my_conv2(self,x):\n",
        "        x = torch.matmul(torch.squeeze(self.A2), torch.transpose(torch.squeeze(x),0,1))  #+ torch.squeeze(b)\n",
        "        #print(x.shape)\n",
        "        #print(self.b2.shape)\n",
        "        x = torch.transpose(x,0,1) + self.b2\n",
        "        x = torch.unsqueeze(torch.unsqueeze(x,2),2)\n",
        "        #print(x.shape)\n",
        "        #x = torch.unsqueeze(torch.unsqueeze(res,2),2)\n",
        "        return x\n",
        "\n",
        "    def my_conv3(self,x):\n",
        "        x = torch.matmul(torch.squeeze(self.A3), torch.transpose(torch.squeeze(x),0,1))  #+ torch.squeeze(b)\n",
        "        #print(x.shape)\n",
        "        #print(self.b2.shape)\n",
        "        x = torch.transpose(x,0,1) + self.b3\n",
        "        x = torch.unsqueeze(torch.unsqueeze(x,2),2)\n",
        "        #print(x.shape)\n",
        "        #x = torch.unsqueeze(torch.unsqueeze(res,2),2)\n",
        "        return x\n",
        "\n",
        "    def my_conv4(self,x):\n",
        "        x = torch.matmul(torch.squeeze(self.A4), torch.transpose(torch.squeeze(x),0,1))  #+ torch.squeeze(b)\n",
        "        #print(x.shape)\n",
        "        #print(self.b2.shape)\n",
        "        x = torch.transpose(x,0,1) + self.b4\n",
        "        x = torch.unsqueeze(torch.unsqueeze(x,2),2)\n",
        "        #print(x.shape)\n",
        "        #x = torch.unsqueeze(torch.unsqueeze(res,2),2)\n",
        "        return x\n",
        "\n",
        "    def my_conv5(self,x):\n",
        "        x = torch.matmul(torch.squeeze(self.A5), torch.transpose(torch.squeeze(x),0,1))  #+ torch.squeeze(b)\n",
        "        #print(x.shape)\n",
        "        #print(self.b3.shape)\n",
        "        x = x + self.b5\n",
        "        #print(x.shape)\n",
        "        x = torch.unsqueeze(torch.unsqueeze(torch.unsqueeze(x,1),2),2)\n",
        "        #print(x.shape)\n",
        "        #x = torch.unsqueeze(torch.unsqueeze(res,2),2)\n",
        "        return x\n",
        "\n",
        "    def sparsity(self):\n",
        "        return (sum(sum(self.W2>0))+sum(sum(self.W3>0))+sum(sum(self.W4>0))+sum(sum(self.W5>0)))/(sum(sum(self.W2>0))+sum(sum(self.W3>=0))+sum(sum(self.W4>=0))+sum(sum(self.W5>=0)))\n",
        "\n",
        "    def sparsity2(self):\n",
        "        return (sum(sum(self.W2>0)), sum(sum(self.W3>0)), sum(sum(self.W4>0)), sum(sum(self.W5>0)))\n",
        "\n"
      ],
      "metadata": {
        "id": "GUTTexlsjUte"
      },
      "execution_count": 7,
      "outputs": []
    },
    {
      "cell_type": "code",
      "source": [
        "model = SimplePerceptron().double()\n",
        "print(count_parameters(model))"
      ],
      "metadata": {
        "id": "iPHWyE7IjUwa",
        "colab": {
          "base_uri": "https://localhost:8080/"
        },
        "outputId": "619d2c5a-8278-4807-e4c6-c13f5e8c48ba"
      },
      "execution_count": 8,
      "outputs": [
        {
          "output_type": "stream",
          "name": "stdout",
          "text": [
            "482801\n"
          ]
        }
      ]
    },
    {
      "cell_type": "code",
      "source": [
        "model.load_state_dict(torch.load(\"/content/FCC-swiss-roll-3turn-10k-large-corrected.pth\"))\n",
        "model.eval()"
      ],
      "metadata": {
        "id": "RyQmmKI3jU0q",
        "colab": {
          "base_uri": "https://localhost:8080/"
        },
        "outputId": "64c54d03-6bac-4936-f125-6e337ba211e0"
      },
      "execution_count": 9,
      "outputs": [
        {
          "output_type": "execute_result",
          "data": {
            "text/plain": [
              "SimplePerceptron(\n",
              "  (conv1): Conv2d(2, 400, kernel_size=(1, 1), stride=(1, 1))\n",
              "  (conv2): Conv2d(400, 400, kernel_size=(1, 1), stride=(1, 1))\n",
              "  (conv3): Conv2d(400, 400, kernel_size=(1, 1), stride=(1, 1))\n",
              "  (conv4): Conv2d(400, 400, kernel_size=(1, 1), stride=(1, 1))\n",
              "  (conv5): Conv2d(400, 1, kernel_size=(1, 1), stride=(1, 1))\n",
              "  (bn1): BatchNorm2d(400, eps=1e-05, momentum=0.1, affine=False, track_running_stats=True)\n",
              "  (bn2): BatchNorm2d(400, eps=1e-05, momentum=0.1, affine=False, track_running_stats=True)\n",
              "  (bn3): BatchNorm2d(400, eps=1e-05, momentum=0.1, affine=False, track_running_stats=True)\n",
              "  (bn4): BatchNorm2d(400, eps=1e-05, momentum=0.1, affine=False, track_running_stats=True)\n",
              ")"
            ]
          },
          "metadata": {},
          "execution_count": 9
        }
      ]
    },
    {
      "cell_type": "code",
      "source": [
        "def accuracy(y1,y2):\n",
        "    train_acc = torch.sum(y1 == y2)\n",
        "    #print(train_acc)\n",
        "    final_train_acc = train_acc/y2.shape[0]\n",
        "    return final_train_acc"
      ],
      "metadata": {
        "id": "ioVUd2rGuMsj"
      },
      "execution_count": 10,
      "outputs": []
    },
    {
      "cell_type": "code",
      "source": [
        "#train\n",
        "#model.eval()\n",
        "v = model(input)\n",
        "v[v>=0.5] = 1\n",
        "v[v<0.5] = 0\n",
        "#val\n",
        "v1 = model(input_v)\n",
        "v1[v1>=0.5] = 1\n",
        "v1[v1<0.5] = 0\n",
        "#test\n",
        "v2 = model(test_x)\n",
        "v2[v2>=0.5] = 1\n",
        "v2[v2<0.5] = 0\n",
        "\n",
        "print(accuracy(v[:,0,0,0],target))\n",
        "print(accuracy(v1[:,0,0,0],target_v))\n",
        "print(accuracy(v2[:,0,0,0],test_y))"
      ],
      "metadata": {
        "colab": {
          "base_uri": "https://localhost:8080/"
        },
        "id": "RlTHWiif0ytA",
        "outputId": "37d90a89-5028-47b8-be8c-1317ada3af8a"
      },
      "execution_count": 11,
      "outputs": [
        {
          "output_type": "stream",
          "name": "stdout",
          "text": [
            "tensor(0.9982)\n",
            "tensor(0.9982)\n",
            "tensor(0.9976)\n"
          ]
        }
      ]
    },
    {
      "cell_type": "code",
      "source": [
        "#train\n",
        "v = model.forward_sparse(input)\n",
        "v[v>=0.5] = 1\n",
        "v[v<0.5] = 0\n",
        "#val\n",
        "v1 = model.forward_sparse(input_v)\n",
        "v1[v1>=0.5] = 1\n",
        "v1[v1<0.5] = 0\n",
        "#test\n",
        "v2 = model.forward_sparse(test_x)\n",
        "v2[v2>=0.5] = 1\n",
        "v2[v2<0.5] = 0\n",
        "\n",
        "print(accuracy(v[:,0,0,0],target))\n",
        "print(accuracy(v1[:,0,0,0],target_v))\n",
        "print(accuracy(v2[:,0,0,0],test_y))"
      ],
      "metadata": {
        "id": "xz4aRaA_0yvN",
        "colab": {
          "base_uri": "https://localhost:8080/"
        },
        "outputId": "77db6a91-f205-4f61-e5ec-860934dd7fd1"
      },
      "execution_count": 12,
      "outputs": [
        {
          "output_type": "stream",
          "name": "stdout",
          "text": [
            "tensor(0.9889)\n",
            "tensor(0.9882)\n",
            "tensor(0.9852)\n"
          ]
        }
      ]
    },
    {
      "cell_type": "code",
      "source": [
        "print(model.sparsity())\n",
        "print(model.sparsity2())"
      ],
      "metadata": {
        "colab": {
          "base_uri": "https://localhost:8080/"
        },
        "id": "QumVzZPeFUhy",
        "outputId": "7b176931-df6c-489d-e348-58d9cd5c7670"
      },
      "execution_count": 13,
      "outputs": [
        {
          "output_type": "stream",
          "name": "stdout",
          "text": [
            "0.14109926168990977\n",
            "(19, 50, 77, 26)\n"
          ]
        }
      ]
    },
    {
      "cell_type": "markdown",
      "source": [
        "# Sparse model\n"
      ],
      "metadata": {
        "id": "L0bvaUHQHKFy"
      }
    },
    {
      "cell_type": "code",
      "source": [
        "class SimplePerceptronSparse(nn.Module):\n",
        "\n",
        "    def __init__(self):\n",
        "        super(SimplePerceptronSparse, self).__init__()\n",
        "        self.conv1 = nn.Conv2d(2,400,kernel_size = (1,1))\n",
        "        self.conv2 = nn.Conv2d(19,400,kernel_size = (1,1))\n",
        "        self.conv3 = nn.Conv2d(50,400,kernel_size = (1,1))\n",
        "        self.conv4 = nn.Conv2d(77,400,kernel_size = (1,1))\n",
        "        self.conv5 = nn.Conv2d(26,1,kernel_size = (1,1))\n",
        "\n",
        "        self.bn1 = nn.BatchNorm2d(400, affine=False)\n",
        "        self.bn2 = nn.BatchNorm2d(400, affine=False)\n",
        "        self.bn3 = nn.BatchNorm2d(400, affine=False)\n",
        "        self.bn4 = nn.BatchNorm2d(400, affine=False)\n",
        "\n",
        "\n",
        "        self.path_A2 = '/content/estAp3_layer2.csv'\n",
        "        self.path_b2 = '/content/estB_p3_layer2.csv'\n",
        "        self.path_W2 = '/content/W_p3_layer2.csv'\n",
        "\n",
        "        self.path_A3 = '/content/estAp3_layer3.csv'\n",
        "        self.path_b3 = '/content/estB_p3_layer3.csv'\n",
        "        self.path_W3 = '/content/W_p3_layer3.csv'\n",
        "\n",
        "        self.path_A4 = '/content/estAp3_layer4.csv'\n",
        "        self.path_b4 = '/content/estB_p3_layer4.csv'\n",
        "        self.path_W4 = '/content/W_p3_layer4.csv'\n",
        "\n",
        "        self.path_A5 = '/content/estAp3_layer5.csv'\n",
        "        self.path_b5 = '/content/estB_p3_layer5.csv'\n",
        "        self.path_W5 = '/content/W_p3_layer5.csv'\n",
        "\n",
        "        self.A2 = pd.read_csv(self.path_A2, header = None)\n",
        "        self.A2 = self.A2.to_numpy()\n",
        "        self.A2 = torch.from_numpy(self.A2)\n",
        "        self.b2 = pd.read_csv(self.path_b2, header = None)\n",
        "        self.b2 = self.b2.to_numpy()\n",
        "        self.b2 = torch.squeeze(torch.from_numpy(self.b2))\n",
        "        self.W2 = pd.read_csv(self.path_W2, header = None).to_numpy()\n",
        "        self.W2 = torch.squeeze(torch.from_numpy(self.W2))\n",
        "\n",
        "        self.A3 = pd.read_csv(self.path_A3, header = None)\n",
        "        self.A3 = self.A3.to_numpy()\n",
        "        self.A3 = torch.from_numpy(self.A3)\n",
        "        self.b3 = pd.read_csv(self.path_b3, header = None)\n",
        "        self.b3 = self.b3.to_numpy()\n",
        "        self.b3 = torch.squeeze(torch.from_numpy(self.b3))\n",
        "        #self.b3 = torch.squeeze(torch.from_numpy(self.b3), dim = 1)\n",
        "        self.W3 = pd.read_csv(self.path_W3, header = None).to_numpy()\n",
        "        self.W3 = torch.squeeze(torch.from_numpy(self.W3))\n",
        "\n",
        "        self.A4 = pd.read_csv(self.path_A4, header = None)\n",
        "        self.A4 = self.A4.to_numpy()\n",
        "        self.A4 = torch.from_numpy(self.A4)\n",
        "        self.b4 = pd.read_csv(self.path_b4, header = None)\n",
        "        self.b4 = self.b4.to_numpy()\n",
        "        self.b4 = torch.squeeze(torch.from_numpy(self.b4))\n",
        "        #self.b3 = torch.squeeze(torch.from_numpy(self.b3), dim = 1)\n",
        "        self.W4 = pd.read_csv(self.path_W4, header = None).to_numpy()\n",
        "        self.W4 = torch.squeeze(torch.from_numpy(self.W4))\n",
        "\n",
        "        self.A5 = pd.read_csv(self.path_A5, header = None)\n",
        "        self.A5 = self.A5.to_numpy()\n",
        "        self.A5 = torch.from_numpy(self.A5)\n",
        "        self.b5 = pd.read_csv(self.path_b5, header = None)\n",
        "        self.b5 = self.b5.to_numpy()\n",
        "        #self.b3 = torch.squeeze(torch.from_numpy(self.b3))\n",
        "        self.b5 = torch.squeeze(torch.from_numpy(self.b5), dim = 1)\n",
        "        self.W5 = pd.read_csv(self.path_W5, header = None).to_numpy()\n",
        "        self.W5 = torch.squeeze(torch.from_numpy(self.W5))\n",
        "        #print(self.b3.shape)\n",
        "\n",
        "        self.A2 = self.A2[:,self.W2>0]\n",
        "        self.A3 = self.A3[:,self.W3>0]\n",
        "        self.A4 = self.A4[:,self.W4>0]\n",
        "        self.A5 = self.A5[:,self.W5>0]\n",
        "\n",
        "\n",
        "    def forward(self, x):\n",
        "        #1st  layer\n",
        "        #x = self.bn1(x)\n",
        "        x = self.conv1(x)\n",
        "        x = self.bn1(x)\n",
        "        x = F.relu(x)\n",
        "\n",
        "        x = x[:,self.W2>0]\n",
        "        x = self.conv2(x)\n",
        "        x = self.bn2(x)\n",
        "        x = F.relu(x)\n",
        "\n",
        "        x = x[:,self.W3>0]\n",
        "        x = self.conv3(x)\n",
        "        x = self.bn3(x)\n",
        "        x = F.relu(x)\n",
        "\n",
        "        x = x[:,self.W4>0]\n",
        "        x = self.conv4(x)\n",
        "        x = self.bn4(x)\n",
        "        x = F.relu(x)\n",
        "\n",
        "        x = x[:,self.W5>0]\n",
        "        x = self.conv5(x)\n",
        "        #x = F.softmax(x)\n",
        "        x = F.sigmoid(x)\n",
        "        return x\n",
        "\n",
        "    def init_sparse(self, model):\n",
        "      self.conv1.weight = model.conv1.weight\n",
        "      self.conv1.bias = model.conv1.bias\n",
        "      self.bn1.running_mean = model.bn1.running_mean\n",
        "      self.bn1.running_var = model.bn1.running_var\n",
        "\n",
        "      self.conv2.weight = nn.Parameter(self.A2.reshape([self.A2.shape[0],self.A2.shape[1],1,1]));\n",
        "      self.conv2.bias = nn.Parameter(self.b2)\n",
        "      self.bn2.running_mean = model.bn2.running_mean\n",
        "      self.bn2.running_var = model.bn2.running_var\n",
        "\n",
        "      self.conv3.weight = nn.Parameter(self.A3.reshape([self.A3.shape[0],self.A3.shape[1],1,1]));\n",
        "      self.conv3.bias = nn.Parameter(self.b3)\n",
        "      self.bn3.running_mean = model.bn3.running_mean\n",
        "      self.bn3.running_var = model.bn3.running_var\n",
        "\n",
        "      self.conv4.weight = nn.Parameter(self.A4.reshape([self.A4.shape[0],self.A4.shape[1],1,1]));\n",
        "      self.conv4.bias = nn.Parameter(self.b4)\n",
        "      self.bn4.running_mean = model.bn4.running_mean\n",
        "      self.bn4.running_var = model.bn4.running_var\n",
        "\n",
        "      #print(self.conv3.weight.shape)\n",
        "      #print(self.conv3.bias.shape)\n",
        "      self.conv5.weight = nn.Parameter(self.A5.reshape([self.A5.shape[0],self.A5.shape[1],1,1]));\n",
        "      self.conv5.bias = nn.Parameter(self.b5)\n",
        "      #print(self.W1.shape)\n",
        "      #print(self.W2.shape)"
      ],
      "metadata": {
        "id": "ZSRpO0FZuMvY"
      },
      "execution_count": 14,
      "outputs": []
    },
    {
      "cell_type": "code",
      "source": [
        "model_sparse = SimplePerceptronSparse().double()\n",
        "print(count_parameters(model_sparse))\n",
        "print(count_parameters(model_sparse)/count_parameters(model))\n",
        "model_sparse.init_sparse(model)\n",
        "model_sparse.eval()"
      ],
      "metadata": {
        "id": "9LV9zYbha2cA",
        "colab": {
          "base_uri": "https://localhost:8080/"
        },
        "outputId": "268e6612-7fdc-4a8f-9507-6e404655ffaf"
      },
      "execution_count": 15,
      "outputs": [
        {
          "output_type": "stream",
          "name": "stdout",
          "text": [
            "60827\n",
            "0.12598772579178585\n"
          ]
        },
        {
          "output_type": "execute_result",
          "data": {
            "text/plain": [
              "SimplePerceptronSparse(\n",
              "  (conv1): Conv2d(2, 400, kernel_size=(1, 1), stride=(1, 1))\n",
              "  (conv2): Conv2d(19, 400, kernel_size=(1, 1), stride=(1, 1))\n",
              "  (conv3): Conv2d(50, 400, kernel_size=(1, 1), stride=(1, 1))\n",
              "  (conv4): Conv2d(77, 400, kernel_size=(1, 1), stride=(1, 1))\n",
              "  (conv5): Conv2d(26, 1, kernel_size=(1, 1), stride=(1, 1))\n",
              "  (bn1): BatchNorm2d(400, eps=1e-05, momentum=0.1, affine=False, track_running_stats=True)\n",
              "  (bn2): BatchNorm2d(400, eps=1e-05, momentum=0.1, affine=False, track_running_stats=True)\n",
              "  (bn3): BatchNorm2d(400, eps=1e-05, momentum=0.1, affine=False, track_running_stats=True)\n",
              "  (bn4): BatchNorm2d(400, eps=1e-05, momentum=0.1, affine=False, track_running_stats=True)\n",
              ")"
            ]
          },
          "metadata": {},
          "execution_count": 15
        }
      ]
    },
    {
      "cell_type": "code",
      "source": [
        "#train\n",
        "v = model_sparse(input)\n",
        "v[v>=0.5] = 1\n",
        "v[v<0.5] = 0\n",
        "#val\n",
        "v1 = model_sparse(input_v)\n",
        "v1[v1>=0.5] = 1\n",
        "v1[v1<0.5] = 0\n",
        "#test\n",
        "v2 = model_sparse(test_x)\n",
        "v2[v2>=0.5] = 1\n",
        "v2[v2<0.5] = 0\n",
        "\n",
        "print(accuracy(v[:,0,0,0],target))\n",
        "print(accuracy(v1[:,0,0,0],target_v))\n",
        "print(accuracy(v2[:,0,0,0],test_y))"
      ],
      "metadata": {
        "colab": {
          "base_uri": "https://localhost:8080/"
        },
        "id": "sG8Ozi8WITzE",
        "outputId": "d7698cae-69ae-4c08-839c-a1afa68ec37e"
      },
      "execution_count": 16,
      "outputs": [
        {
          "output_type": "stream",
          "name": "stdout",
          "text": [
            "tensor(0.9889)\n",
            "tensor(0.9882)\n",
            "tensor(0.9852)\n"
          ]
        }
      ]
    },
    {
      "cell_type": "code",
      "source": [
        "#grid\n",
        "x1 = np.array([0])\n",
        "x2 = np.array([0])\n",
        "for i in range(100):\n",
        "  for j in range(100):\n",
        "    x1 = np.concatenate([x1,[-1.5+3/100*i]])\n",
        "    x2 = np.concatenate([x2,[-1.5+3/100*j]])\n",
        "\n",
        "grid = torch.zeros([pow(10,4)+1,2,1,1])\n",
        "print(grid.shape)\n",
        "grid[:,0,0,0] = torch.from_numpy(x1)\n",
        "grid[:,1,0,0] = torch.from_numpy(x2)\n",
        "\n",
        "\n",
        "v = model_sparse(grid.double())\n",
        "v[v>=0.5] = 1\n",
        "v[v<0.5] = 0\n",
        "\n",
        "\n",
        "xA = grid[v[:,0,0,0]==1,0,0,0]\n",
        "yA = grid[v[:,0,0,0]==1,1,0,0]\n",
        "xB = grid[v[:,0,0,0]==0,0,0,0]\n",
        "yB = grid[v[:,0,0,0]==0,1,0,0]\n",
        "plt.scatter(xA,yA)\n",
        "plt.scatter(xB,yB)"
      ],
      "metadata": {
        "colab": {
          "base_uri": "https://localhost:8080/",
          "height": 465
        },
        "id": "HRUyHGVdIT1O",
        "outputId": "b9e902ae-c469-4e33-b56d-f4e038600f5c"
      },
      "execution_count": 17,
      "outputs": [
        {
          "output_type": "stream",
          "name": "stdout",
          "text": [
            "torch.Size([10001, 2, 1, 1])\n"
          ]
        },
        {
          "output_type": "execute_result",
          "data": {
            "text/plain": [
              "<matplotlib.collections.PathCollection at 0x7a2a3113e350>"
            ]
          },
          "metadata": {},
          "execution_count": 17
        },
        {
          "output_type": "display_data",
          "data": {
            "text/plain": [
              "<Figure size 640x480 with 1 Axes>"
            ],
            "image/png": "[encoded data removed]"
          },
          "metadata": {}
        }
      ]
    },
    {
      "cell_type": "code",
      "source": [
        "#grid\n",
        "x1 = np.array([0])\n",
        "x2 = np.array([0])\n",
        "for i in range(100):\n",
        "  for j in range(100):\n",
        "    x1 = np.concatenate([x1,[-1.5+3/100*i]])\n",
        "    x2 = np.concatenate([x2,[-1.5+3/100*j]])\n",
        "\n",
        "grid = torch.zeros([pow(10,4)+1,2,1,1])\n",
        "print(grid.shape)\n",
        "grid[:,0,0,0] = torch.from_numpy(x1)\n",
        "grid[:,1,0,0] = torch.from_numpy(x2)\n",
        "\n",
        "model.load_state_dict(torch.load(\"/content/FCC-swiss-roll-3turn-10k-large-corrected.pth\"))\n",
        "model.eval()\n",
        "v = model(grid.double())\n",
        "v[v>=0.5] = 1\n",
        "v[v<0.5] = 0\n",
        "\n",
        "\n",
        "xA = grid[v[:,0,0,0]==1,0,0,0]\n",
        "yA = grid[v[:,0,0,0]==1,1,0,0]\n",
        "xB = grid[v[:,0,0,0]==0,0,0,0]\n",
        "yB = grid[v[:,0,0,0]==0,1,0,0]\n",
        "plt.scatter(xA,yA)\n",
        "plt.scatter(xB,yB)"
      ],
      "metadata": {
        "colab": {
          "base_uri": "https://localhost:8080/",
          "height": 465
        },
        "id": "BMe8c1vvIjQH",
        "outputId": "f42a49b6-803e-4159-ca11-efde7d0b5a95"
      },
      "execution_count": 18,
      "outputs": [
        {
          "output_type": "stream",
          "name": "stdout",
          "text": [
            "torch.Size([10001, 2, 1, 1])\n"
          ]
        },
        {
          "output_type": "execute_result",
          "data": {
            "text/plain": [
              "<matplotlib.collections.PathCollection at 0x7a2a31409bd0>"
            ]
          },
          "metadata": {},
          "execution_count": 18
        },
        {
          "output_type": "display_data",
          "data": {
            "text/plain": [
              "<Figure size 640x480 with 1 Axes>"
            ],
            "image/png": "[encoded data removed]"
          },
          "metadata": {}
        }
      ]
    },
    {
      "cell_type": "code",
      "source": [
        "#model.load_state_dict(torch.load(\"/content/FCC-swiss-roll-2turn-10kbig.pth\"))\n",
        "model.load_state_dict(torch.load(\"/content/FCC-swiss-roll-3turn-10k-large-corrected.pth\"))\n",
        "model.eval()"
      ],
      "metadata": {
        "colab": {
          "base_uri": "https://localhost:8080/"
        },
        "id": "_F6C101ZIjTa",
        "outputId": "a4689c84-374c-4444-976a-57cd0ec0b5c0"
      },
      "execution_count": 19,
      "outputs": [
        {
          "output_type": "execute_result",
          "data": {
            "text/plain": [
              "SimplePerceptron(\n",
              "  (conv1): Conv2d(2, 400, kernel_size=(1, 1), stride=(1, 1))\n",
              "  (conv2): Conv2d(400, 400, kernel_size=(1, 1), stride=(1, 1))\n",
              "  (conv3): Conv2d(400, 400, kernel_size=(1, 1), stride=(1, 1))\n",
              "  (conv4): Conv2d(400, 400, kernel_size=(1, 1), stride=(1, 1))\n",
              "  (conv5): Conv2d(400, 1, kernel_size=(1, 1), stride=(1, 1))\n",
              "  (bn1): BatchNorm2d(400, eps=1e-05, momentum=0.1, affine=False, track_running_stats=True)\n",
              "  (bn2): BatchNorm2d(400, eps=1e-05, momentum=0.1, affine=False, track_running_stats=True)\n",
              "  (bn3): BatchNorm2d(400, eps=1e-05, momentum=0.1, affine=False, track_running_stats=True)\n",
              "  (bn4): BatchNorm2d(400, eps=1e-05, momentum=0.1, affine=False, track_running_stats=True)\n",
              ")"
            ]
          },
          "metadata": {},
          "execution_count": 19
        }
      ]
    },
    {
      "cell_type": "markdown",
      "source": [
        "## Sparse model - efficient implementation"
      ],
      "metadata": {
        "id": "hzqvB_z6KTWW"
      }
    },
    {
      "cell_type": "code",
      "source": [
        "class SimplePerceptronSparse2(nn.Module):\n",
        "\n",
        "    def __init__(self):\n",
        "        super(SimplePerceptronSparse2, self).__init__()\n",
        "        self.conv1 = nn.Conv2d(2,19,kernel_size = (1,1))\n",
        "        self.conv2 = nn.Conv2d(19,50,kernel_size = (1,1))\n",
        "        self.conv3 = nn.Conv2d(50,77,kernel_size = (1,1))\n",
        "        self.conv4 = nn.Conv2d(77,26,kernel_size = (1,1))\n",
        "        self.conv5 = nn.Conv2d(26,1,kernel_size = (1,1))\n",
        "\n",
        "        self.bn1 = nn.BatchNorm2d(19, affine=False)\n",
        "        self.bn2 = nn.BatchNorm2d(50, affine=False)\n",
        "        self.bn3 = nn.BatchNorm2d(77, affine=False)\n",
        "        self.bn4 = nn.BatchNorm2d(26, affine=False)\n",
        "\n",
        "\n",
        "        self.path_A2 = '/content/estAp3_layer2.csv'\n",
        "        self.path_b2 = '/content/estB_p3_layer2.csv'\n",
        "        self.path_W2 = '/content/W_p3_layer2.csv'\n",
        "\n",
        "        self.path_A3 = '/content/estAp3_layer3.csv'\n",
        "        self.path_b3 = '/content/estB_p3_layer3.csv'\n",
        "        self.path_W3 = '/content/W_p3_layer3.csv'\n",
        "\n",
        "        self.path_A4 = '/content/estAp3_layer4.csv'\n",
        "        self.path_b4 = '/content/estB_p3_layer4.csv'\n",
        "        self.path_W4 = '/content/W_p3_layer4.csv'\n",
        "\n",
        "        self.path_A5 = '/content/estAp3_layer5.csv'\n",
        "        self.path_b5 = '/content/estB_p3_layer5.csv'\n",
        "        self.path_W5 = '/content/W_p3_layer5.csv'\n",
        "\n",
        "        self.A2 = pd.read_csv(self.path_A2, header = None)\n",
        "        self.A2 = self.A2.to_numpy()\n",
        "        self.A2 = torch.from_numpy(self.A2)\n",
        "        self.b2 = pd.read_csv(self.path_b2, header = None)\n",
        "        self.b2 = self.b2.to_numpy()\n",
        "        self.b2 = torch.squeeze(torch.from_numpy(self.b2))\n",
        "        self.W2 = pd.read_csv(self.path_W2, header = None).to_numpy()\n",
        "        self.W2 = torch.squeeze(torch.from_numpy(self.W2))\n",
        "\n",
        "        self.A3 = pd.read_csv(self.path_A3, header = None)\n",
        "        self.A3 = self.A3.to_numpy()\n",
        "        self.A3 = torch.from_numpy(self.A3)\n",
        "        self.b3 = pd.read_csv(self.path_b3, header = None)\n",
        "        self.b3 = self.b3.to_numpy()\n",
        "        self.b3 = torch.squeeze(torch.from_numpy(self.b3))\n",
        "        #self.b3 = torch.squeeze(torch.from_numpy(self.b3), dim = 1)\n",
        "        self.W3 = pd.read_csv(self.path_W3, header = None).to_numpy()\n",
        "        self.W3 = torch.squeeze(torch.from_numpy(self.W3))\n",
        "\n",
        "        self.A4 = pd.read_csv(self.path_A4, header = None)\n",
        "        self.A4 = self.A4.to_numpy()\n",
        "        self.A4 = torch.from_numpy(self.A4)\n",
        "        self.b4 = pd.read_csv(self.path_b4, header = None)\n",
        "        self.b4 = self.b4.to_numpy()\n",
        "        self.b4 = torch.squeeze(torch.from_numpy(self.b4))\n",
        "        #self.b3 = torch.squeeze(torch.from_numpy(self.b3), dim = 1)\n",
        "        self.W4 = pd.read_csv(self.path_W4, header = None).to_numpy()\n",
        "        self.W4 = torch.squeeze(torch.from_numpy(self.W4))\n",
        "\n",
        "        self.A5 = pd.read_csv(self.path_A5, header = None)\n",
        "        self.A5 = self.A5.to_numpy()\n",
        "        self.A5 = torch.from_numpy(self.A5)\n",
        "        self.b5 = pd.read_csv(self.path_b5, header = None)\n",
        "        self.b5 = self.b5.to_numpy()\n",
        "        #self.b3 = torch.squeeze(torch.from_numpy(self.b3))\n",
        "        self.b5 = torch.squeeze(torch.from_numpy(self.b5), dim = 1)\n",
        "        self.W5 = pd.read_csv(self.path_W5, header = None).to_numpy()\n",
        "        self.W5 = torch.squeeze(torch.from_numpy(self.W5))\n",
        "        #print(self.b3.shape)\n",
        "\n",
        "        self.A2 = self.A2[:,self.W2>0]\n",
        "        self.A2 = self.A2[self.W3>0,:]\n",
        "        self.b2 = self.b2[self.W3>0]\n",
        "\n",
        "        self.A3 = self.A3[:,self.W3>0]\n",
        "        self.A3 = self.A3[self.W4>0,:]\n",
        "        self.b3 = self.b3[self.W4>0]\n",
        "\n",
        "        self.A4 = self.A4[:,self.W4>0]\n",
        "        self.A4 = self.A4[self.W5>0,:]\n",
        "        self.b4 = self.b4[self.W5>0]\n",
        "\n",
        "        self.A5 = self.A5[:,self.W5>0]\n",
        "\n",
        "    def forward(self, x):\n",
        "        #1st  layer\n",
        "        #x = self.bn1(x)\n",
        "        x = self.conv1(x)\n",
        "        x = self.bn1(x)\n",
        "        x = F.relu(x)\n",
        "\n",
        "        #x = x[:,self.W2>0]\n",
        "        x = self.conv2(x)\n",
        "        x = self.bn2(x)\n",
        "        x = F.relu(x)\n",
        "\n",
        "        #x = x[:,self.W3>0]\n",
        "        x = self.conv3(x)\n",
        "        x = self.bn3(x)\n",
        "        x = F.relu(x)\n",
        "\n",
        "        #x = x[:,self.W4>0]\n",
        "        x = self.conv4(x)\n",
        "        x = self.bn4(x)\n",
        "        x = F.relu(x)\n",
        "\n",
        "        #x = x[:,self.W5>0]\n",
        "        x = self.conv5(x)\n",
        "        #x = F.softmax(x)\n",
        "        x = F.sigmoid(x)\n",
        "        return x\n",
        "\n",
        "    def init_sparse(self, model):\n",
        "        self.conv1.weight = nn.Parameter(model.conv1.weight[self.W2>0,:])\n",
        "        self.conv1.bias = nn.Parameter(model.conv1.bias[self.W2>0])\n",
        "        self.bn1.running_mean = model.bn1.running_mean[self.W2>0]\n",
        "        self.bn1.running_var = model.bn1.running_var[self.W2>0]\n",
        "\n",
        "        self.conv2.weight = nn.Parameter(self.A2.reshape([self.A2.shape[0],self.A2.shape[1],1,1]));\n",
        "        self.conv2.bias = nn.Parameter(self.b2)\n",
        "        self.bn2.running_mean = model.bn2.running_mean[self.W3>0]\n",
        "        self.bn2.running_var = model.bn2.running_var[self.W3>0]\n",
        "\n",
        "        self.conv3.weight = nn.Parameter(self.A3.reshape([self.A3.shape[0],self.A3.shape[1],1,1]));\n",
        "        self.conv3.bias = nn.Parameter(self.b3)\n",
        "        self.bn3.running_mean = model.bn3.running_mean[self.W4>0]\n",
        "        self.bn3.running_var = model.bn3.running_var[self.W4>0]\n",
        "\n",
        "        self.conv4.weight = nn.Parameter(self.A4.reshape([self.A4.shape[0],self.A4.shape[1],1,1]));\n",
        "        self.conv4.bias = nn.Parameter(self.b4)\n",
        "        self.bn4.running_mean = model.bn4.running_mean[self.W5>0]\n",
        "        self.bn4.running_var = model.bn4.running_var[self.W5>0]\n",
        "\n",
        "        #print(self.conv3.weight.shape)\n",
        "        #print(self.conv3.bias.shape)\n",
        "        self.conv5.weight = nn.Parameter(self.A5.reshape([self.A5.shape[0],self.A5.shape[1],1,1]));\n",
        "        self.conv5.bias = nn.Parameter(self.b5)\n",
        "        #print(self.W1.shape)\n",
        "        #print(self.W2.shape)"
      ],
      "metadata": {
        "id": "Zn08tnS-IUG7"
      },
      "execution_count": 20,
      "outputs": []
    },
    {
      "cell_type": "code",
      "source": [
        "model_sparse2 = SimplePerceptronSparse2().double()\n",
        "print(count_parameters(model_sparse2))\n",
        "print(count_parameters(model_sparse2)/count_parameters(model))\n",
        "model_sparse2.init_sparse(model)\n",
        "model_sparse2.eval()"
      ],
      "metadata": {
        "colab": {
          "base_uri": "https://localhost:8080/"
        },
        "id": "I6Bzu8VkIUId",
        "outputId": "b457c320-12bb-423f-f684-bbaebaf77935"
      },
      "execution_count": 21,
      "outputs": [
        {
          "output_type": "stream",
          "name": "stdout",
          "text": [
            "7039\n",
            "0.014579505841951446\n"
          ]
        },
        {
          "output_type": "execute_result",
          "data": {
            "text/plain": [
              "SimplePerceptronSparse2(\n",
              "  (conv1): Conv2d(2, 19, kernel_size=(1, 1), stride=(1, 1))\n",
              "  (conv2): Conv2d(19, 50, kernel_size=(1, 1), stride=(1, 1))\n",
              "  (conv3): Conv2d(50, 77, kernel_size=(1, 1), stride=(1, 1))\n",
              "  (conv4): Conv2d(77, 26, kernel_size=(1, 1), stride=(1, 1))\n",
              "  (conv5): Conv2d(26, 1, kernel_size=(1, 1), stride=(1, 1))\n",
              "  (bn1): BatchNorm2d(19, eps=1e-05, momentum=0.1, affine=False, track_running_stats=True)\n",
              "  (bn2): BatchNorm2d(50, eps=1e-05, momentum=0.1, affine=False, track_running_stats=True)\n",
              "  (bn3): BatchNorm2d(77, eps=1e-05, momentum=0.1, affine=False, track_running_stats=True)\n",
              "  (bn4): BatchNorm2d(26, eps=1e-05, momentum=0.1, affine=False, track_running_stats=True)\n",
              ")"
            ]
          },
          "metadata": {},
          "execution_count": 21
        }
      ]
    },
    {
      "cell_type": "code",
      "source": [
        "#train\n",
        "v = model_sparse2(input)\n",
        "v[v>=0.5] = 1\n",
        "v[v<0.5] = 0\n",
        "#val\n",
        "v1 = model_sparse2(input_v)\n",
        "v1[v1>=0.5] = 1\n",
        "v1[v1<0.5] = 0\n",
        "#test\n",
        "v2 = model_sparse2(test_x)\n",
        "v2[v2>=0.5] = 1\n",
        "v2[v2<0.5] = 0\n",
        "\n",
        "print(accuracy(v[:,0,0,0],target))\n",
        "print(accuracy(v1[:,0,0,0],target_v))\n",
        "print(accuracy(v2[:,0,0,0],test_y))"
      ],
      "metadata": {
        "colab": {
          "base_uri": "https://localhost:8080/"
        },
        "id": "O6eQ46M2LVT_",
        "outputId": "17373ff2-b787-4324-d43c-595b6233dd5f"
      },
      "execution_count": 22,
      "outputs": [
        {
          "output_type": "stream",
          "name": "stdout",
          "text": [
            "tensor(0.9889)\n",
            "tensor(0.9882)\n",
            "tensor(0.9852)\n"
          ]
        }
      ]
    },
    {
      "cell_type": "code",
      "source": [
        "#grid\n",
        "x1 = np.array([0])\n",
        "x2 = np.array([0])\n",
        "for i in range(100):\n",
        "  for j in range(100):\n",
        "    x1 = np.concatenate([x1,[-1.5+3/100*i]])\n",
        "    x2 = np.concatenate([x2,[-1.5+3/100*j]])\n",
        "\n",
        "grid = torch.zeros([pow(10,4)+1,2,1,1])\n",
        "print(grid.shape)\n",
        "grid[:,0,0,0] = torch.from_numpy(x1)\n",
        "grid[:,1,0,0] = torch.from_numpy(x2)\n",
        "\n",
        "\n",
        "v = model_sparse2(grid.double())\n",
        "v[v>=0.5] = 1\n",
        "v[v<0.5] = 0\n",
        "\n",
        "\n",
        "xA = grid[v[:,0,0,0]==1,0,0,0]\n",
        "yA = grid[v[:,0,0,0]==1,1,0,0]\n",
        "xB = grid[v[:,0,0,0]==0,0,0,0]\n",
        "yB = grid[v[:,0,0,0]==0,1,0,0]\n",
        "plt.scatter(xA,yA)\n",
        "plt.scatter(xB,yB)"
      ],
      "metadata": {
        "colab": {
          "base_uri": "https://localhost:8080/",
          "height": 465
        },
        "id": "ZTL6Lr03LVWr",
        "outputId": "33b38a09-bd82-4cc3-85c9-c5b1edd4ccba"
      },
      "execution_count": 23,
      "outputs": [
        {
          "output_type": "stream",
          "name": "stdout",
          "text": [
            "torch.Size([10001, 2, 1, 1])\n"
          ]
        },
        {
          "output_type": "execute_result",
          "data": {
            "text/plain": [
              "<matplotlib.collections.PathCollection at 0x7a2a304a0850>"
            ]
          },
          "metadata": {},
          "execution_count": 23
        },
        {
          "output_type": "display_data",
          "data": {
            "text/plain": [
              "<Figure size 640x480 with 1 Axes>"
            ],
            "image/png": "[encoded data removed]"
          },
          "metadata": {}
        }
      ]
    },
    {
      "cell_type": "code",
      "source": [],
      "metadata": {
        "id": "kX5v-GgqLVZs"
      },
      "execution_count": null,
      "outputs": []
    },
    {
      "cell_type": "markdown",
      "source": [
        "Fine tuning"
      ],
      "metadata": {
        "id": "D8UPmJMmdblI"
      }
    },
    {
      "cell_type": "code",
      "source": [
        "model = model_sparse2\n",
        "model.train()"
      ],
      "metadata": {
        "id": "Lb_i0cwQIULn",
        "outputId": "1ba4f17c-afc5-4568-bcf2-91c24efd621b",
        "colab": {
          "base_uri": "https://localhost:8080/"
        }
      },
      "execution_count": 24,
      "outputs": [
        {
          "output_type": "execute_result",
          "data": {
            "text/plain": [
              "SimplePerceptronSparse2(\n",
              "  (conv1): Conv2d(2, 19, kernel_size=(1, 1), stride=(1, 1))\n",
              "  (conv2): Conv2d(19, 50, kernel_size=(1, 1), stride=(1, 1))\n",
              "  (conv3): Conv2d(50, 77, kernel_size=(1, 1), stride=(1, 1))\n",
              "  (conv4): Conv2d(77, 26, kernel_size=(1, 1), stride=(1, 1))\n",
              "  (conv5): Conv2d(26, 1, kernel_size=(1, 1), stride=(1, 1))\n",
              "  (bn1): BatchNorm2d(19, eps=1e-05, momentum=0.1, affine=False, track_running_stats=True)\n",
              "  (bn2): BatchNorm2d(50, eps=1e-05, momentum=0.1, affine=False, track_running_stats=True)\n",
              "  (bn3): BatchNorm2d(77, eps=1e-05, momentum=0.1, affine=False, track_running_stats=True)\n",
              "  (bn4): BatchNorm2d(26, eps=1e-05, momentum=0.1, affine=False, track_running_stats=True)\n",
              ")"
            ]
          },
          "metadata": {},
          "execution_count": 24
        }
      ]
    },
    {
      "cell_type": "code",
      "source": [
        "n_epochs = 10 # or whatever\n",
        "batch_size = 50 # or whatever\n",
        "train_num = 10000\n",
        "\n",
        "optimizer = optim.Adam(model.parameters(), lr = 0.0001)\n",
        "scheduler = sched.StepLR(optimizer, step_size=4, gamma=0.5)\n",
        "\n",
        "input = train_x[:10000].double()\n",
        "target = train_y[:10000].double()\n",
        "\n",
        "input_v = train_x[10000:].double()\n",
        "target_v = train_y[10000:].double()\n",
        "\n",
        "criterion_val = nn.BCELoss()\n",
        "#criterion_val = loss = nn.CrossEntropyLoss()\n",
        "\n",
        "for epoch in range(n_epochs):\n",
        "\n",
        "    # X is a torch Variable\n",
        "    permutation = torch.randperm(train_num)\n",
        "    if(epoch % 2 == 1):\n",
        "        print(\"Epoch:\")\n",
        "        print(epoch)\n",
        "        print(\"Train loss:\")\n",
        "        print(t_loss/train_num*batch_size)\n",
        "        print(\"val:\")\n",
        "        val_loss=0\n",
        "        model.eval()\n",
        "        v1 = model(input_v)\n",
        "        #for i in range(200):\n",
        "            #v1 = model(input_v[(i*50):((i+1)*50)])\n",
        "            #v2  = target_v[(i*50):((i+1)*50)]\n",
        "            #v1 = torch.argmax(v1, dim=1)\n",
        "            #print(v1.shape)\n",
        "        val_loss = criterion_val(v1[:,0,0,0],target_v)\n",
        "        #gc.collect()\n",
        "        #val_loss = val_loss + criterion_val(v1[:,:,0,0],v2)\n",
        "        #print(criterion_val(model.forward(val_x2), val_y2))\n",
        "        print(\"Validation loss:\")\n",
        "        print(val_loss)\n",
        "        print(\"--------\")\n",
        "        model.train()\n",
        "    t_loss = 0\n",
        "    gc.collect()\n",
        "\n",
        "    for i in range(0,train_num, batch_size):\n",
        "        optimizer.zero_grad()\n",
        "        indices = permutation[i:(i+batch_size)]\n",
        "        batch_x = input[indices]\n",
        "        batch_y = target[indices]\n",
        "        #batch_w = input_w[indices]\n",
        "        #criterion3 = nn.BCELoss(weight=batch_w)\n",
        "        #print(batch_x.shape)\n",
        "        outputs = model.forward(batch_x)\n",
        "        #print(outputs[:,:,0,0].shape)\n",
        "        #print(torch.max(outputs[:,:,0,0]))\n",
        "        #print(torch.max(batch_y))\n",
        "        #print(torch.min(batch_y))\n",
        "        #print(batch_y.shape)\n",
        "        #loss = criterion3(outputs,batch_y)\n",
        "        loss = criterion_val(outputs[:,0,0,0],batch_y)\n",
        "        #print(loss)\n",
        "\n",
        "        if(epoch % 2 == 0):\n",
        "            t_loss += loss\n",
        "\n",
        "        loss.backward()\n",
        "        optimizer.step()\n",
        "        gc.collect()\n",
        "\n",
        "    scheduler.step()\n",
        "    gc.collect()"
      ],
      "metadata": {
        "id": "gnVvIARGdR8h",
        "outputId": "863fa560-fbc5-4df7-f1e9-855bbe84116b",
        "colab": {
          "base_uri": "https://localhost:8080/"
        }
      },
      "execution_count": 25,
      "outputs": [
        {
          "output_type": "stream",
          "name": "stdout",
          "text": [
            "Epoch:\n",
            "1\n",
            "Train loss:\n",
            "tensor(0.4917, dtype=torch.float64, grad_fn=<MulBackward0>)\n",
            "val:\n",
            "Validation loss:\n",
            "tensor(0.2548, dtype=torch.float64, grad_fn=<BinaryCrossEntropyBackward0>)\n",
            "--------\n",
            "Epoch:\n",
            "3\n",
            "Train loss:\n",
            "tensor(0.5136, dtype=torch.float64, grad_fn=<MulBackward0>)\n",
            "val:\n",
            "Validation loss:\n",
            "tensor(0.2600, dtype=torch.float64, grad_fn=<BinaryCrossEntropyBackward0>)\n",
            "--------\n",
            "Epoch:\n",
            "5\n",
            "Train loss:\n",
            "tensor(0.5223, dtype=torch.float64, grad_fn=<MulBackward0>)\n",
            "val:\n",
            "Validation loss:\n",
            "tensor(0.2524, dtype=torch.float64, grad_fn=<BinaryCrossEntropyBackward0>)\n",
            "--------\n",
            "Epoch:\n",
            "7\n",
            "Train loss:\n",
            "tensor(0.4959, dtype=torch.float64, grad_fn=<MulBackward0>)\n",
            "val:\n",
            "Validation loss:\n",
            "tensor(0.2370, dtype=torch.float64, grad_fn=<BinaryCrossEntropyBackward0>)\n",
            "--------\n",
            "Epoch:\n",
            "9\n",
            "Train loss:\n",
            "tensor(0.5117, dtype=torch.float64, grad_fn=<MulBackward0>)\n",
            "val:\n",
            "Validation loss:\n",
            "tensor(0.2434, dtype=torch.float64, grad_fn=<BinaryCrossEntropyBackward0>)\n",
            "--------\n"
          ]
        }
      ]
    },
    {
      "cell_type": "code",
      "source": [
        "#train\n",
        "model.eval()\n",
        "v = model(input)\n",
        "v[v>=0.5] = 1\n",
        "v[v<0.5] = 0\n",
        "#val\n",
        "v1 = model(input_v)\n",
        "v1[v1>=0.5] = 1\n",
        "v1[v1<0.5] = 0\n",
        "#test\n",
        "v2 = model(test_x)\n",
        "v2[v2>=0.5] = 1\n",
        "v2[v2<0.5] = 0\n",
        "\n",
        "print(\"-------\")\n",
        "print(accuracy(v[:,0,0,0],target))\n",
        "print(accuracy(v1[:,0,0,0],target_v))\n",
        "print(accuracy(v2[:,0,0,0],test_y))"
      ],
      "metadata": {
        "id": "hkHHUrAKdR_i",
        "outputId": "80874e0e-f90e-4f30-e80a-5225249a1027",
        "colab": {
          "base_uri": "https://localhost:8080/"
        }
      },
      "execution_count": 28,
      "outputs": [
        {
          "output_type": "stream",
          "name": "stdout",
          "text": [
            "-------\n",
            "tensor(0.9953)\n",
            "tensor(0.9948)\n",
            "tensor(0.9928)\n"
          ]
        }
      ]
    },
    {
      "cell_type": "code",
      "source": [
        "#grid\n",
        "x1 = np.array([0])\n",
        "x2 = np.array([0])\n",
        "for i in range(100):\n",
        "  for j in range(100):\n",
        "    x1 = np.concatenate([x1,[-1.5+3/100*i]])\n",
        "    x2 = np.concatenate([x2,[-1.5+3/100*j]])\n",
        "\n",
        "grid = torch.zeros([pow(10,4)+1,2,1,1])\n",
        "print(grid.shape)\n",
        "grid[:,0,0,0] = torch.from_numpy(x1)\n",
        "grid[:,1,0,0] = torch.from_numpy(x2)\n",
        "\n",
        "v = model(grid.double())\n",
        "v[v>=0.5] = 1\n",
        "v[v<0.5] = 0\n",
        "\n",
        "\n",
        "xA = grid[v[:,0,0,0]==1,0,0,0]\n",
        "yA = grid[v[:,0,0,0]==1,1,0,0]\n",
        "xB = grid[v[:,0,0,0]==0,0,0,0]\n",
        "yB = grid[v[:,0,0,0]==0,1,0,0]\n",
        "plt.scatter(xA,yA)\n",
        "plt.scatter(xB,yB)"
      ],
      "metadata": {
        "id": "2xc7skBjdYL-",
        "outputId": "84688630-8388-4ec0-d153-11e72f47a95c",
        "colab": {
          "base_uri": "https://localhost:8080/",
          "height": 465
        }
      },
      "execution_count": 29,
      "outputs": [
        {
          "output_type": "stream",
          "name": "stdout",
          "text": [
            "torch.Size([10001, 2, 1, 1])\n"
          ]
        },
        {
          "output_type": "execute_result",
          "data": {
            "text/plain": [
              "<matplotlib.collections.PathCollection at 0x7a2a30143010>"
            ]
          },
          "metadata": {},
          "execution_count": 29
        },
        {
          "output_type": "display_data",
          "data": {
            "text/plain": [
              "<Figure size 640x480 with 1 Axes>"
            ],
            "image/png": "[encoded data removed]"
          },
          "metadata": {}
        }
      ]
    },
    {
      "cell_type": "code",
      "source": [],
      "metadata": {
        "id": "kb4N68gafogE"
      },
      "execution_count": null,
      "outputs": []
    }
  ]
}