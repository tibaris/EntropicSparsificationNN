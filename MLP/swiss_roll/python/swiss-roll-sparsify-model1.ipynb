{
  "nbformat": 4,
  "nbformat_minor": 0,
  "metadata": {
    "colab": {
      "provenance": [],
      "authorship_tag": "ABX9TyNSXQG4qQZTO2IWXskfWjUK",
      "include_colab_link": true
    },
    "kernelspec": {
      "name": "python3",
      "display_name": "Python 3"
    },
    "language_info": {
      "name": "python"
    }
  },
  "cells": [
    {
      "cell_type": "markdown",
      "metadata": {
        "id": "view-in-github",
        "colab_type": "text"
      },
      "source": [
        "<a href=\"https://colab.research.google.com/github/tibaris/EntropicSparsificationNN/blob/main/swiss-roll-sparsify-model1.ipynb\" target=\"_parent\"><img src=\"https://colab.research.google.com/assets/colab-badge.svg\" alt=\"Open In Colab\"/></a>"
      ]
    },
    {
      "cell_type": "code",
      "execution_count": 1,
      "metadata": {
        "id": "y3VNNY28auqT"
      },
      "outputs": [],
      "source": [
        "from skimage import io, exposure\n",
        "\n",
        "import numpy as np\n",
        "import scipy\n",
        "import scipy.ndimage\n",
        "import matplotlib.pyplot as plt\n",
        "\n",
        "from sklearn.metrics import confusion_matrix\n",
        "from sklearn import metrics\n",
        "from scipy.ndimage import gaussian_filter\n",
        "\n",
        "import time\n",
        "from skimage.color import rgb2gray\n",
        "from skimage.transform import rescale"
      ]
    },
    {
      "cell_type": "code",
      "source": [
        "\n",
        "\n",
        "import torch\n",
        "import torch.nn as nn\n",
        "import torch.nn.functional as F\n",
        "import torch.optim as optim\n",
        "import torch.optim.lr_scheduler as sched\n",
        "\n",
        "import csv\n",
        "import pandas as pd\n",
        "import time\n",
        "import gc\n",
        "import sys"
      ],
      "metadata": {
        "id": "v7RQfcSBa2Kj"
      },
      "execution_count": 2,
      "outputs": []
    },
    {
      "cell_type": "code",
      "source": [
        "def count_parameters(model): return sum(p.numel() for p in model.parameters() if p.requires_grad)"
      ],
      "metadata": {
        "id": "9t-8B5kQa2NE"
      },
      "execution_count": 3,
      "outputs": []
    },
    {
      "cell_type": "markdown",
      "source": [
        "# Case 1: One turn"
      ],
      "metadata": {
        "id": "LGg64JiNbNHx"
      }
    },
    {
      "cell_type": "code",
      "source": [
        "train_data = pd.read_csv(\"/content/swissroll-10000-turn1.csv\", header=None)\n",
        "train_data = train_data.to_numpy()"
      ],
      "metadata": {
        "id": "FjRSxscKa2Pk"
      },
      "execution_count": 4,
      "outputs": []
    },
    {
      "cell_type": "code",
      "source": [
        "train_data = np.transpose(train_data)\n",
        "train_data = torch.from_numpy(train_data)\n",
        "print(train_data.shape)\n",
        "\n",
        "train_num = train_data.shape[0]\n",
        "torch.manual_seed(0)\n",
        "permutation = torch.randperm(train_num)\n",
        "\n",
        "train_x = train_data[permutation[:15000],:]\n",
        "train_y = (permutation[:15000]<train_num/2)*1\n",
        "train_x = train_x.reshape([train_x.shape[0],train_x.shape[1],1,1])\n",
        "print(train_x.shape)\n",
        "print(train_y.shape)"
      ],
      "metadata": {
        "id": "CH0jYiIha2SA",
        "colab": {
          "base_uri": "https://localhost:8080/"
        },
        "outputId": "15536753-6f8d-413a-cfc6-65a32a82763b"
      },
      "execution_count": 5,
      "outputs": [
        {
          "output_type": "stream",
          "name": "stdout",
          "text": [
            "torch.Size([20000, 2])\n",
            "torch.Size([15000, 2, 1, 1])\n",
            "torch.Size([15000])\n"
          ]
        }
      ]
    },
    {
      "cell_type": "code",
      "source": [
        "input = train_x[:10000].double()\n",
        "target = train_y[:10000].double()\n",
        "\n",
        "input_v = train_x[10000:].double()\n",
        "target_v = train_y[10000:].double()\n",
        "\n",
        "test_x = train_data[permutation[15000:],:]\n",
        "test_x = test_x.reshape([test_x.shape[0],test_x.shape[1],1,1])\n",
        "test_y = (permutation[15000:]<train_num/2)*1"
      ],
      "metadata": {
        "id": "ia-pItPomLQN"
      },
      "execution_count": 6,
      "outputs": []
    },
    {
      "cell_type": "markdown",
      "source": [],
      "metadata": {
        "id": "52JUTJ6DrhOk"
      }
    },
    {
      "cell_type": "code",
      "source": [
        "#A = pd.read_csv('/content/estB_p3_layer3.csv', header = None)\n",
        "#A.shape"
      ],
      "metadata": {
        "id": "pVJGPGqHrZkO"
      },
      "execution_count": 7,
      "outputs": []
    },
    {
      "cell_type": "code",
      "source": [
        "class SimplePerceptron(nn.Module):\n",
        "\n",
        "    def __init__(self):\n",
        "        super(SimplePerceptron, self).__init__()\n",
        "        self.conv1 = nn.Conv2d(2,400,kernel_size = (1,1))\n",
        "        self.conv2 = nn.Conv2d(400,400,kernel_size = (1,1))\n",
        "        self.conv3 = nn.Conv2d(400,1,kernel_size = (1,1))\n",
        "\n",
        "        self.bn1 = nn.BatchNorm2d(400, affine=False)\n",
        "        self.bn2 = nn.BatchNorm2d(400, affine=False)\n",
        "\n",
        "        self.path_A2 = '/content/estAp3_layer2.csv'\n",
        "        self.path_b2 = '/content/estB_p3_layer2.csv'\n",
        "        self.path_W2 = '/content/W_p3_layer2.csv'\n",
        "\n",
        "        self.path_A3 = '/content/estAp3_layer3.csv'\n",
        "        self.path_b3 = '/content/estB_p3_layer3.csv'\n",
        "        self.path_W3 = '/content/W_p3_layer3.csv'\n",
        "\n",
        "        self.A2 = pd.read_csv(self.path_A2, header = None)\n",
        "        self.A2 = self.A2.to_numpy()\n",
        "        self.A2 = torch.from_numpy(self.A2)\n",
        "        self.b2 = pd.read_csv(self.path_b2, header = None)\n",
        "        self.b2 = self.b2.to_numpy()\n",
        "        self.b2 = torch.squeeze(torch.from_numpy(self.b2))\n",
        "        self.W2 = pd.read_csv(self.path_W2, header = None).to_numpy()\n",
        "\n",
        "        self.A3 = pd.read_csv(self.path_A3, header = None)\n",
        "        self.A3 = self.A3.to_numpy()\n",
        "        self.A3 = torch.from_numpy(self.A3)\n",
        "        self.b3 = pd.read_csv(self.path_b3, header = None)\n",
        "        self.b3 = self.b3.to_numpy()\n",
        "        #self.b3 = torch.squeeze(torch.from_numpy(self.b3))\n",
        "        self.b3 = torch.squeeze(torch.from_numpy(self.b3), dim = 1)\n",
        "        self.W3 = pd.read_csv(self.path_W3, header = None).to_numpy()\n",
        "        #print(self.b3.shape)\n",
        "\n",
        "\n",
        "    def forward(self, x):\n",
        "        #1st  layer\n",
        "        x = self.conv1(x)\n",
        "        x = self.bn1(x)\n",
        "        x = F.relu(x)\n",
        "\n",
        "        x = self.conv2(x)\n",
        "        x = self.bn2(x)\n",
        "        x = F.relu(x)\n",
        "\n",
        "        #print(x.shape)\n",
        "        x = self.conv3(x)\n",
        "        #print(x.shape)\n",
        "        #x = F.softmax(x)\n",
        "        x = F.sigmoid(x)\n",
        "        return x\n",
        "\n",
        "    def forward_sparse(self, x):\n",
        "        #1st  layer\n",
        "        x = self.conv1(x)\n",
        "        x = self.bn1(x)\n",
        "        x = F.relu(x)\n",
        "\n",
        "        x = self.my_conv2(x)\n",
        "        #x = self.conv2(x)\n",
        "        x = self.bn2(x)\n",
        "        x = F.relu(x)\n",
        "\n",
        "        x = self.my_conv3(x)\n",
        "        #x = self.conv3(x)\n",
        "        #x = F.softmax(x)\n",
        "        x = F.sigmoid(x)\n",
        "        return x\n",
        "\n",
        "    def my_conv2(self,x):\n",
        "        x = torch.matmul(torch.squeeze(self.A2), torch.transpose(torch.squeeze(x),0,1))  #+ torch.squeeze(b)\n",
        "        #print(x.shape)\n",
        "        #print(self.b2.shape)\n",
        "        x = torch.transpose(x,0,1) + self.b2\n",
        "        x = torch.unsqueeze(torch.unsqueeze(x,2),2)\n",
        "        #print(x.shape)\n",
        "        #x = torch.unsqueeze(torch.unsqueeze(res,2),2)\n",
        "        return x\n",
        "\n",
        "    def my_conv3(self,x):\n",
        "        x = torch.matmul(torch.squeeze(self.A3), torch.transpose(torch.squeeze(x),0,1))  #+ torch.squeeze(b)\n",
        "        #print(x.shape)\n",
        "        #print(self.b3.shape)\n",
        "        x = x + self.b3\n",
        "        #print(x.shape)\n",
        "        x = torch.unsqueeze(torch.unsqueeze(torch.unsqueeze(x,1),2),2)\n",
        "        #print(x.shape)\n",
        "        #x = torch.unsqueeze(torch.unsqueeze(res,2),2)\n",
        "        return x\n",
        "\n",
        "    def sparsity(self):\n",
        "        return (sum(sum(self.W2>0))+sum(sum(self.W3>0)))/(sum(sum(self.W2>0))+sum(sum(self.W3>=0)))\n",
        "\n",
        "    def sparsity2(self):\n",
        "        return (sum(sum(self.W2>0)), sum(sum(self.W3>0)))"
      ],
      "metadata": {
        "id": "okzePmiwa2UX"
      },
      "execution_count": 8,
      "outputs": []
    },
    {
      "cell_type": "code",
      "source": [
        "model = SimplePerceptron().double()\n",
        "print(count_parameters(model))"
      ],
      "metadata": {
        "id": "VNPBqI1cbfaD",
        "colab": {
          "base_uri": "https://localhost:8080/"
        },
        "outputId": "1b14f907-2b66-4adc-d577-daa97e6bb354"
      },
      "execution_count": 9,
      "outputs": [
        {
          "output_type": "stream",
          "name": "stdout",
          "text": [
            "162001\n"
          ]
        }
      ]
    },
    {
      "cell_type": "code",
      "source": [
        "model.load_state_dict(torch.load(\"/content/FCC-swiss-roll-1turn-10k.pth\"))\n",
        "model.eval()"
      ],
      "metadata": {
        "id": "qTawJgrKbfc7",
        "colab": {
          "base_uri": "https://localhost:8080/"
        },
        "outputId": "bac8bd08-81de-4140-f9ff-3ca9ed8d5e53"
      },
      "execution_count": 10,
      "outputs": [
        {
          "output_type": "execute_result",
          "data": {
            "text/plain": [
              "SimplePerceptron(\n",
              "  (conv1): Conv2d(2, 400, kernel_size=(1, 1), stride=(1, 1))\n",
              "  (conv2): Conv2d(400, 400, kernel_size=(1, 1), stride=(1, 1))\n",
              "  (conv3): Conv2d(400, 1, kernel_size=(1, 1), stride=(1, 1))\n",
              "  (bn1): BatchNorm2d(400, eps=1e-05, momentum=0.1, affine=False, track_running_stats=True)\n",
              "  (bn2): BatchNorm2d(400, eps=1e-05, momentum=0.1, affine=False, track_running_stats=True)\n",
              ")"
            ]
          },
          "metadata": {},
          "execution_count": 10
        }
      ]
    },
    {
      "cell_type": "code",
      "source": [
        "def accuracy(y1,y2):\n",
        "    train_acc = torch.sum(y1 == y2)\n",
        "    #print(train_acc)\n",
        "    final_train_acc = train_acc/y2.shape[0]\n",
        "    return final_train_acc"
      ],
      "metadata": {
        "id": "egtuMsfXuquB"
      },
      "execution_count": 11,
      "outputs": []
    },
    {
      "cell_type": "code",
      "source": [
        "#train\n",
        "v = model(input)\n",
        "v[v>=0.5] = 1\n",
        "v[v<0.5] = 0\n",
        "#val\n",
        "v1 = model(input_v)\n",
        "v1[v1>=0.5] = 1\n",
        "v1[v1<0.5] = 0\n",
        "#test\n",
        "v2 = model(test_x)\n",
        "v2[v2>=0.5] = 1\n",
        "v2[v2<0.5] = 0\n",
        "\n",
        "print(accuracy(v[:,0,0,0],target))\n",
        "print(accuracy(v1[:,0,0,0],target_v))\n",
        "print(accuracy(v2[:,0,0,0],test_y))"
      ],
      "metadata": {
        "id": "ZSRpO0FZuMvY",
        "colab": {
          "base_uri": "https://localhost:8080/"
        },
        "outputId": "27077702-7bbe-4ba4-aec5-191f156a8b67"
      },
      "execution_count": 12,
      "outputs": [
        {
          "output_type": "stream",
          "name": "stdout",
          "text": [
            "tensor(1.)\n",
            "tensor(1.)\n",
            "tensor(1.)\n"
          ]
        }
      ]
    },
    {
      "cell_type": "code",
      "source": [
        "#train\n",
        "v = model.forward_sparse(input)\n",
        "v[v>=0.5] = 1\n",
        "v[v<0.5] = 0\n",
        "#val\n",
        "v1 = model.forward_sparse(input_v)\n",
        "v1[v1>=0.5] = 1\n",
        "v1[v1<0.5] = 0\n",
        "#test\n",
        "v2 = model.forward_sparse(test_x)\n",
        "v2[v2>=0.5] = 1\n",
        "v2[v2<0.5] = 0\n",
        "\n",
        "print(accuracy(v[:,0,0,0],target))\n",
        "print(accuracy(v1[:,0,0,0],target_v))\n",
        "print(accuracy(v2[:,0,0,0],test_y))"
      ],
      "metadata": {
        "colab": {
          "base_uri": "https://localhost:8080/"
        },
        "id": "a_b8yhEnlwCo",
        "outputId": "47759857-a12f-4650-a4eb-71364727a4fb"
      },
      "execution_count": 13,
      "outputs": [
        {
          "output_type": "stream",
          "name": "stdout",
          "text": [
            "tensor(1.)\n",
            "tensor(1.)\n",
            "tensor(1.)\n"
          ]
        }
      ]
    },
    {
      "cell_type": "code",
      "source": [
        "print(model.sparsity())\n",
        "print(model.sparsity2())"
      ],
      "metadata": {
        "colab": {
          "base_uri": "https://localhost:8080/"
        },
        "id": "zOZGbibKlwHn",
        "outputId": "fa6ef1aa-1f2e-4399-ae0b-e059736d809a"
      },
      "execution_count": 14,
      "outputs": [
        {
          "output_type": "stream",
          "name": "stdout",
          "text": [
            "0.09134615384615384\n",
            "(16, 22)\n"
          ]
        }
      ]
    },
    {
      "cell_type": "markdown",
      "source": [
        "## Sparse model"
      ],
      "metadata": {
        "id": "aKpoP-KV0Ggz"
      }
    },
    {
      "cell_type": "code",
      "source": [
        "class SimplePerceptronSparse(nn.Module):\n",
        "\n",
        "    def __init__(self):\n",
        "        super(SimplePerceptronSparse, self).__init__()\n",
        "        self.conv1 = nn.Conv2d(2,400,kernel_size = (1,1))\n",
        "        self.conv2 = nn.Conv2d(16,400,kernel_size = (1,1))\n",
        "        self.conv3 = nn.Conv2d(22,1,kernel_size = (1,1))\n",
        "\n",
        "        self.bn1 = nn.BatchNorm2d(16, affine=False)\n",
        "        self.bn2 = nn.BatchNorm2d(22, affine=False)\n",
        "\n",
        "        self.path_A2 = '/content/estAp3_layer2.csv'\n",
        "        self.path_b2 = '/content/estB_p3_layer2.csv'\n",
        "        self.path_W2 = '/content/W_p3_layer2.csv'\n",
        "\n",
        "        self.path_A3 = '/content/estAp3_layer3.csv'\n",
        "        self.path_b3 = '/content/estB_p3_layer3.csv'\n",
        "        self.path_W3 = '/content/W_p3_layer3.csv'\n",
        "\n",
        "        self.A2 = pd.read_csv(self.path_A2, header = None)\n",
        "        self.A2 = self.A2.to_numpy()\n",
        "        self.A2 = torch.from_numpy(self.A2)\n",
        "        self.b2 = pd.read_csv(self.path_b2, header = None)\n",
        "        self.b2 = self.b2.to_numpy()\n",
        "        self.b2 = torch.squeeze(torch.from_numpy(self.b2))\n",
        "        self.W2 = pd.read_csv(self.path_W2, header = None).to_numpy()\n",
        "        self.W2 = torch.squeeze(torch.from_numpy(self.W2))\n",
        "        self.A2 = self.A2[:,self.W2>0]\n",
        "\n",
        "        self.A3 = pd.read_csv(self.path_A3, header = None)\n",
        "        self.A3 = self.A3.to_numpy()\n",
        "        self.A3 = torch.from_numpy(self.A3)\n",
        "        self.b3 = pd.read_csv(self.path_b3, header = None)\n",
        "        self.b3 = self.b3.to_numpy()\n",
        "        #self.b3 = torch.squeeze(torch.from_numpy(self.b3))\n",
        "        self.b3 = torch.squeeze(torch.from_numpy(self.b3), dim = 1)\n",
        "        self.W3 = pd.read_csv(self.path_W3, header = None).to_numpy()\n",
        "        self.W3 = torch.squeeze(torch.from_numpy(self.W3))\n",
        "        self.A3 = self.A3[:,self.W3>0]\n",
        "        print(self.A3.shape)\n",
        "\n",
        "\n",
        "    def forward(self, x):\n",
        "        #1st  layer\n",
        "        x = self.conv1(x)\n",
        "        x = self.bn1(x)\n",
        "        x = F.relu(x)\n",
        "\n",
        "        x = x[:,self.W2>0]\n",
        "        x = self.conv2(x)\n",
        "        x = self.bn2(x)\n",
        "        x = F.relu(x)\n",
        "\n",
        "        x = x[:,self.W3>0]\n",
        "        x = self.conv3(x)\n",
        "        x = F.sigmoid(x)\n",
        "        return x\n",
        "\n",
        "    def init_sparse(self, model):\n",
        "      self.conv1.weight = model.conv1.weight\n",
        "      self.conv1.bias = model.conv1.bias\n",
        "      self.bn1.running_mean = model.bn1.running_mean\n",
        "      self.bn1.running_var = model.bn1.running_var\n",
        "\n",
        "      self.conv2.weight = nn.Parameter(self.A2.reshape([self.A2.shape[0],self.A2.shape[1],1,1]));\n",
        "      self.conv2.bias = nn.Parameter(self.b2)\n",
        "      self.bn2.running_mean = model.bn2.running_mean\n",
        "      self.bn2.running_var = model.bn2.running_var\n",
        "\n",
        "      print(self.conv3.weight.shape)\n",
        "      print(self.conv3.bias.shape)\n",
        "      self.conv3.weight = nn.Parameter(self.A3.reshape([self.A3.shape[0],self.A3.shape[1],1,1]));\n",
        "      self.conv3.bias = nn.Parameter(self.b3)\n",
        "      #print(self.W1.shape)\n",
        "      #print(self.W2.shape)"
      ],
      "metadata": {
        "id": "c_7VJTCtlwE_"
      },
      "execution_count": 15,
      "outputs": []
    },
    {
      "cell_type": "code",
      "source": [
        "model_sparse = SimplePerceptronSparse().double()\n",
        "print(count_parameters(model_sparse))\n",
        "print(count_parameters(model_sparse)/count_parameters(model))\n",
        "model_sparse.init_sparse(model)\n",
        "model_sparse.eval()"
      ],
      "metadata": {
        "colab": {
          "base_uri": "https://localhost:8080/"
        },
        "id": "UTeBUF_K0hTu",
        "outputId": "0a98d662-e02d-4a03-f53c-0054eb01f631"
      },
      "execution_count": 16,
      "outputs": [
        {
          "output_type": "stream",
          "name": "stdout",
          "text": [
            "torch.Size([1, 22])\n",
            "8023\n",
            "0.04952438565194042\n",
            "torch.Size([1, 22, 1, 1])\n",
            "torch.Size([1])\n"
          ]
        },
        {
          "output_type": "execute_result",
          "data": {
            "text/plain": [
              "SimplePerceptronSparse(\n",
              "  (conv1): Conv2d(2, 400, kernel_size=(1, 1), stride=(1, 1))\n",
              "  (conv2): Conv2d(16, 400, kernel_size=(1, 1), stride=(1, 1))\n",
              "  (conv3): Conv2d(22, 1, kernel_size=(1, 1), stride=(1, 1))\n",
              "  (bn1): BatchNorm2d(16, eps=1e-05, momentum=0.1, affine=False, track_running_stats=True)\n",
              "  (bn2): BatchNorm2d(22, eps=1e-05, momentum=0.1, affine=False, track_running_stats=True)\n",
              ")"
            ]
          },
          "metadata": {},
          "execution_count": 16
        }
      ]
    },
    {
      "cell_type": "code",
      "source": [
        "#train\n",
        "v = model_sparse(input)\n",
        "v[v>=0.5] = 1\n",
        "v[v<0.5] = 0\n",
        "#val\n",
        "v1 = model_sparse(input_v)\n",
        "v1[v1>=0.5] = 1\n",
        "v1[v1<0.5] = 0\n",
        "#test\n",
        "v2 = model_sparse(test_x)\n",
        "v2[v2>=0.5] = 1\n",
        "v2[v2<0.5] = 0\n",
        "\n",
        "print(accuracy(v[:,0,0,0],target))\n",
        "print(accuracy(v1[:,0,0,0],target_v))\n",
        "print(accuracy(v2[:,0,0,0],test_y))"
      ],
      "metadata": {
        "colab": {
          "base_uri": "https://localhost:8080/"
        },
        "id": "i1AzBN4K0hWP",
        "outputId": "620bb092-1077-4c0e-890b-fc3178900b77"
      },
      "execution_count": 17,
      "outputs": [
        {
          "output_type": "stream",
          "name": "stdout",
          "text": [
            "tensor(1.)\n",
            "tensor(1.)\n",
            "tensor(1.)\n"
          ]
        }
      ]
    },
    {
      "cell_type": "code",
      "source": [
        "#grid\n",
        "x1 = np.array([0])\n",
        "x2 = np.array([0])\n",
        "for i in range(100):\n",
        "  for j in range(100):\n",
        "    x1 = np.concatenate([x1,[-1.5+3/100*i]])\n",
        "    x2 = np.concatenate([x2,[-1.5+3/100*j]])\n",
        "\n",
        "grid = torch.zeros([pow(10,4)+1,2,1,1])\n",
        "print(grid.shape)\n",
        "grid[:,0,0,0] = torch.from_numpy(x1)\n",
        "grid[:,1,0,0] = torch.from_numpy(x2)\n",
        "\n",
        "\n",
        "v = model_sparse(grid.double())\n",
        "v[v>=0.5] = 1\n",
        "v[v<0.5] = 0\n",
        "\n",
        "\n",
        "xA = grid[v[:,0,0,0]==1,0,0,0]\n",
        "yA = grid[v[:,0,0,0]==1,1,0,0]\n",
        "xB = grid[v[:,0,0,0]==0,0,0,0]\n",
        "yB = grid[v[:,0,0,0]==0,1,0,0]\n",
        "plt.scatter(xA,yA)\n",
        "plt.scatter(xB,yB)"
      ],
      "metadata": {
        "colab": {
          "base_uri": "https://localhost:8080/",
          "height": 465
        },
        "id": "n-pC9IqH0hYv",
        "outputId": "4b298faf-718d-4480-fe47-17c2806be7a3"
      },
      "execution_count": 18,
      "outputs": [
        {
          "output_type": "stream",
          "name": "stdout",
          "text": [
            "torch.Size([10001, 2, 1, 1])\n"
          ]
        },
        {
          "output_type": "execute_result",
          "data": {
            "text/plain": [
              "<matplotlib.collections.PathCollection at 0x7e4d496fc700>"
            ]
          },
          "metadata": {},
          "execution_count": 18
        },
        {
          "output_type": "display_data",
          "data": {
            "text/plain": [
              "<Figure size 640x480 with 1 Axes>"
            ],
            "image/png": "[encoded data removed]"
          },
          "metadata": {}
        }
      ]
    },
    {
      "cell_type": "code",
      "source": [
        "#grid\n",
        "x1 = np.array([0])\n",
        "x2 = np.array([0])\n",
        "for i in range(100):\n",
        "  for j in range(100):\n",
        "    x1 = np.concatenate([x1,[-1.5+3/100*i]])\n",
        "    x2 = np.concatenate([x2,[-1.5+3/100*j]])\n",
        "\n",
        "grid = torch.zeros([pow(10,4)+1,2,1,1])\n",
        "print(grid.shape)\n",
        "grid[:,0,0,0] = torch.from_numpy(x1)\n",
        "grid[:,1,0,0] = torch.from_numpy(x2)\n",
        "\n",
        "model.load_state_dict(torch.load(\"/content/FCC-swiss-roll-1turn-10k.pth\"))\n",
        "model.eval()\n",
        "v = model(grid.double())\n",
        "v[v>=0.5] = 1\n",
        "v[v<0.5] = 0\n",
        "\n",
        "\n",
        "xA = grid[v[:,0,0,0]==1,0,0,0]\n",
        "yA = grid[v[:,0,0,0]==1,1,0,0]\n",
        "xB = grid[v[:,0,0,0]==0,0,0,0]\n",
        "yB = grid[v[:,0,0,0]==0,1,0,0]\n",
        "plt.scatter(xA,yA)\n",
        "plt.scatter(xB,yB)"
      ],
      "metadata": {
        "colab": {
          "base_uri": "https://localhost:8080/",
          "height": 465
        },
        "id": "GWjCj4pI0hbL",
        "outputId": "cb9a1082-d690-4c6e-88b5-d61d6ab73ea5"
      },
      "execution_count": 19,
      "outputs": [
        {
          "output_type": "stream",
          "name": "stdout",
          "text": [
            "torch.Size([10001, 2, 1, 1])\n"
          ]
        },
        {
          "output_type": "execute_result",
          "data": {
            "text/plain": [
              "<matplotlib.collections.PathCollection at 0x7e4d496c84c0>"
            ]
          },
          "metadata": {},
          "execution_count": 19
        },
        {
          "output_type": "display_data",
          "data": {
            "text/plain": [
              "<Figure size 640x480 with 1 Axes>"
            ],
            "image/png": "[encoded data removed]"
          },
          "metadata": {}
        }
      ]
    },
    {
      "cell_type": "code",
      "source": [
        "#grid\n",
        "x1 = np.array([0])\n",
        "x2 = np.array([0])\n",
        "for i in range(100):\n",
        "  for j in range(100):\n",
        "    x1 = np.concatenate([x1,[-1.5+3/100*i]])\n",
        "    x2 = np.concatenate([x2,[-1.5+3/100*j]])\n",
        "\n",
        "grid = torch.zeros([pow(10,4)+1,2,1,1])\n",
        "print(grid.shape)\n",
        "grid[:,0,0,0] = torch.from_numpy(x1)\n",
        "grid[:,1,0,0] = torch.from_numpy(x2)\n",
        "\n",
        "model.load_state_dict(torch.load(\"/content/FCC-swiss-roll-1turn-10k.pth\"))\n",
        "model.train()\n",
        "v = model(grid.double())\n",
        "v[v>=0.5] = 1\n",
        "v[v<0.5] = 0\n",
        "\n",
        "\n",
        "xA = grid[v[:,0,0,0]==1,0,0,0]\n",
        "yA = grid[v[:,0,0,0]==1,1,0,0]\n",
        "xB = grid[v[:,0,0,0]==0,0,0,0]\n",
        "yB = grid[v[:,0,0,0]==0,1,0,0]\n",
        "plt.scatter(xA,yA)\n",
        "plt.scatter(xB,yB)"
      ],
      "metadata": {
        "colab": {
          "base_uri": "https://localhost:8080/",
          "height": 465
        },
        "id": "W9QIUcjr0hdn",
        "outputId": "ee958cfe-ef44-43d8-d272-7ec7a112f412"
      },
      "execution_count": 20,
      "outputs": [
        {
          "output_type": "stream",
          "name": "stdout",
          "text": [
            "torch.Size([10001, 2, 1, 1])\n"
          ]
        },
        {
          "output_type": "execute_result",
          "data": {
            "text/plain": [
              "<matplotlib.collections.PathCollection at 0x7e4d48a38a30>"
            ]
          },
          "metadata": {},
          "execution_count": 20
        },
        {
          "output_type": "display_data",
          "data": {
            "text/plain": [
              "<Figure size 640x480 with 1 Axes>"
            ],
            "image/png": "[encoded data removed]"
          },
          "metadata": {}
        }
      ]
    },
    {
      "cell_type": "code",
      "source": [],
      "metadata": {
        "id": "9LV9zYbha2cA"
      },
      "execution_count": 20,
      "outputs": []
    },
    {
      "cell_type": "code",
      "source": [
        "model.load_state_dict(torch.load(\"/content/FCC-swiss-roll-1turn-10k.pth\"))\n",
        "model.eval()"
      ],
      "metadata": {
        "colab": {
          "base_uri": "https://localhost:8080/"
        },
        "id": "pzTbpXy7EA2V",
        "outputId": "3769d9ab-ddf1-41c2-8d50-1bba95e80287"
      },
      "execution_count": 21,
      "outputs": [
        {
          "output_type": "execute_result",
          "data": {
            "text/plain": [
              "SimplePerceptron(\n",
              "  (conv1): Conv2d(2, 400, kernel_size=(1, 1), stride=(1, 1))\n",
              "  (conv2): Conv2d(400, 400, kernel_size=(1, 1), stride=(1, 1))\n",
              "  (conv3): Conv2d(400, 1, kernel_size=(1, 1), stride=(1, 1))\n",
              "  (bn1): BatchNorm2d(400, eps=1e-05, momentum=0.1, affine=False, track_running_stats=True)\n",
              "  (bn2): BatchNorm2d(400, eps=1e-05, momentum=0.1, affine=False, track_running_stats=True)\n",
              ")"
            ]
          },
          "metadata": {},
          "execution_count": 21
        }
      ]
    },
    {
      "cell_type": "markdown",
      "source": [
        "## Sparse model - efficient implementation"
      ],
      "metadata": {
        "id": "pkHzOhN9Ewc9"
      }
    },
    {
      "cell_type": "code",
      "source": [
        "class SimplePerceptronSparse2(nn.Module):\n",
        "\n",
        "    def __init__(self):\n",
        "        super(SimplePerceptronSparse2, self).__init__()\n",
        "        self.conv1 = nn.Conv2d(2,16,kernel_size = (1,1))\n",
        "        self.conv2 = nn.Conv2d(16,22,kernel_size = (1,1))\n",
        "        self.conv3 = nn.Conv2d(22,1,kernel_size = (1,1))\n",
        "\n",
        "        self.bn1 = nn.BatchNorm2d(16, affine=False)\n",
        "        self.bn2 = nn.BatchNorm2d(22, affine=False)\n",
        "\n",
        "        self.path_A2 = '/content/estAp3_layer2.csv'\n",
        "        self.path_b2 = '/content/estB_p3_layer2.csv'\n",
        "        self.path_W2 = '/content/W_p3_layer2.csv'\n",
        "\n",
        "        self.path_A3 = '/content/estAp3_layer3.csv'\n",
        "        self.path_b3 = '/content/estB_p3_layer3.csv'\n",
        "        self.path_W3 = '/content/W_p3_layer3.csv'\n",
        "\n",
        "        self.A2 = pd.read_csv(self.path_A2, header = None)\n",
        "        self.A2 = self.A2.to_numpy()\n",
        "        self.A2 = torch.from_numpy(self.A2)\n",
        "        self.b2 = pd.read_csv(self.path_b2, header = None)\n",
        "        self.b2 = self.b2.to_numpy()\n",
        "        self.b2 = torch.squeeze(torch.from_numpy(self.b2))\n",
        "        self.W2 = pd.read_csv(self.path_W2, header = None).to_numpy()\n",
        "        self.W2 = torch.squeeze(torch.from_numpy(self.W2))\n",
        "\n",
        "        self.A3 = pd.read_csv(self.path_A3, header = None)\n",
        "        self.A3 = self.A3.to_numpy()\n",
        "        self.A3 = torch.from_numpy(self.A3)\n",
        "        self.b3 = pd.read_csv(self.path_b3, header = None)\n",
        "        self.b3 = self.b3.to_numpy()\n",
        "        #self.b3 = torch.squeeze(torch.from_numpy(self.b3))\n",
        "        self.b3 = torch.squeeze(torch.from_numpy(self.b3), dim = 1)\n",
        "        self.W3 = pd.read_csv(self.path_W3, header = None).to_numpy()\n",
        "        self.W3 = torch.squeeze(torch.from_numpy(self.W3))\n",
        "        self.A3 = self.A3[:,self.W3>0]\n",
        "\n",
        "        #print(self.A2.shape)\n",
        "        self.A2 = self.A2[:,self.W2>0]\n",
        "        self.A2 = self.A2[self.W3>0,:]\n",
        "        self.b2 = self.b2[self.W3>0]\n",
        "        #print(self.A2.shape)\n",
        "        #print(self.A3.shape)\n",
        "\n",
        "\n",
        "    def forward(self, x):\n",
        "        #1st  layer\n",
        "        x = self.conv1(x)\n",
        "        x = self.bn1(x)\n",
        "        x = F.relu(x)\n",
        "\n",
        "        #x = x[:,self.W2>0]\n",
        "        x = self.conv2(x)\n",
        "        x = self.bn2(x)\n",
        "        x = F.relu(x)\n",
        "\n",
        "        #x = x[:,self.W3>0]\n",
        "        x = self.conv3(x)\n",
        "        x = F.sigmoid(x)\n",
        "        return x\n",
        "\n",
        "    def init_sparse(self, model):\n",
        "      self.conv1.weight = nn.Parameter(model.conv1.weight[self.W2>0,:])\n",
        "      self.conv1.bias = nn.Parameter(model.conv1.bias[self.W2>0])\n",
        "      self.bn1.running_mean = model.bn1.running_mean[self.W2>0]\n",
        "      self.bn1.running_var = model.bn1.running_var[self.W2>0]\n",
        "\n",
        "      self.conv2.weight = nn.Parameter(self.A2.reshape([self.A2.shape[0],self.A2.shape[1],1,1]));\n",
        "      self.conv2.bias = nn.Parameter(self.b2)\n",
        "      self.bn2.running_mean = model.bn2.running_mean[self.W3>0]\n",
        "      self.bn2.running_var = model.bn2.running_var[self.W3>0]\n",
        "\n",
        "      #print(self.conv3.weight.shape)\n",
        "      #print(self.conv3.bias.shape)\n",
        "      self.conv3.weight = nn.Parameter(self.A3.reshape([self.A3.shape[0],self.A3.shape[1],1,1]));\n",
        "      self.conv3.bias = nn.Parameter(self.b3)\n",
        "      #print(self.W1.shape)\n",
        "      #print(self.W2.shape)"
      ],
      "metadata": {
        "id": "fQ74yMHPEA5E"
      },
      "execution_count": 22,
      "outputs": []
    },
    {
      "cell_type": "code",
      "source": [
        "model_sparse2 = SimplePerceptronSparse2().double()\n",
        "print(count_parameters(model_sparse2))\n",
        "print(count_parameters(model_sparse2)/count_parameters(model))\n",
        "model_sparse2.init_sparse(model)\n",
        "model_sparse2.eval()"
      ],
      "metadata": {
        "colab": {
          "base_uri": "https://localhost:8080/"
        },
        "id": "FY6dV6SbEA8S",
        "outputId": "71f3f569-258a-47e8-956d-95c3d459d371"
      },
      "execution_count": 23,
      "outputs": [
        {
          "output_type": "stream",
          "name": "stdout",
          "text": [
            "445\n",
            "0.002746896624094913\n"
          ]
        },
        {
          "output_type": "execute_result",
          "data": {
            "text/plain": [
              "SimplePerceptronSparse2(\n",
              "  (conv1): Conv2d(2, 16, kernel_size=(1, 1), stride=(1, 1))\n",
              "  (conv2): Conv2d(16, 22, kernel_size=(1, 1), stride=(1, 1))\n",
              "  (conv3): Conv2d(22, 1, kernel_size=(1, 1), stride=(1, 1))\n",
              "  (bn1): BatchNorm2d(16, eps=1e-05, momentum=0.1, affine=False, track_running_stats=True)\n",
              "  (bn2): BatchNorm2d(22, eps=1e-05, momentum=0.1, affine=False, track_running_stats=True)\n",
              ")"
            ]
          },
          "metadata": {},
          "execution_count": 23
        }
      ]
    },
    {
      "cell_type": "code",
      "source": [
        "#train\n",
        "v = model_sparse2(input)\n",
        "v[v>=0.5] = 1\n",
        "v[v<0.5] = 0\n",
        "#val\n",
        "v1 = model_sparse2(input_v)\n",
        "v1[v1>=0.5] = 1\n",
        "v1[v1<0.5] = 0\n",
        "#test\n",
        "v2 = model_sparse2(test_x)\n",
        "v2[v2>=0.5] = 1\n",
        "v2[v2<0.5] = 0\n",
        "\n",
        "print(accuracy(v[:,0,0,0],target))\n",
        "print(accuracy(v1[:,0,0,0],target_v))\n",
        "print(accuracy(v2[:,0,0,0],test_y))"
      ],
      "metadata": {
        "colab": {
          "base_uri": "https://localhost:8080/"
        },
        "id": "uDcuanI8EA_X",
        "outputId": "1d52fb05-7945-4391-b026-9c30123117ad"
      },
      "execution_count": 24,
      "outputs": [
        {
          "output_type": "stream",
          "name": "stdout",
          "text": [
            "tensor(1.)\n",
            "tensor(1.)\n",
            "tensor(1.)\n"
          ]
        }
      ]
    },
    {
      "cell_type": "code",
      "source": [
        "#grid\n",
        "x1 = np.array([0])\n",
        "x2 = np.array([0])\n",
        "for i in range(100):\n",
        "  for j in range(100):\n",
        "    x1 = np.concatenate([x1,[-1.5+3/100*i]])\n",
        "    x2 = np.concatenate([x2,[-1.5+3/100*j]])\n",
        "\n",
        "grid = torch.zeros([pow(10,4)+1,2,1,1])\n",
        "print(grid.shape)\n",
        "grid[:,0,0,0] = torch.from_numpy(x1)\n",
        "grid[:,1,0,0] = torch.from_numpy(x2)\n",
        "\n",
        "\n",
        "v = model_sparse2(grid.double())\n",
        "v[v>=0.5] = 1\n",
        "v[v<0.5] = 0\n",
        "\n",
        "\n",
        "xA = grid[v[:,0,0,0]==1,0,0,0]\n",
        "yA = grid[v[:,0,0,0]==1,1,0,0]\n",
        "xB = grid[v[:,0,0,0]==0,0,0,0]\n",
        "yB = grid[v[:,0,0,0]==0,1,0,0]\n",
        "plt.scatter(xA,yA)\n",
        "plt.scatter(xB,yB)"
      ],
      "metadata": {
        "id": "QQ2ltuPaF7Lc",
        "outputId": "85ae54a0-e75c-4d1f-98e4-f3bf20c36bc7",
        "colab": {
          "base_uri": "https://localhost:8080/",
          "height": 465
        }
      },
      "execution_count": 25,
      "outputs": [
        {
          "output_type": "stream",
          "name": "stdout",
          "text": [
            "torch.Size([10001, 2, 1, 1])\n"
          ]
        },
        {
          "output_type": "execute_result",
          "data": {
            "text/plain": [
              "<matplotlib.collections.PathCollection at 0x7e4d487b5ae0>"
            ]
          },
          "metadata": {},
          "execution_count": 25
        },
        {
          "output_type": "display_data",
          "data": {
            "text/plain": [
              "<Figure size 640x480 with 1 Axes>"
            ],
            "image/png": "[encoded data removed]"
          },
          "metadata": {}
        }
      ]
    },
    {
      "cell_type": "code",
      "source": [
        "v = model_sparse2(grid.double())\n",
        "v = v[1:]\n",
        "v.shape\n",
        "v1 = torch.reshape(v,[100,100])\n",
        "v1.shape\n",
        "plt.axis('off')\n",
        "plt.imshow(np.rot90(v1.detach().numpy()),cmap=\"gray\")"
      ],
      "metadata": {
        "id": "6vOthMkAF7OC",
        "outputId": "c376511c-aa54-4b3d-b612-b6106718d05b",
        "colab": {
          "base_uri": "https://localhost:8080/",
          "height": 423
        }
      },
      "execution_count": 26,
      "outputs": [
        {
          "output_type": "execute_result",
          "data": {
            "text/plain": [
              "<matplotlib.image.AxesImage at 0x7e4d489c6cb0>"
            ]
          },
          "metadata": {},
          "execution_count": 26
        },
        {
          "output_type": "display_data",
          "data": {
            "text/plain": [
              "<Figure size 640x480 with 1 Axes>"
            ],
            "image/png": "[encoded data removed]"
          },
          "metadata": {}
        }
      ]
    },
    {
      "cell_type": "code",
      "source": [
        "v = model_sparse2(grid.double())\n",
        "v = v[1:]\n",
        "v[v>=0.5] = 1\n",
        "v[v<0.5] = 0\n",
        "v.shape\n",
        "v1 = torch.reshape(v,[100,100])\n",
        "v1.shape\n",
        "plt.axis('off')\n",
        "plt.imshow(np.rot90(v1.detach().numpy()),cmap=\"gray\")"
      ],
      "metadata": {
        "id": "3eQKX55KF7QS",
        "outputId": "b3dc04a4-b0ac-4242-8a08-34abe5e1061f",
        "colab": {
          "base_uri": "https://localhost:8080/",
          "height": 423
        }
      },
      "execution_count": 27,
      "outputs": [
        {
          "output_type": "execute_result",
          "data": {
            "text/plain": [
              "<matplotlib.image.AxesImage at 0x7e4d48777e20>"
            ]
          },
          "metadata": {},
          "execution_count": 27
        },
        {
          "output_type": "display_data",
          "data": {
            "text/plain": [
              "<Figure size 640x480 with 1 Axes>"
            ],
            "image/png": "[encoded data removed]"
          },
          "metadata": {}
        }
      ]
    },
    {
      "cell_type": "code",
      "source": [],
      "metadata": {
        "id": "RrGejOJ1RPg9"
      },
      "execution_count": null,
      "outputs": []
    }
  ]
}