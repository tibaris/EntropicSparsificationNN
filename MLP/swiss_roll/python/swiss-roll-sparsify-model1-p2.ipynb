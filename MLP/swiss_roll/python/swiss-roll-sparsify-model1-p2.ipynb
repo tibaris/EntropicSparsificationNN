{
  "nbformat": 4,
  "nbformat_minor": 0,
  "metadata": {
    "colab": {
      "provenance": [],
      "authorship_tag": "ABX9TyPl0+mc6qIkevccB3RcWClV",
      "include_colab_link": true
    },
    "kernelspec": {
      "name": "python3",
      "display_name": "Python 3"
    },
    "language_info": {
      "name": "python"
    }
  },
  "cells": [
    {
      "cell_type": "markdown",
      "metadata": {
        "id": "view-in-github",
        "colab_type": "text"
      },
      "source": [
        "<a href=\"https://colab.research.google.com/github/tibaris/EntropicSparsificationNN/blob/main/swiss-roll-sparsify-model1-p2.ipynb\" target=\"_parent\"><img src=\"https://colab.research.google.com/assets/colab-badge.svg\" alt=\"Open In Colab\"/></a>"
      ]
    },
    {
      "cell_type": "code",
      "execution_count": 1,
      "metadata": {
        "id": "y3VNNY28auqT"
      },
      "outputs": [],
      "source": [
        "from skimage import io, exposure\n",
        "\n",
        "import numpy as np\n",
        "import scipy\n",
        "import scipy.ndimage\n",
        "import matplotlib.pyplot as plt\n",
        "\n",
        "from sklearn.metrics import confusion_matrix\n",
        "from sklearn import metrics\n",
        "from scipy.ndimage import gaussian_filter\n",
        "\n",
        "import time\n",
        "from skimage.color import rgb2gray\n",
        "from skimage.transform import rescale"
      ]
    },
    {
      "cell_type": "code",
      "source": [
        "\n",
        "import torch\n",
        "import torch.nn as nn\n",
        "import torch.nn.functional as F\n",
        "import torch.optim as optim\n",
        "import torch.optim.lr_scheduler as sched\n",
        "\n",
        "import csv\n",
        "import pandas as pd\n",
        "import time\n",
        "import gc\n",
        "import sys"
      ],
      "metadata": {
        "id": "v7RQfcSBa2Kj"
      },
      "execution_count": 2,
      "outputs": []
    },
    {
      "cell_type": "code",
      "source": [
        "def count_parameters(model): return sum(p.numel() for p in model.parameters() if p.requires_grad)"
      ],
      "metadata": {
        "id": "9t-8B5kQa2NE"
      },
      "execution_count": 3,
      "outputs": []
    },
    {
      "cell_type": "markdown",
      "source": [
        "# Case 1: One turn"
      ],
      "metadata": {
        "id": "LGg64JiNbNHx"
      }
    },
    {
      "cell_type": "code",
      "source": [
        "train_data = pd.read_csv(\"/content/swissroll-10000-turn1.csv\", header=None)\n",
        "train_data = train_data.to_numpy()"
      ],
      "metadata": {
        "id": "FjRSxscKa2Pk"
      },
      "execution_count": 4,
      "outputs": []
    },
    {
      "cell_type": "code",
      "source": [
        "train_data = np.transpose(train_data)\n",
        "train_data = torch.from_numpy(train_data)\n",
        "print(train_data.shape)\n",
        "\n",
        "train_num = train_data.shape[0]\n",
        "torch.manual_seed(0)\n",
        "permutation = torch.randperm(train_num)\n",
        "\n",
        "train_x = train_data[permutation[:15000],:]\n",
        "train_y = (permutation[:15000]<train_num/2)*1\n",
        "train_x = train_x.reshape([train_x.shape[0],train_x.shape[1],1,1])\n",
        "print(train_x.shape)\n",
        "print(train_y.shape)"
      ],
      "metadata": {
        "id": "CH0jYiIha2SA",
        "colab": {
          "base_uri": "https://localhost:8080/"
        },
        "outputId": "104ac0aa-3f48-446e-84d7-9af880aa06d5"
      },
      "execution_count": 5,
      "outputs": [
        {
          "output_type": "stream",
          "name": "stdout",
          "text": [
            "torch.Size([20000, 2])\n",
            "torch.Size([15000, 2, 1, 1])\n",
            "torch.Size([15000])\n"
          ]
        }
      ]
    },
    {
      "cell_type": "code",
      "source": [
        "input = train_x[:10000].double()\n",
        "target = train_y[:10000].double()\n",
        "\n",
        "input_v = train_x[10000:].double()\n",
        "target_v = train_y[10000:].double()\n",
        "\n",
        "test_x = train_data[permutation[15000:],:]\n",
        "test_x = test_x.reshape([test_x.shape[0],test_x.shape[1],1,1])\n",
        "test_y = (permutation[15000:]<train_num/2)*1"
      ],
      "metadata": {
        "id": "ia-pItPomLQN"
      },
      "execution_count": 6,
      "outputs": []
    },
    {
      "cell_type": "code",
      "source": [
        "#A = pd.read_csv('/content/estB_p3_layer3.csv', header = None)\n",
        "#A.shape"
      ],
      "metadata": {
        "id": "pVJGPGqHrZkO"
      },
      "execution_count": 7,
      "outputs": []
    },
    {
      "cell_type": "code",
      "source": [
        "class SimplePerceptron(nn.Module):\n",
        "\n",
        "    def __init__(self):\n",
        "        super(SimplePerceptron, self).__init__()\n",
        "        self.conv1 = nn.Conv2d(2,400,kernel_size = (1,1))\n",
        "        self.conv2 = nn.Conv2d(400,400,kernel_size = (1,1))\n",
        "        self.conv3 = nn.Conv2d(400,1,kernel_size = (1,1))\n",
        "\n",
        "        self.bn1 = nn.BatchNorm2d(400, affine=False)\n",
        "        self.bn2 = nn.BatchNorm2d(400, affine=False)\n",
        "\n",
        "        self.path_A2 = '/content/estAp2_layer2.csv'\n",
        "        self.path_b2 = '/content/estB_p2_layer2.csv'\n",
        "        self.path_W2 = '/content/W_p2_layer2.csv'\n",
        "\n",
        "        self.path_A3 = '/content/estAp2_layer3.csv'\n",
        "        self.path_b3 = '/content/estB_p2_layer3.csv'\n",
        "        self.path_W3 = '/content/W_p2_layer3.csv'\n",
        "\n",
        "        self.A2 = pd.read_csv(self.path_A2, header = None)\n",
        "        self.A2 = self.A2.to_numpy()\n",
        "        self.A2 = torch.from_numpy(self.A2)\n",
        "        self.b2 = pd.read_csv(self.path_b2, header = None)\n",
        "        self.b2 = self.b2.to_numpy()\n",
        "        self.b2 = torch.squeeze(torch.from_numpy(self.b2))\n",
        "        self.W2 = pd.read_csv(self.path_W2, header = None).to_numpy()\n",
        "\n",
        "        self.A3 = pd.read_csv(self.path_A3, header = None)\n",
        "        self.A3 = self.A3.to_numpy()\n",
        "        self.A3 = torch.from_numpy(self.A3)\n",
        "        self.b3 = pd.read_csv(self.path_b3, header = None)\n",
        "        self.b3 = self.b3.to_numpy()\n",
        "        #self.b3 = torch.squeeze(torch.from_numpy(self.b3))\n",
        "        self.b3 = torch.squeeze(torch.from_numpy(self.b3), dim = 1)\n",
        "        self.W3 = pd.read_csv(self.path_W3, header = None).to_numpy()\n",
        "        #print(self.b3.shape)\n",
        "\n",
        "\n",
        "    def forward(self, x):\n",
        "        #1st  layer\n",
        "        x = self.conv1(x)\n",
        "        x = self.bn1(x)\n",
        "        x = F.relu(x)\n",
        "\n",
        "        x = self.conv2(x)\n",
        "        x = self.bn2(x)\n",
        "        x = F.relu(x)\n",
        "\n",
        "        #print(x.shape)\n",
        "        x = self.conv3(x)\n",
        "        #print(x.shape)\n",
        "        #x = F.softmax(x)\n",
        "        x = F.sigmoid(x)\n",
        "        return x\n",
        "\n",
        "    def forward_sparse(self, x):\n",
        "        #1st  layer\n",
        "        x = self.conv1(x)\n",
        "        x = self.bn1(x)\n",
        "        x = F.relu(x)\n",
        "\n",
        "        x = self.my_conv2(x)\n",
        "        #x = self.conv2(x)\n",
        "        x = self.bn2(x)\n",
        "        x = F.relu(x)\n",
        "\n",
        "        x = self.my_conv3(x)\n",
        "        #x = self.conv3(x)\n",
        "        #x = F.softmax(x)\n",
        "        x = F.sigmoid(x)\n",
        "        return x\n",
        "\n",
        "    def my_conv2(self,x):\n",
        "        x = torch.matmul(torch.squeeze(self.A2), torch.transpose(torch.squeeze(x),0,1))  #+ torch.squeeze(b)\n",
        "        #print(x.shape)\n",
        "        #print(self.b2.shape)\n",
        "        x = torch.transpose(x,0,1) + self.b2\n",
        "        x = torch.unsqueeze(torch.unsqueeze(x,2),2)\n",
        "        #print(x.shape)\n",
        "        #x = torch.unsqueeze(torch.unsqueeze(res,2),2)\n",
        "        return x\n",
        "\n",
        "    def my_conv3(self,x):\n",
        "        x = torch.matmul(torch.squeeze(self.A3), torch.transpose(torch.squeeze(x),0,1))  #+ torch.squeeze(b)\n",
        "        #print(x.shape)\n",
        "        #print(self.b3.shape)\n",
        "        x = x + self.b3\n",
        "        #print(x.shape)\n",
        "        x = torch.unsqueeze(torch.unsqueeze(torch.unsqueeze(x,1),2),2)\n",
        "        #print(x.shape)\n",
        "        #x = torch.unsqueeze(torch.unsqueeze(res,2),2)\n",
        "        return x\n",
        "\n",
        "    def sparsity(self):\n",
        "        return (sum(sum(self.W2>0))+sum(sum(self.W3>0)))/(sum(sum(self.W2>0))+sum(sum(self.W3>=0)))\n",
        "\n",
        "    def sparsity2(self):\n",
        "        return (sum(sum(self.W2>0)), sum(sum(self.W3>0)))"
      ],
      "metadata": {
        "id": "okzePmiwa2UX"
      },
      "execution_count": 8,
      "outputs": []
    },
    {
      "cell_type": "code",
      "source": [
        "model = SimplePerceptron().double()\n",
        "print(count_parameters(model))"
      ],
      "metadata": {
        "id": "VNPBqI1cbfaD",
        "colab": {
          "base_uri": "https://localhost:8080/"
        },
        "outputId": "19f7b367-169b-401e-edb1-aa7ce981517a"
      },
      "execution_count": 9,
      "outputs": [
        {
          "output_type": "stream",
          "name": "stdout",
          "text": [
            "162001\n"
          ]
        }
      ]
    },
    {
      "cell_type": "code",
      "source": [
        "model.load_state_dict(torch.load(\"/content/FCC-swiss-roll-1turn-10k.pth\"))\n",
        "model.eval()"
      ],
      "metadata": {
        "id": "qTawJgrKbfc7",
        "colab": {
          "base_uri": "https://localhost:8080/"
        },
        "outputId": "54dbe6ce-b5c1-49d4-e24e-43cccee1fde5"
      },
      "execution_count": 10,
      "outputs": [
        {
          "output_type": "execute_result",
          "data": {
            "text/plain": [
              "SimplePerceptron(\n",
              "  (conv1): Conv2d(2, 400, kernel_size=(1, 1), stride=(1, 1))\n",
              "  (conv2): Conv2d(400, 400, kernel_size=(1, 1), stride=(1, 1))\n",
              "  (conv3): Conv2d(400, 1, kernel_size=(1, 1), stride=(1, 1))\n",
              "  (bn1): BatchNorm2d(400, eps=1e-05, momentum=0.1, affine=False, track_running_stats=True)\n",
              "  (bn2): BatchNorm2d(400, eps=1e-05, momentum=0.1, affine=False, track_running_stats=True)\n",
              ")"
            ]
          },
          "metadata": {},
          "execution_count": 10
        }
      ]
    },
    {
      "cell_type": "code",
      "source": [
        "def accuracy(y1,y2):\n",
        "    train_acc = torch.sum(y1 == y2)\n",
        "    #print(train_acc)\n",
        "    final_train_acc = train_acc/y2.shape[0]\n",
        "    return final_train_acc"
      ],
      "metadata": {
        "id": "egtuMsfXuquB"
      },
      "execution_count": 11,
      "outputs": []
    },
    {
      "cell_type": "code",
      "source": [
        "#train\n",
        "v = model(input)\n",
        "v[v>=0.5] = 1\n",
        "v[v<0.5] = 0\n",
        "#val\n",
        "v1 = model(input_v)\n",
        "v1[v1>=0.5] = 1\n",
        "v1[v1<0.5] = 0\n",
        "#test\n",
        "v2 = model(test_x)\n",
        "v2[v2>=0.5] = 1\n",
        "v2[v2<0.5] = 0\n",
        "\n",
        "print(accuracy(v[:,0,0,0],target))\n",
        "print(accuracy(v1[:,0,0,0],target_v))\n",
        "print(accuracy(v2[:,0,0,0],test_y))"
      ],
      "metadata": {
        "id": "ZSRpO0FZuMvY",
        "colab": {
          "base_uri": "https://localhost:8080/"
        },
        "outputId": "75330937-5f84-4e21-a20f-1149a9a6a787"
      },
      "execution_count": 12,
      "outputs": [
        {
          "output_type": "stream",
          "name": "stdout",
          "text": [
            "tensor(1.)\n",
            "tensor(1.)\n",
            "tensor(1.)\n"
          ]
        }
      ]
    },
    {
      "cell_type": "code",
      "source": [
        "#train\n",
        "v = model.forward_sparse(input)\n",
        "v[v>=0.5] = 1\n",
        "v[v<0.5] = 0\n",
        "#val\n",
        "v1 = model.forward_sparse(input_v)\n",
        "v1[v1>=0.5] = 1\n",
        "v1[v1<0.5] = 0\n",
        "#test\n",
        "v2 = model.forward_sparse(test_x)\n",
        "v2[v2>=0.5] = 1\n",
        "v2[v2<0.5] = 0\n",
        "\n",
        "print(accuracy(v[:,0,0,0],target))\n",
        "print(accuracy(v1[:,0,0,0],target_v))\n",
        "print(accuracy(v2[:,0,0,0],test_y))"
      ],
      "metadata": {
        "colab": {
          "base_uri": "https://localhost:8080/"
        },
        "id": "a_b8yhEnlwCo",
        "outputId": "f055f40a-4d8a-4dd6-c242-ef3944782836"
      },
      "execution_count": 13,
      "outputs": [
        {
          "output_type": "stream",
          "name": "stdout",
          "text": [
            "tensor(1.)\n",
            "tensor(1.)\n",
            "tensor(1.)\n"
          ]
        }
      ]
    },
    {
      "cell_type": "code",
      "source": [
        "print(model.sparsity())\n",
        "print(model.sparsity2())"
      ],
      "metadata": {
        "colab": {
          "base_uri": "https://localhost:8080/"
        },
        "id": "zOZGbibKlwHn",
        "outputId": "b57645f8-5ca8-4c07-80bc-da49c676706c"
      },
      "execution_count": 14,
      "outputs": [
        {
          "output_type": "stream",
          "name": "stdout",
          "text": [
            "0.044009779951100246\n",
            "(9, 9)\n"
          ]
        }
      ]
    },
    {
      "cell_type": "markdown",
      "source": [
        "## Sparse model"
      ],
      "metadata": {
        "id": "aKpoP-KV0Ggz"
      }
    },
    {
      "cell_type": "code",
      "source": [
        "class SimplePerceptronSparse(nn.Module):\n",
        "\n",
        "    def __init__(self):\n",
        "        super(SimplePerceptronSparse, self).__init__()\n",
        "        self.conv1 = nn.Conv2d(2,400,kernel_size = (1,1))\n",
        "        self.conv2 = nn.Conv2d(16,400,kernel_size = (1,1))\n",
        "        self.conv3 = nn.Conv2d(22,1,kernel_size = (1,1))\n",
        "\n",
        "        self.bn1 = nn.BatchNorm2d(16, affine=False)\n",
        "        self.bn2 = nn.BatchNorm2d(22, affine=False)\n",
        "\n",
        "        self.path_A2 = '/content/estAp2_layer2.csv'\n",
        "        self.path_b2 = '/content/estB_p2_layer2.csv'\n",
        "        self.path_W2 = '/content/W_p2_layer2.csv'\n",
        "\n",
        "        self.path_A3 = '/content/estAp2_layer3.csv'\n",
        "        self.path_b3 = '/content/estB_p2_layer3.csv'\n",
        "        self.path_W3 = '/content/W_p2_layer3.csv'\n",
        "\n",
        "        self.A2 = pd.read_csv(self.path_A2, header = None)\n",
        "        self.A2 = self.A2.to_numpy()\n",
        "        self.A2 = torch.from_numpy(self.A2)\n",
        "        self.b2 = pd.read_csv(self.path_b2, header = None)\n",
        "        self.b2 = self.b2.to_numpy()\n",
        "        self.b2 = torch.squeeze(torch.from_numpy(self.b2))\n",
        "        self.W2 = pd.read_csv(self.path_W2, header = None).to_numpy()\n",
        "        self.W2 = torch.squeeze(torch.from_numpy(self.W2))\n",
        "        self.A2 = self.A2[:,self.W2>0]\n",
        "\n",
        "        self.A3 = pd.read_csv(self.path_A3, header = None)\n",
        "        self.A3 = self.A3.to_numpy()\n",
        "        self.A3 = torch.from_numpy(self.A3)\n",
        "        self.b3 = pd.read_csv(self.path_b3, header = None)\n",
        "        self.b3 = self.b3.to_numpy()\n",
        "        #self.b3 = torch.squeeze(torch.from_numpy(self.b3))\n",
        "        self.b3 = torch.squeeze(torch.from_numpy(self.b3), dim = 1)\n",
        "        self.W3 = pd.read_csv(self.path_W3, header = None).to_numpy()\n",
        "        self.W3 = torch.squeeze(torch.from_numpy(self.W3))\n",
        "        self.A3 = self.A3[:,self.W3>0]\n",
        "        print(self.A3.shape)\n",
        "\n",
        "\n",
        "    def forward(self, x):\n",
        "        #1st  layer\n",
        "        x = self.conv1(x)\n",
        "        x = self.bn1(x)\n",
        "        x = F.relu(x)\n",
        "\n",
        "        x = x[:,self.W2>0]\n",
        "        x = self.conv2(x)\n",
        "        x = self.bn2(x)\n",
        "        x = F.relu(x)\n",
        "\n",
        "        x = x[:,self.W3>0]\n",
        "        x = self.conv3(x)\n",
        "        x = F.sigmoid(x)\n",
        "        return x\n",
        "\n",
        "    def init_sparse(self, model):\n",
        "      self.conv1.weight = model.conv1.weight\n",
        "      self.conv1.bias = model.conv1.bias\n",
        "      self.bn1.running_mean = model.bn1.running_mean\n",
        "      self.bn1.running_var = model.bn1.running_var\n",
        "\n",
        "      self.conv2.weight = nn.Parameter(self.A2.reshape([self.A2.shape[0],self.A2.shape[1],1,1]));\n",
        "      self.conv2.bias = nn.Parameter(self.b2)\n",
        "      self.bn2.running_mean = model.bn2.running_mean\n",
        "      self.bn2.running_var = model.bn2.running_var\n",
        "\n",
        "      print(self.conv3.weight.shape)\n",
        "      print(self.conv3.bias.shape)\n",
        "      self.conv3.weight = nn.Parameter(self.A3.reshape([self.A3.shape[0],self.A3.shape[1],1,1]));\n",
        "      self.conv3.bias = nn.Parameter(self.b3)\n",
        "      #print(self.W1.shape)\n",
        "      #print(self.W2.shape)"
      ],
      "metadata": {
        "id": "c_7VJTCtlwE_"
      },
      "execution_count": 15,
      "outputs": []
    },
    {
      "cell_type": "code",
      "source": [
        "model_sparse = SimplePerceptronSparse().double()\n",
        "print(count_parameters(model_sparse))\n",
        "print(count_parameters(model_sparse)/count_parameters(model))\n",
        "model_sparse.init_sparse(model)\n",
        "model_sparse.eval()"
      ],
      "metadata": {
        "colab": {
          "base_uri": "https://localhost:8080/"
        },
        "id": "UTeBUF_K0hTu",
        "outputId": "b879583b-820d-4663-e8d5-17ddb4952c5d"
      },
      "execution_count": 16,
      "outputs": [
        {
          "output_type": "stream",
          "name": "stdout",
          "text": [
            "torch.Size([1, 9])\n",
            "8023\n",
            "0.04952438565194042\n",
            "torch.Size([1, 22, 1, 1])\n",
            "torch.Size([1])\n"
          ]
        },
        {
          "output_type": "execute_result",
          "data": {
            "text/plain": [
              "SimplePerceptronSparse(\n",
              "  (conv1): Conv2d(2, 400, kernel_size=(1, 1), stride=(1, 1))\n",
              "  (conv2): Conv2d(16, 400, kernel_size=(1, 1), stride=(1, 1))\n",
              "  (conv3): Conv2d(22, 1, kernel_size=(1, 1), stride=(1, 1))\n",
              "  (bn1): BatchNorm2d(16, eps=1e-05, momentum=0.1, affine=False, track_running_stats=True)\n",
              "  (bn2): BatchNorm2d(22, eps=1e-05, momentum=0.1, affine=False, track_running_stats=True)\n",
              ")"
            ]
          },
          "metadata": {},
          "execution_count": 16
        }
      ]
    },
    {
      "cell_type": "code",
      "source": [
        "#train\n",
        "v = model_sparse(input)\n",
        "v[v>=0.5] = 1\n",
        "v[v<0.5] = 0\n",
        "#val\n",
        "v1 = model_sparse(input_v)\n",
        "v1[v1>=0.5] = 1\n",
        "v1[v1<0.5] = 0\n",
        "#test\n",
        "v2 = model_sparse(test_x)\n",
        "v2[v2>=0.5] = 1\n",
        "v2[v2<0.5] = 0\n",
        "\n",
        "print(accuracy(v[:,0,0,0],target))\n",
        "print(accuracy(v1[:,0,0,0],target_v))\n",
        "print(accuracy(v2[:,0,0,0],test_y))"
      ],
      "metadata": {
        "colab": {
          "base_uri": "https://localhost:8080/"
        },
        "id": "i1AzBN4K0hWP",
        "outputId": "8489f06c-9794-43da-d9ba-bef06c2e6eb6"
      },
      "execution_count": 17,
      "outputs": [
        {
          "output_type": "stream",
          "name": "stdout",
          "text": [
            "tensor(1.)\n",
            "tensor(1.)\n",
            "tensor(1.)\n"
          ]
        }
      ]
    },
    {
      "cell_type": "code",
      "source": [
        "#grid\n",
        "x1 = np.array([0])\n",
        "x2 = np.array([0])\n",
        "for i in range(100):\n",
        "  for j in range(100):\n",
        "    x1 = np.concatenate([x1,[-1.5+3/100*i]])\n",
        "    x2 = np.concatenate([x2,[-1.5+3/100*j]])\n",
        "\n",
        "grid = torch.zeros([pow(10,4)+1,2,1,1])\n",
        "print(grid.shape)\n",
        "grid[:,0,0,0] = torch.from_numpy(x1)\n",
        "grid[:,1,0,0] = torch.from_numpy(x2)\n",
        "\n",
        "\n",
        "v = model_sparse(grid.double())\n",
        "v[v>=0.5] = 1\n",
        "v[v<0.5] = 0\n",
        "\n",
        "\n",
        "xA = grid[v[:,0,0,0]==1,0,0,0]\n",
        "yA = grid[v[:,0,0,0]==1,1,0,0]\n",
        "xB = grid[v[:,0,0,0]==0,0,0,0]\n",
        "yB = grid[v[:,0,0,0]==0,1,0,0]\n",
        "plt.scatter(xA,yA)\n",
        "plt.scatter(xB,yB)"
      ],
      "metadata": {
        "colab": {
          "base_uri": "https://localhost:8080/",
          "height": 465
        },
        "id": "n-pC9IqH0hYv",
        "outputId": "0a981bbf-d5ff-4f03-91ee-998768d6fd00"
      },
      "execution_count": 18,
      "outputs": [
        {
          "output_type": "stream",
          "name": "stdout",
          "text": [
            "torch.Size([10001, 2, 1, 1])\n"
          ]
        },
        {
          "output_type": "execute_result",
          "data": {
            "text/plain": [
              "<matplotlib.collections.PathCollection at 0x7ca8df53bf40>"
            ]
          },
          "metadata": {},
          "execution_count": 18
        },
        {
          "output_type": "display_data",
          "data": {
            "text/plain": [
              "<Figure size 640x480 with 1 Axes>"
            ],
            "image/png": "[encoded data removed]"
          },
          "metadata": {}
        }
      ]
    },
    {
      "cell_type": "code",
      "source": [
        "#grid\n",
        "x1 = np.array([0])\n",
        "x2 = np.array([0])\n",
        "for i in range(100):\n",
        "  for j in range(100):\n",
        "    x1 = np.concatenate([x1,[-1.5+3/100*i]])\n",
        "    x2 = np.concatenate([x2,[-1.5+3/100*j]])\n",
        "\n",
        "grid = torch.zeros([pow(10,4)+1,2,1,1])\n",
        "print(grid.shape)\n",
        "grid[:,0,0,0] = torch.from_numpy(x1)\n",
        "grid[:,1,0,0] = torch.from_numpy(x2)\n",
        "\n",
        "model.load_state_dict(torch.load(\"/content/FCC-swiss-roll-1turn-10k.pth\"))\n",
        "model.eval()\n",
        "v = model(grid.double())\n",
        "v[v>=0.5] = 1\n",
        "v[v<0.5] = 0\n",
        "\n",
        "\n",
        "xA = grid[v[:,0,0,0]==1,0,0,0]\n",
        "yA = grid[v[:,0,0,0]==1,1,0,0]\n",
        "xB = grid[v[:,0,0,0]==0,0,0,0]\n",
        "yB = grid[v[:,0,0,0]==0,1,0,0]\n",
        "plt.scatter(xA,yA)\n",
        "plt.scatter(xB,yB)"
      ],
      "metadata": {
        "colab": {
          "base_uri": "https://localhost:8080/",
          "height": 465
        },
        "id": "GWjCj4pI0hbL",
        "outputId": "0a4e0a9b-eb5a-4a4e-e9fe-c24c417329bf"
      },
      "execution_count": 19,
      "outputs": [
        {
          "output_type": "stream",
          "name": "stdout",
          "text": [
            "torch.Size([10001, 2, 1, 1])\n"
          ]
        },
        {
          "output_type": "execute_result",
          "data": {
            "text/plain": [
              "<matplotlib.collections.PathCollection at 0x7ca9bb260ee0>"
            ]
          },
          "metadata": {},
          "execution_count": 19
        },
        {
          "output_type": "display_data",
          "data": {
            "text/plain": [
              "<Figure size 640x480 with 1 Axes>"
            ],
            "image/png": "[encoded data removed]"
          },
          "metadata": {}
        }
      ]
    },
    {
      "cell_type": "code",
      "source": [
        "#grid\n",
        "x1 = np.array([0])\n",
        "x2 = np.array([0])\n",
        "for i in range(100):\n",
        "  for j in range(100):\n",
        "    x1 = np.concatenate([x1,[-1.5+3/100*i]])\n",
        "    x2 = np.concatenate([x2,[-1.5+3/100*j]])\n",
        "\n",
        "grid = torch.zeros([pow(10,4)+1,2,1,1])\n",
        "print(grid.shape)\n",
        "grid[:,0,0,0] = torch.from_numpy(x1)\n",
        "grid[:,1,0,0] = torch.from_numpy(x2)\n",
        "\n",
        "model.load_state_dict(torch.load(\"/content/FCC-swiss-roll-1turn-10k.pth\"))\n",
        "model.train()\n",
        "v = model(grid.double())\n",
        "v[v>=0.5] = 1\n",
        "v[v<0.5] = 0\n",
        "\n",
        "\n",
        "xA = grid[v[:,0,0,0]==1,0,0,0]\n",
        "yA = grid[v[:,0,0,0]==1,1,0,0]\n",
        "xB = grid[v[:,0,0,0]==0,0,0,0]\n",
        "yB = grid[v[:,0,0,0]==0,1,0,0]\n",
        "plt.scatter(xA,yA)\n",
        "plt.scatter(xB,yB)"
      ],
      "metadata": {
        "colab": {
          "base_uri": "https://localhost:8080/",
          "height": 465
        },
        "id": "W9QIUcjr0hdn",
        "outputId": "2756a7ab-e76a-4ba2-dafb-3c7ebc1368e7"
      },
      "execution_count": 20,
      "outputs": [
        {
          "output_type": "stream",
          "name": "stdout",
          "text": [
            "torch.Size([10001, 2, 1, 1])\n"
          ]
        },
        {
          "output_type": "execute_result",
          "data": {
            "text/plain": [
              "<matplotlib.collections.PathCollection at 0x7ca8de5466e0>"
            ]
          },
          "metadata": {},
          "execution_count": 20
        },
        {
          "output_type": "display_data",
          "data": {
            "text/plain": [
              "<Figure size 640x480 with 1 Axes>"
            ],
            "image/png": "[encoded data removed]"
          },
          "metadata": {}
        }
      ]
    },
    {
      "cell_type": "code",
      "source": [],
      "metadata": {
        "id": "9LV9zYbha2cA"
      },
      "execution_count": 20,
      "outputs": []
    },
    {
      "cell_type": "code",
      "source": [
        "model.load_state_dict(torch.load(\"/content/FCC-swiss-roll-1turn-10k.pth\"))\n",
        "model.eval()"
      ],
      "metadata": {
        "colab": {
          "base_uri": "https://localhost:8080/"
        },
        "id": "pzTbpXy7EA2V",
        "outputId": "97f537bb-a746-42a2-c976-3816361f7d1a"
      },
      "execution_count": 21,
      "outputs": [
        {
          "output_type": "execute_result",
          "data": {
            "text/plain": [
              "SimplePerceptron(\n",
              "  (conv1): Conv2d(2, 400, kernel_size=(1, 1), stride=(1, 1))\n",
              "  (conv2): Conv2d(400, 400, kernel_size=(1, 1), stride=(1, 1))\n",
              "  (conv3): Conv2d(400, 1, kernel_size=(1, 1), stride=(1, 1))\n",
              "  (bn1): BatchNorm2d(400, eps=1e-05, momentum=0.1, affine=False, track_running_stats=True)\n",
              "  (bn2): BatchNorm2d(400, eps=1e-05, momentum=0.1, affine=False, track_running_stats=True)\n",
              ")"
            ]
          },
          "metadata": {},
          "execution_count": 21
        }
      ]
    },
    {
      "cell_type": "markdown",
      "source": [
        "## Sparse model - efficient implementation"
      ],
      "metadata": {
        "id": "pkHzOhN9Ewc9"
      }
    },
    {
      "cell_type": "code",
      "source": [
        "class SimplePerceptronSparse2(nn.Module):\n",
        "\n",
        "    def __init__(self):\n",
        "        super(SimplePerceptronSparse2, self).__init__()\n",
        "        self.conv1 = nn.Conv2d(2,9,kernel_size = (1,1))\n",
        "        self.conv2 = nn.Conv2d(9,9,kernel_size = (1,1))\n",
        "        self.conv3 = nn.Conv2d(9,1,kernel_size = (1,1))\n",
        "\n",
        "        self.bn1 = nn.BatchNorm2d(9, affine=False)\n",
        "        self.bn2 = nn.BatchNorm2d(9, affine=False)\n",
        "\n",
        "        self.path_A2 = '/content/estAp2_layer2.csv'\n",
        "        self.path_b2 = '/content/estB_p2_layer2.csv'\n",
        "        self.path_W2 = '/content/W_p2_layer2.csv'\n",
        "\n",
        "        self.path_A3 = '/content/estAp2_layer3.csv'\n",
        "        self.path_b3 = '/content/estB_p2_layer3.csv'\n",
        "        self.path_W3 = '/content/W_p2_layer3.csv'\n",
        "\n",
        "        self.A2 = pd.read_csv(self.path_A2, header = None)\n",
        "        self.A2 = self.A2.to_numpy()\n",
        "        self.A2 = torch.from_numpy(self.A2)\n",
        "        self.b2 = pd.read_csv(self.path_b2, header = None)\n",
        "        self.b2 = self.b2.to_numpy()\n",
        "        self.b2 = torch.squeeze(torch.from_numpy(self.b2))\n",
        "        self.W2 = pd.read_csv(self.path_W2, header = None).to_numpy()\n",
        "        self.W2 = torch.squeeze(torch.from_numpy(self.W2))\n",
        "\n",
        "        self.A3 = pd.read_csv(self.path_A3, header = None)\n",
        "        self.A3 = self.A3.to_numpy()\n",
        "        self.A3 = torch.from_numpy(self.A3)\n",
        "        self.b3 = pd.read_csv(self.path_b3, header = None)\n",
        "        self.b3 = self.b3.to_numpy()\n",
        "        #self.b3 = torch.squeeze(torch.from_numpy(self.b3))\n",
        "        self.b3 = torch.squeeze(torch.from_numpy(self.b3), dim = 1)\n",
        "        self.W3 = pd.read_csv(self.path_W3, header = None).to_numpy()\n",
        "        self.W3 = torch.squeeze(torch.from_numpy(self.W3))\n",
        "        self.A3 = self.A3[:,self.W3>0]\n",
        "\n",
        "        #print(self.A2.shape)\n",
        "        self.A2 = self.A2[:,self.W2>0]\n",
        "        self.A2 = self.A2[self.W3>0,:]\n",
        "        self.b2 = self.b2[self.W3>0]\n",
        "        #print(self.A2.shape)\n",
        "        #print(self.A3.shape)\n",
        "\n",
        "\n",
        "    def forward(self, x):\n",
        "        #1st  layer\n",
        "        x = self.conv1(x)\n",
        "        x = self.bn1(x)\n",
        "        x = F.relu(x)\n",
        "\n",
        "        #x = x[:,self.W2>0]\n",
        "        x = self.conv2(x)\n",
        "        x = self.bn2(x)\n",
        "        x = F.relu(x)\n",
        "\n",
        "        #x = x[:,self.W3>0]\n",
        "        x = self.conv3(x)\n",
        "        x = F.sigmoid(x)\n",
        "        return x\n",
        "\n",
        "    def init_sparse(self, model):\n",
        "      self.conv1.weight = nn.Parameter(model.conv1.weight[self.W2>0,:])\n",
        "      self.conv1.bias = nn.Parameter(model.conv1.bias[self.W2>0])\n",
        "      self.bn1.running_mean = model.bn1.running_mean[self.W2>0]\n",
        "      self.bn1.running_var = model.bn1.running_var[self.W2>0]\n",
        "\n",
        "      self.conv2.weight = nn.Parameter(self.A2.reshape([self.A2.shape[0],self.A2.shape[1],1,1]));\n",
        "      self.conv2.bias = nn.Parameter(self.b2)\n",
        "      self.bn2.running_mean = model.bn2.running_mean[self.W3>0]\n",
        "      self.bn2.running_var = model.bn2.running_var[self.W3>0]\n",
        "\n",
        "      #print(self.conv3.weight.shape)\n",
        "      #print(self.conv3.bias.shape)\n",
        "      self.conv3.weight = nn.Parameter(self.A3.reshape([self.A3.shape[0],self.A3.shape[1],1,1]));\n",
        "      self.conv3.bias = nn.Parameter(self.b3)\n",
        "      #print(self.W1.shape)\n",
        "      #print(self.W2.shape)"
      ],
      "metadata": {
        "id": "fQ74yMHPEA5E"
      },
      "execution_count": 22,
      "outputs": []
    },
    {
      "cell_type": "code",
      "source": [
        "model_sparse2 = SimplePerceptronSparse2().double()\n",
        "print(count_parameters(model_sparse2))\n",
        "print(count_parameters(model_sparse2)/count_parameters(model))\n",
        "model_sparse2.init_sparse(model)\n",
        "model_sparse2.eval()"
      ],
      "metadata": {
        "colab": {
          "base_uri": "https://localhost:8080/"
        },
        "id": "FY6dV6SbEA8S",
        "outputId": "e581bd3c-396e-42e7-c1a4-5c5b64d93d98"
      },
      "execution_count": 23,
      "outputs": [
        {
          "output_type": "stream",
          "name": "stdout",
          "text": [
            "127\n",
            "0.0007839457781124808\n"
          ]
        },
        {
          "output_type": "execute_result",
          "data": {
            "text/plain": [
              "SimplePerceptronSparse2(\n",
              "  (conv1): Conv2d(2, 9, kernel_size=(1, 1), stride=(1, 1))\n",
              "  (conv2): Conv2d(9, 9, kernel_size=(1, 1), stride=(1, 1))\n",
              "  (conv3): Conv2d(9, 1, kernel_size=(1, 1), stride=(1, 1))\n",
              "  (bn1): BatchNorm2d(9, eps=1e-05, momentum=0.1, affine=False, track_running_stats=True)\n",
              "  (bn2): BatchNorm2d(9, eps=1e-05, momentum=0.1, affine=False, track_running_stats=True)\n",
              ")"
            ]
          },
          "metadata": {},
          "execution_count": 23
        }
      ]
    },
    {
      "cell_type": "code",
      "source": [
        "#train\n",
        "v = model_sparse2(input)\n",
        "v[v>=0.5] = 1\n",
        "v[v<0.5] = 0\n",
        "#val\n",
        "v1 = model_sparse2(input_v)\n",
        "v1[v1>=0.5] = 1\n",
        "v1[v1<0.5] = 0\n",
        "#test\n",
        "v2 = model_sparse2(test_x)\n",
        "v2[v2>=0.5] = 1\n",
        "v2[v2<0.5] = 0\n",
        "\n",
        "print(accuracy(v[:,0,0,0],target))\n",
        "print(accuracy(v1[:,0,0,0],target_v))\n",
        "print(accuracy(v2[:,0,0,0],test_y))"
      ],
      "metadata": {
        "colab": {
          "base_uri": "https://localhost:8080/"
        },
        "id": "uDcuanI8EA_X",
        "outputId": "8f81be9b-285e-4ff0-ef55-60e5cd5c6f18"
      },
      "execution_count": 24,
      "outputs": [
        {
          "output_type": "stream",
          "name": "stdout",
          "text": [
            "tensor(1.)\n",
            "tensor(1.)\n",
            "tensor(1.)\n"
          ]
        }
      ]
    },
    {
      "cell_type": "code",
      "source": [
        "#grid\n",
        "x1 = np.array([0])\n",
        "x2 = np.array([0])\n",
        "for i in range(100):\n",
        "  for j in range(100):\n",
        "    x1 = np.concatenate([x1,[-1.5+3/100*i]])\n",
        "    x2 = np.concatenate([x2,[-1.5+3/100*j]])\n",
        "\n",
        "grid = torch.zeros([pow(10,4)+1,2,1,1])\n",
        "print(grid.shape)\n",
        "grid[:,0,0,0] = torch.from_numpy(x1)\n",
        "grid[:,1,0,0] = torch.from_numpy(x2)\n",
        "\n",
        "\n",
        "v = model_sparse2(grid.double())\n",
        "v[v>=0.5] = 1\n",
        "v[v<0.5] = 0\n",
        "\n",
        "\n",
        "xA = grid[v[:,0,0,0]==1,0,0,0]\n",
        "yA = grid[v[:,0,0,0]==1,1,0,0]\n",
        "xB = grid[v[:,0,0,0]==0,0,0,0]\n",
        "yB = grid[v[:,0,0,0]==0,1,0,0]\n",
        "plt.scatter(xA,yA)\n",
        "plt.scatter(xB,yB)"
      ],
      "metadata": {
        "id": "QQ2ltuPaF7Lc",
        "outputId": "faa1abd3-69bf-469f-ef51-deebf3d41c3e",
        "colab": {
          "base_uri": "https://localhost:8080/",
          "height": 465
        }
      },
      "execution_count": 25,
      "outputs": [
        {
          "output_type": "stream",
          "name": "stdout",
          "text": [
            "torch.Size([10001, 2, 1, 1])\n"
          ]
        },
        {
          "output_type": "execute_result",
          "data": {
            "text/plain": [
              "<matplotlib.collections.PathCollection at 0x7ca8de5bf430>"
            ]
          },
          "metadata": {},
          "execution_count": 25
        },
        {
          "output_type": "display_data",
          "data": {
            "text/plain": [
              "<Figure size 640x480 with 1 Axes>"
            ],
            "image/png": "[encoded data removed]"
          },
          "metadata": {}
        }
      ]
    },
    {
      "cell_type": "code",
      "source": [
        "v = model_sparse2(grid.double())\n",
        "v = v[1:]\n",
        "v.shape\n",
        "v1 = torch.reshape(v,[100,100])\n",
        "v1.shape\n",
        "plt.axis('off')\n",
        "plt.imshow(np.rot90(v1.detach().numpy()),cmap=\"gray\")"
      ],
      "metadata": {
        "id": "6vOthMkAF7OC",
        "colab": {
          "base_uri": "https://localhost:8080/",
          "height": 423
        },
        "outputId": "ea5fb292-e555-4fe6-fd09-65b13d07a9bf"
      },
      "execution_count": 26,
      "outputs": [
        {
          "output_type": "execute_result",
          "data": {
            "text/plain": [
              "<matplotlib.image.AxesImage at 0x7ca8de639510>"
            ]
          },
          "metadata": {},
          "execution_count": 26
        },
        {
          "output_type": "display_data",
          "data": {
            "text/plain": [
              "<Figure size 640x480 with 1 Axes>"
            ],
            "image/png": "[encoded data removed]"
          },
          "metadata": {}
        }
      ]
    },
    {
      "cell_type": "code",
      "source": [
        "v = model_sparse2(grid.double())\n",
        "v = v[1:]\n",
        "v[v>=0.5] = 1\n",
        "v[v<0.5] = 0\n",
        "v.shape\n",
        "v1 = torch.reshape(v,[100,100])\n",
        "v1.shape\n",
        "plt.axis('off')\n",
        "plt.imshow(np.rot90(v1.detach().numpy()),cmap=\"gray\")"
      ],
      "metadata": {
        "colab": {
          "base_uri": "https://localhost:8080/",
          "height": 423
        },
        "id": "tNZDq7ywQDRy",
        "outputId": "622ed0d7-e1e9-4d82-d16f-1cc6f7638a52"
      },
      "execution_count": 27,
      "outputs": [
        {
          "output_type": "execute_result",
          "data": {
            "text/plain": [
              "<matplotlib.image.AxesImage at 0x7ca8de7b1810>"
            ]
          },
          "metadata": {},
          "execution_count": 27
        },
        {
          "output_type": "display_data",
          "data": {
            "text/plain": [
              "<Figure size 640x480 with 1 Axes>"
            ],
            "image/png": "[encoded data removed]"
          },
          "metadata": {}
        }
      ]
    },
    {
      "cell_type": "code",
      "source": [
        "v = model_sparse2(grid.double())\n",
        "v = v[1:]\n",
        "v[v>=0.5] = 1\n",
        "v[v<0.5] = 0\n",
        "v.shape\n",
        "v1 = torch.reshape(v,[100,100])\n",
        "v1.shape\n",
        "plt.axis('off')\n",
        "plt.imshow(np.rot90(v1.detach().numpy()),cmap=\"gray\")"
      ],
      "metadata": {
        "colab": {
          "base_uri": "https://localhost:8080/",
          "height": 423
        },
        "id": "xsUOzd7JQDUg",
        "outputId": "d6e7046e-c22a-4a5f-9fdd-4a6460b79a9b"
      },
      "execution_count": 28,
      "outputs": [
        {
          "output_type": "execute_result",
          "data": {
            "text/plain": [
              "<matplotlib.image.AxesImage at 0x7ca8df78b400>"
            ]
          },
          "metadata": {},
          "execution_count": 28
        },
        {
          "output_type": "display_data",
          "data": {
            "text/plain": [
              "<Figure size 640x480 with 1 Axes>"
            ],
            "image/png": "[encoded data removed]"
          },
          "metadata": {}
        }
      ]
    },
    {
      "cell_type": "code",
      "source": [
        "v = model(grid.double())\n",
        "v = v[1:]\n",
        "v.shape\n",
        "v1 = torch.reshape(v,[100,100])\n",
        "v1.shape\n",
        "plt.axis('off')\n",
        "plt.imshow(np.rot90(v1.detach().numpy()),cmap=\"gray\")"
      ],
      "metadata": {
        "id": "3eQKX55KF7QS",
        "colab": {
          "base_uri": "https://localhost:8080/",
          "height": 423
        },
        "outputId": "9f1a7f9e-e112-4e36-9cb1-db8a28702631"
      },
      "execution_count": 30,
      "outputs": [
        {
          "output_type": "execute_result",
          "data": {
            "text/plain": [
              "<matplotlib.image.AxesImage at 0x7ca8dea3f160>"
            ]
          },
          "metadata": {},
          "execution_count": 30
        },
        {
          "output_type": "display_data",
          "data": {
            "text/plain": [
              "<Figure size 640x480 with 1 Axes>"
            ],
            "image/png": "[encoded data removed]"
          },
          "metadata": {}
        }
      ]
    },
    {
      "cell_type": "code",
      "source": [],
      "metadata": {
        "id": "_2tu6_dIQU0L"
      },
      "execution_count": null,
      "outputs": []
    }
  ]
}