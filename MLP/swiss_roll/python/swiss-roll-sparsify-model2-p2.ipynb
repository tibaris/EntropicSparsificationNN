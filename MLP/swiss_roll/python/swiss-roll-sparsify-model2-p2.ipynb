{
  "nbformat": 4,
  "nbformat_minor": 0,
  "metadata": {
    "colab": {
      "provenance": [],
      "authorship_tag": "ABX9TyNgMNoTQCDbkQ3uuyJBnDfW",
      "include_colab_link": true
    },
    "kernelspec": {
      "name": "python3",
      "display_name": "Python 3"
    },
    "language_info": {
      "name": "python"
    }
  },
  "cells": [
    {
      "cell_type": "markdown",
      "metadata": {
        "id": "view-in-github",
        "colab_type": "text"
      },
      "source": [
        "<a href=\"https://colab.research.google.com/github/tibaris/EntropicSparsificationNN/blob/main/swiss-roll-sparsify-model2-p2.ipynb\" target=\"_parent\"><img src=\"https://colab.research.google.com/assets/colab-badge.svg\" alt=\"Open In Colab\"/></a>"
      ]
    },
    {
      "cell_type": "code",
      "execution_count": 1,
      "metadata": {
        "id": "y3VNNY28auqT"
      },
      "outputs": [],
      "source": [
        "from skimage import io, exposure\n",
        "\n",
        "import numpy as np\n",
        "import scipy\n",
        "import scipy.ndimage\n",
        "import matplotlib.pyplot as plt\n",
        "\n",
        "from sklearn.metrics import confusion_matrix\n",
        "from sklearn import metrics\n",
        "from scipy.ndimage import gaussian_filter\n",
        "\n",
        "import time\n",
        "from skimage.color import rgb2gray\n",
        "from skimage.transform import rescale"
      ]
    },
    {
      "cell_type": "code",
      "source": [
        "\n",
        "import torch\n",
        "import torch.nn as nn\n",
        "import torch.nn.functional as F\n",
        "import torch.optim as optim\n",
        "import torch.optim.lr_scheduler as sched\n",
        "\n",
        "import csv\n",
        "import pandas as pd\n",
        "import time\n",
        "import gc\n",
        "import sys"
      ],
      "metadata": {
        "id": "v7RQfcSBa2Kj"
      },
      "execution_count": 2,
      "outputs": []
    },
    {
      "cell_type": "code",
      "source": [
        "def count_parameters(model): return sum(p.numel() for p in model.parameters() if p.requires_grad)"
      ],
      "metadata": {
        "id": "9t-8B5kQa2NE"
      },
      "execution_count": 3,
      "outputs": []
    },
    {
      "cell_type": "markdown",
      "source": [
        "# Case 2: Two turns"
      ],
      "metadata": {
        "id": "-tt5pqIidJV4"
      }
    },
    {
      "cell_type": "code",
      "source": [
        "train_data = pd.read_csv(\"/content/swissroll-10000-turn2.csv\", header=None)\n",
        "train_data = train_data.to_numpy()"
      ],
      "metadata": {
        "id": "RatEF1oudt-u"
      },
      "execution_count": 14,
      "outputs": []
    },
    {
      "cell_type": "code",
      "source": [
        "train_data = np.transpose(train_data)\n",
        "train_data = torch.from_numpy(train_data)\n",
        "print(train_data.shape)\n",
        "\n",
        "train_num = train_data.shape[0]\n",
        "torch.manual_seed(0)\n",
        "permutation = torch.randperm(train_num)\n",
        "\n",
        "train_x = train_data[permutation[:15000],:]\n",
        "train_y = (permutation[:15000]<train_num/2)*1\n",
        "train_x = train_x.reshape([train_x.shape[0],train_x.shape[1],1,1])\n",
        "print(train_x.shape)\n",
        "print(train_y.shape)"
      ],
      "metadata": {
        "id": "LgAM63hkduoe",
        "colab": {
          "base_uri": "https://localhost:8080/"
        },
        "outputId": "89ed6f1a-2836-4867-e794-6d8bd4855029"
      },
      "execution_count": 15,
      "outputs": [
        {
          "output_type": "stream",
          "name": "stdout",
          "text": [
            "torch.Size([20000, 2])\n",
            "torch.Size([15000, 2, 1, 1])\n",
            "torch.Size([15000])\n"
          ]
        }
      ]
    },
    {
      "cell_type": "code",
      "source": [
        "input = train_x[:10000].double()\n",
        "target = train_y[:10000].double()\n",
        "\n",
        "input_v = train_x[10000:].double()\n",
        "target_v = train_y[10000:].double()\n",
        "\n",
        "test_x = train_data[permutation[15000:],:]\n",
        "test_x = test_x.reshape([test_x.shape[0],test_x.shape[1],1,1])\n",
        "test_y = (permutation[15000:]<train_num/2)*1"
      ],
      "metadata": {
        "id": "Ey8OVz9qpW-f"
      },
      "execution_count": 16,
      "outputs": []
    },
    {
      "cell_type": "code",
      "source": [
        "class SimplePerceptron(nn.Module):\n",
        "\n",
        "    def __init__(self):\n",
        "        super(SimplePerceptron, self).__init__()\n",
        "        self.conv1 = nn.Conv2d(2,400,kernel_size = (1,1))\n",
        "        self.conv2 = nn.Conv2d(400,400,kernel_size = (1,1))\n",
        "        self.conv3 = nn.Conv2d(400,400,kernel_size = (1,1))\n",
        "        self.conv4 = nn.Conv2d(400,1,kernel_size = (1,1))\n",
        "\n",
        "        self.bn1 = nn.BatchNorm2d(400, affine=False)\n",
        "        self.bn2 = nn.BatchNorm2d(400, affine=False)\n",
        "        self.bn3 = nn.BatchNorm2d(400, affine=False)\n",
        "\n",
        "        self.path_A2 = '/content/estAp2_layer2.csv'\n",
        "        self.path_b2 = '/content/estB_p2_layer2.csv'\n",
        "        self.path_W2 = '/content/W_p2_layer2.csv'\n",
        "\n",
        "        self.path_A3 = '/content/estAp2_layer3.csv'\n",
        "        self.path_b3 = '/content/estB_p2_layer3.csv'\n",
        "        self.path_W3 = '/content/W_p2_layer3.csv'\n",
        "\n",
        "        self.path_A4 = '/content/estAp2_layer4.csv'\n",
        "        self.path_b4 = '/content/estB_p2_layer4.csv'\n",
        "        self.path_W4 = '/content/W_p2_layer4.csv'\n",
        "\n",
        "        self.A2 = pd.read_csv(self.path_A2, header = None)\n",
        "        self.A2 = self.A2.to_numpy()\n",
        "        self.A2 = torch.from_numpy(self.A2)\n",
        "        self.b2 = pd.read_csv(self.path_b2, header = None)\n",
        "        self.b2 = self.b2.to_numpy()\n",
        "        self.b2 = torch.squeeze(torch.from_numpy(self.b2))\n",
        "        self.W2 = pd.read_csv(self.path_W2, header = None).to_numpy()\n",
        "\n",
        "        self.A3 = pd.read_csv(self.path_A3, header = None)\n",
        "        self.A3 = self.A3.to_numpy()\n",
        "        self.A3 = torch.from_numpy(self.A3)\n",
        "        self.b3 = pd.read_csv(self.path_b3, header = None)\n",
        "        self.b3 = self.b3.to_numpy()\n",
        "        self.b3 = torch.squeeze(torch.from_numpy(self.b3))\n",
        "        #self.b3 = torch.squeeze(torch.from_numpy(self.b3), dim = 1)\n",
        "        self.W3 = pd.read_csv(self.path_W3, header = None).to_numpy()\n",
        "\n",
        "        self.A4 = pd.read_csv(self.path_A4, header = None)\n",
        "        self.A4 = self.A4.to_numpy()\n",
        "        self.A4 = torch.from_numpy(self.A4)\n",
        "        self.b4 = pd.read_csv(self.path_b4, header = None)\n",
        "        self.b4 = self.b4.to_numpy()\n",
        "        #self.b3 = torch.squeeze(torch.from_numpy(self.b3))\n",
        "        self.b4 = torch.squeeze(torch.from_numpy(self.b4), dim = 1)\n",
        "        self.W4 = pd.read_csv(self.path_W4, header = None).to_numpy()\n",
        "        #print(self.b3.shape)\n",
        "\n",
        "\n",
        "    def forward(self, x):\n",
        "\n",
        "        #1st  layer\n",
        "        #x = self.bn1(x)\n",
        "        x = self.conv1(x)\n",
        "        x = self.bn1(x)\n",
        "        x = F.relu(x)\n",
        "\n",
        "        x = self.conv2(x)\n",
        "        x = self.bn2(x)\n",
        "        x = F.relu(x)\n",
        "\n",
        "        x = self.conv3(x)\n",
        "        x = self.bn3(x)\n",
        "        x = F.relu(x)\n",
        "\n",
        "        x = self.conv4(x)\n",
        "        #x = F.softmax(x)\n",
        "        x = F.sigmoid(x)\n",
        "        return x\n",
        "\n",
        "    def forward_sparse(self, x):\n",
        "        #1st  layer\n",
        "        #x = self.bn1(x)\n",
        "        x = self.conv1(x)\n",
        "        x = self.bn1(x)\n",
        "        x = F.relu(x)\n",
        "\n",
        "        x = self.my_conv2(x)\n",
        "        x = self.bn2(x)\n",
        "        x = F.relu(x)\n",
        "\n",
        "        x = self.my_conv3(x)\n",
        "        x = self.bn3(x)\n",
        "        x = F.relu(x)\n",
        "\n",
        "        x = self.my_conv4(x)\n",
        "        #x = F.softmax(x)\n",
        "        x = F.sigmoid(x)\n",
        "        return x\n",
        "\n",
        "    def my_conv2(self,x):\n",
        "        x = torch.matmul(torch.squeeze(self.A2), torch.transpose(torch.squeeze(x),0,1))  #+ torch.squeeze(b)\n",
        "        #print(x.shape)\n",
        "        #print(self.b2.shape)\n",
        "        x = torch.transpose(x,0,1) + self.b2\n",
        "        x = torch.unsqueeze(torch.unsqueeze(x,2),2)\n",
        "        #print(x.shape)\n",
        "        #x = torch.unsqueeze(torch.unsqueeze(res,2),2)\n",
        "        return x\n",
        "\n",
        "    def my_conv3(self,x):\n",
        "        x = torch.matmul(torch.squeeze(self.A3), torch.transpose(torch.squeeze(x),0,1))  #+ torch.squeeze(b)\n",
        "        #print(x.shape)\n",
        "        #print(self.b2.shape)\n",
        "        x = torch.transpose(x,0,1) + self.b3\n",
        "        x = torch.unsqueeze(torch.unsqueeze(x,2),2)\n",
        "        #print(x.shape)\n",
        "        #x = torch.unsqueeze(torch.unsqueeze(res,2),2)\n",
        "        return x\n",
        "\n",
        "    def my_conv4(self,x):\n",
        "        x = torch.matmul(torch.squeeze(self.A4), torch.transpose(torch.squeeze(x),0,1))  #+ torch.squeeze(b)\n",
        "        #print(x.shape)\n",
        "        #print(self.b3.shape)\n",
        "        x = x + self.b4\n",
        "        #print(x.shape)\n",
        "        x = torch.unsqueeze(torch.unsqueeze(torch.unsqueeze(x,1),2),2)\n",
        "        #print(x.shape)\n",
        "        #x = torch.unsqueeze(torch.unsqueeze(res,2),2)\n",
        "        return x\n",
        "\n",
        "    def sparsity(self):\n",
        "        return (sum(sum(self.W2>0))+sum(sum(self.W3>0))+sum(sum(self.W4>0)))/(sum(sum(self.W2>0))+sum(sum(self.W3>=0))+sum(sum(self.W4>=0)))\n",
        "\n",
        "    def sparsity2(self):\n",
        "        return (sum(sum(self.W2>0)), sum(sum(self.W3>0)), sum(sum(self.W4>0)))\n"
      ],
      "metadata": {
        "id": "R-qXPocSbfkj"
      },
      "execution_count": 17,
      "outputs": []
    },
    {
      "cell_type": "code",
      "source": [
        "model = SimplePerceptron().double()\n",
        "print(count_parameters(model))"
      ],
      "metadata": {
        "id": "Ve5yAz3Ybfm8",
        "colab": {
          "base_uri": "https://localhost:8080/"
        },
        "outputId": "d4ee0514-0f60-4834-c5cd-c99540fa281b"
      },
      "execution_count": 18,
      "outputs": [
        {
          "output_type": "stream",
          "name": "stdout",
          "text": [
            "322401\n"
          ]
        }
      ]
    },
    {
      "cell_type": "code",
      "source": [
        "#model.load_state_dict(torch.load(\"/content/FCC-swiss-roll-2turn-10kbig.pth\"))\n",
        "model.load_state_dict(torch.load(\"/content/FCC-swiss-roll-2turn-10kbig-corrected.pth\"))\n",
        "model.eval()"
      ],
      "metadata": {
        "id": "Po44A6LRbfpi",
        "colab": {
          "base_uri": "https://localhost:8080/"
        },
        "outputId": "283b8002-d2a8-4737-e76f-900925952bb8"
      },
      "execution_count": 19,
      "outputs": [
        {
          "output_type": "execute_result",
          "data": {
            "text/plain": [
              "SimplePerceptron(\n",
              "  (conv1): Conv2d(2, 400, kernel_size=(1, 1), stride=(1, 1))\n",
              "  (conv2): Conv2d(400, 400, kernel_size=(1, 1), stride=(1, 1))\n",
              "  (conv3): Conv2d(400, 400, kernel_size=(1, 1), stride=(1, 1))\n",
              "  (conv4): Conv2d(400, 1, kernel_size=(1, 1), stride=(1, 1))\n",
              "  (bn1): BatchNorm2d(400, eps=1e-05, momentum=0.1, affine=False, track_running_stats=True)\n",
              "  (bn2): BatchNorm2d(400, eps=1e-05, momentum=0.1, affine=False, track_running_stats=True)\n",
              "  (bn3): BatchNorm2d(400, eps=1e-05, momentum=0.1, affine=False, track_running_stats=True)\n",
              ")"
            ]
          },
          "metadata": {},
          "execution_count": 19
        }
      ]
    },
    {
      "cell_type": "code",
      "source": [
        "def accuracy(y1,y2):\n",
        "    train_acc = torch.sum(y1 == y2)\n",
        "    #print(train_acc)\n",
        "    final_train_acc = train_acc/y2.shape[0]\n",
        "    return final_train_acc"
      ],
      "metadata": {
        "id": "WgidfF6zurv7"
      },
      "execution_count": 20,
      "outputs": []
    },
    {
      "cell_type": "code",
      "source": [
        "#train\n",
        "#model.eval()\n",
        "v = model(input)\n",
        "v[v>=0.5] = 1\n",
        "v[v<0.5] = 0\n",
        "#val\n",
        "v1 = model(input_v)\n",
        "v1[v1>=0.5] = 1\n",
        "v1[v1<0.5] = 0\n",
        "#test\n",
        "v2 = model(test_x)\n",
        "v2[v2>=0.5] = 1\n",
        "v2[v2<0.5] = 0\n",
        "\n",
        "print(accuracy(v[:,0,0,0],target))\n",
        "print(accuracy(v1[:,0,0,0],target_v))\n",
        "print(accuracy(v2[:,0,0,0],test_y))"
      ],
      "metadata": {
        "colab": {
          "base_uri": "https://localhost:8080/"
        },
        "id": "A9Xl32Usqj4o",
        "outputId": "19a0a4cd-ebcc-4f49-ee09-98b9158cad8d"
      },
      "execution_count": 21,
      "outputs": [
        {
          "output_type": "stream",
          "name": "stdout",
          "text": [
            "tensor(1.)\n",
            "tensor(1.)\n",
            "tensor(1.)\n"
          ]
        }
      ]
    },
    {
      "cell_type": "code",
      "source": [
        "#train\n",
        "v = model.forward_sparse(input)\n",
        "v[v>=0.5] = 1\n",
        "v[v<0.5] = 0\n",
        "#val\n",
        "v1 = model.forward_sparse(input_v)\n",
        "v1[v1>=0.5] = 1\n",
        "v1[v1<0.5] = 0\n",
        "#test\n",
        "v2 = model.forward_sparse(test_x)\n",
        "v2[v2>=0.5] = 1\n",
        "v2[v2<0.5] = 0\n",
        "\n",
        "print(accuracy(v[:,0,0,0],target))\n",
        "print(accuracy(v1[:,0,0,0],target_v))\n",
        "print(accuracy(v2[:,0,0,0],test_y))"
      ],
      "metadata": {
        "colab": {
          "base_uri": "https://localhost:8080/"
        },
        "id": "LQGUx6Xuqj6_",
        "outputId": "3e5c7819-109a-4d14-834f-b07caa478589"
      },
      "execution_count": 22,
      "outputs": [
        {
          "output_type": "stream",
          "name": "stdout",
          "text": [
            "tensor(0.9703)\n",
            "tensor(0.9690)\n",
            "tensor(0.9620)\n"
          ]
        }
      ]
    },
    {
      "cell_type": "code",
      "source": [
        "print(model.sparsity())\n",
        "print(model.sparsity2())"
      ],
      "metadata": {
        "id": "ZSRpO0FZuMvY",
        "colab": {
          "base_uri": "https://localhost:8080/"
        },
        "outputId": "9320605f-a94d-49e1-b401-173e92290bd1"
      },
      "execution_count": 23,
      "outputs": [
        {
          "output_type": "stream",
          "name": "stdout",
          "text": [
            "0.05672009864364982\n",
            "(11, 20, 15)\n"
          ]
        }
      ]
    },
    {
      "cell_type": "code",
      "source": [],
      "metadata": {
        "id": "Wgz-SZkUqlaQ"
      },
      "execution_count": 23,
      "outputs": []
    },
    {
      "cell_type": "markdown",
      "source": [
        "# Sparse model"
      ],
      "metadata": {
        "id": "UtMhxfZztGIO"
      }
    },
    {
      "cell_type": "code",
      "source": [
        "class SimplePerceptronSparse(nn.Module):\n",
        "\n",
        "    def __init__(self):\n",
        "        super(SimplePerceptronSparse, self).__init__()\n",
        "        self.conv1 = nn.Conv2d(2,400,kernel_size = (1,1))\n",
        "        self.conv2 = nn.Conv2d(11,400,kernel_size = (1,1))\n",
        "        self.conv3 = nn.Conv2d(20,400,kernel_size = (1,1))\n",
        "        self.conv4 = nn.Conv2d(15,1,kernel_size = (1,1))\n",
        "\n",
        "        self.bn1 = nn.BatchNorm2d(400, affine=False)\n",
        "        self.bn2 = nn.BatchNorm2d(400, affine=False)\n",
        "        self.bn3 = nn.BatchNorm2d(400, affine=False)\n",
        "\n",
        "        self.path_A2 = '/content/estAp2_layer2.csv'\n",
        "        self.path_b2 = '/content/estB_p2_layer2.csv'\n",
        "        self.path_W2 = '/content/W_p2_layer2.csv'\n",
        "\n",
        "        self.path_A3 = '/content/estAp2_layer3.csv'\n",
        "        self.path_b3 = '/content/estB_p2_layer3.csv'\n",
        "        self.path_W3 = '/content/W_p2_layer3.csv'\n",
        "\n",
        "        self.path_A4 = '/content/estAp2_layer4.csv'\n",
        "        self.path_b4 = '/content/estB_p2_layer4.csv'\n",
        "        self.path_W4 = '/content/W_p2_layer4.csv'\n",
        "\n",
        "        self.A2 = pd.read_csv(self.path_A2, header = None)\n",
        "        self.A2 = self.A2.to_numpy()\n",
        "        self.A2 = torch.from_numpy(self.A2)\n",
        "        self.b2 = pd.read_csv(self.path_b2, header = None)\n",
        "        self.b2 = self.b2.to_numpy()\n",
        "        self.b2 = torch.squeeze(torch.from_numpy(self.b2))\n",
        "        self.W2 = pd.read_csv(self.path_W2, header = None).to_numpy()\n",
        "        self.W2 = torch.squeeze(torch.from_numpy(self.W2))\n",
        "\n",
        "        self.A3 = pd.read_csv(self.path_A3, header = None)\n",
        "        self.A3 = self.A3.to_numpy()\n",
        "        self.A3 = torch.from_numpy(self.A3)\n",
        "        self.b3 = pd.read_csv(self.path_b3, header = None)\n",
        "        self.b3 = self.b3.to_numpy()\n",
        "        self.b3 = torch.squeeze(torch.from_numpy(self.b3))\n",
        "        #self.b3 = torch.squeeze(torch.from_numpy(self.b3), dim = 1)\n",
        "        self.W3 = pd.read_csv(self.path_W3, header = None).to_numpy()\n",
        "        self.W3 = torch.squeeze(torch.from_numpy(self.W3))\n",
        "\n",
        "        self.A4 = pd.read_csv(self.path_A4, header = None)\n",
        "        self.A4 = self.A4.to_numpy()\n",
        "        self.A4 = torch.from_numpy(self.A4)\n",
        "        self.b4 = pd.read_csv(self.path_b4, header = None)\n",
        "        self.b4 = self.b4.to_numpy()\n",
        "        #self.b3 = torch.squeeze(torch.from_numpy(self.b3))\n",
        "        self.b4 = torch.squeeze(torch.from_numpy(self.b4), dim = 1)\n",
        "        self.W4 = pd.read_csv(self.path_W4, header = None).to_numpy()\n",
        "        self.W4 = torch.squeeze(torch.from_numpy(self.W4))\n",
        "        #print(self.b3.shape)\n",
        "\n",
        "        self.A2 = self.A2[:,self.W2>0]\n",
        "        self.A3 = self.A3[:,self.W3>0]\n",
        "        self.A4 = self.A4[:,self.W4>0]\n",
        "\n",
        "\n",
        "    def forward(self, x):\n",
        "\n",
        "        #1st  layer\n",
        "        #x = self.bn1(x)\n",
        "        x = self.conv1(x)\n",
        "        x = self.bn1(x)\n",
        "        x = F.relu(x)\n",
        "\n",
        "        x = x[:,self.W2>0]\n",
        "        x = self.conv2(x)\n",
        "        x = self.bn2(x)\n",
        "        x = F.relu(x)\n",
        "\n",
        "        x = x[:,self.W3>0]\n",
        "        x = self.conv3(x)\n",
        "        x = self.bn3(x)\n",
        "        x = F.relu(x)\n",
        "\n",
        "        x = x[:,self.W4>0]\n",
        "        x = self.conv4(x)\n",
        "        #x = F.softmax(x)\n",
        "        x = F.sigmoid(x)\n",
        "        return x\n",
        "\n",
        "    def init_sparse(self, model):\n",
        "      self.conv1.weight = model.conv1.weight\n",
        "      self.conv1.bias = model.conv1.bias\n",
        "      self.bn1.running_mean = model.bn1.running_mean\n",
        "      self.bn1.running_var = model.bn1.running_var\n",
        "\n",
        "      self.conv2.weight = nn.Parameter(self.A2.reshape([self.A2.shape[0],self.A2.shape[1],1,1]));\n",
        "      self.conv2.bias = nn.Parameter(self.b2)\n",
        "      self.bn2.running_mean = model.bn2.running_mean\n",
        "      self.bn2.running_var = model.bn2.running_var\n",
        "\n",
        "      self.conv3.weight = nn.Parameter(self.A3.reshape([self.A3.shape[0],self.A3.shape[1],1,1]));\n",
        "      self.conv3.bias = nn.Parameter(self.b3)\n",
        "      self.bn3.running_mean = model.bn3.running_mean\n",
        "      self.bn3.running_var = model.bn3.running_var\n",
        "\n",
        "      #print(self.conv3.weight.shape)\n",
        "      #print(self.conv3.bias.shape)\n",
        "      self.conv4.weight = nn.Parameter(self.A4.reshape([self.A4.shape[0],self.A4.shape[1],1,1]));\n",
        "      self.conv4.bias = nn.Parameter(self.b4)\n",
        "      #print(self.W1.shape)\n",
        "      #print(self.W2.shape)"
      ],
      "metadata": {
        "id": "j-NbkJhXqlc-"
      },
      "execution_count": 24,
      "outputs": []
    },
    {
      "cell_type": "code",
      "source": [
        "model_sparse = SimplePerceptronSparse().double()\n",
        "print(count_parameters(model_sparse))\n",
        "print(count_parameters(model_sparse)/count_parameters(model))\n",
        "model_sparse.init_sparse(model)\n",
        "model_sparse.eval()"
      ],
      "metadata": {
        "colab": {
          "base_uri": "https://localhost:8080/"
        },
        "id": "mikTqQAeuoaK",
        "outputId": "0a008f58-2c1b-4bb9-e365-4298a0162b61"
      },
      "execution_count": 25,
      "outputs": [
        {
          "output_type": "stream",
          "name": "stdout",
          "text": [
            "14416\n",
            "0.044714501505888626\n"
          ]
        },
        {
          "output_type": "execute_result",
          "data": {
            "text/plain": [
              "SimplePerceptronSparse(\n",
              "  (conv1): Conv2d(2, 400, kernel_size=(1, 1), stride=(1, 1))\n",
              "  (conv2): Conv2d(11, 400, kernel_size=(1, 1), stride=(1, 1))\n",
              "  (conv3): Conv2d(20, 400, kernel_size=(1, 1), stride=(1, 1))\n",
              "  (conv4): Conv2d(15, 1, kernel_size=(1, 1), stride=(1, 1))\n",
              "  (bn1): BatchNorm2d(400, eps=1e-05, momentum=0.1, affine=False, track_running_stats=True)\n",
              "  (bn2): BatchNorm2d(400, eps=1e-05, momentum=0.1, affine=False, track_running_stats=True)\n",
              "  (bn3): BatchNorm2d(400, eps=1e-05, momentum=0.1, affine=False, track_running_stats=True)\n",
              ")"
            ]
          },
          "metadata": {},
          "execution_count": 25
        }
      ]
    },
    {
      "cell_type": "code",
      "source": [
        "#train\n",
        "v = model_sparse(input)\n",
        "v[v>=0.5] = 1\n",
        "v[v<0.5] = 0\n",
        "#val\n",
        "v1 = model_sparse(input_v)\n",
        "v1[v1>=0.5] = 1\n",
        "v1[v1<0.5] = 0\n",
        "#test\n",
        "v2 = model_sparse(test_x)\n",
        "v2[v2>=0.5] = 1\n",
        "v2[v2<0.5] = 0\n",
        "\n",
        "print(accuracy(v[:,0,0,0],target))\n",
        "print(accuracy(v1[:,0,0,0],target_v))\n",
        "print(accuracy(v2[:,0,0,0],test_y))"
      ],
      "metadata": {
        "colab": {
          "base_uri": "https://localhost:8080/"
        },
        "id": "xUqL2LpKuodH",
        "outputId": "99d3c19e-6515-4343-d851-09eed72dbee4"
      },
      "execution_count": 26,
      "outputs": [
        {
          "output_type": "stream",
          "name": "stdout",
          "text": [
            "tensor(0.9703)\n",
            "tensor(0.9690)\n",
            "tensor(0.9620)\n"
          ]
        }
      ]
    },
    {
      "cell_type": "code",
      "source": [
        "#grid\n",
        "x1 = np.array([0])\n",
        "x2 = np.array([0])\n",
        "for i in range(100):\n",
        "  for j in range(100):\n",
        "    x1 = np.concatenate([x1,[-1.5+3/100*i]])\n",
        "    x2 = np.concatenate([x2,[-1.5+3/100*j]])\n",
        "\n",
        "grid = torch.zeros([pow(10,4)+1,2,1,1])\n",
        "print(grid.shape)\n",
        "grid[:,0,0,0] = torch.from_numpy(x1)\n",
        "grid[:,1,0,0] = torch.from_numpy(x2)\n",
        "\n",
        "\n",
        "v = model_sparse(grid.double())\n",
        "v[v>=0.5] = 1\n",
        "v[v<0.5] = 0\n",
        "\n",
        "\n",
        "xA = grid[v[:,0,0,0]==1,0,0,0]\n",
        "yA = grid[v[:,0,0,0]==1,1,0,0]\n",
        "xB = grid[v[:,0,0,0]==0,0,0,0]\n",
        "yB = grid[v[:,0,0,0]==0,1,0,0]\n",
        "plt.scatter(xA,yA)\n",
        "plt.scatter(xB,yB)"
      ],
      "metadata": {
        "colab": {
          "base_uri": "https://localhost:8080/",
          "height": 465
        },
        "id": "BjTszFBAuoff",
        "outputId": "2f6a8583-a94c-457f-a6da-9ff8baf47a81"
      },
      "execution_count": 27,
      "outputs": [
        {
          "output_type": "stream",
          "name": "stdout",
          "text": [
            "torch.Size([10001, 2, 1, 1])\n"
          ]
        },
        {
          "output_type": "execute_result",
          "data": {
            "text/plain": [
              "<matplotlib.collections.PathCollection at 0x7f54bc2f0ac0>"
            ]
          },
          "metadata": {},
          "execution_count": 27
        },
        {
          "output_type": "display_data",
          "data": {
            "text/plain": [
              "<Figure size 640x480 with 1 Axes>"
            ],
            "image/png": "[encoded data removed]"
          },
          "metadata": {}
        }
      ]
    },
    {
      "cell_type": "code",
      "source": [
        "#grid\n",
        "x1 = np.array([0])\n",
        "x2 = np.array([0])\n",
        "for i in range(100):\n",
        "  for j in range(100):\n",
        "    x1 = np.concatenate([x1,[-1.5+3/100*i]])\n",
        "    x2 = np.concatenate([x2,[-1.5+3/100*j]])\n",
        "\n",
        "grid = torch.zeros([pow(10,4)+1,2,1,1])\n",
        "print(grid.shape)\n",
        "grid[:,0,0,0] = torch.from_numpy(x1)\n",
        "grid[:,1,0,0] = torch.from_numpy(x2)\n",
        "\n",
        "model.load_state_dict(torch.load(\"/content/FCC-swiss-roll-2turn-10kbig-corrected.pth\"))\n",
        "model.eval()\n",
        "v = model(grid.double())\n",
        "v[v>=0.5] = 1\n",
        "v[v<0.5] = 0\n",
        "\n",
        "\n",
        "xA = grid[v[:,0,0,0]==1,0,0,0]\n",
        "yA = grid[v[:,0,0,0]==1,1,0,0]\n",
        "xB = grid[v[:,0,0,0]==0,0,0,0]\n",
        "yB = grid[v[:,0,0,0]==0,1,0,0]\n",
        "plt.scatter(xA,yA)\n",
        "plt.scatter(xB,yB)"
      ],
      "metadata": {
        "colab": {
          "base_uri": "https://localhost:8080/",
          "height": 465
        },
        "id": "khbaWGpwuoh2",
        "outputId": "6f621c0f-1474-438c-aecd-899efc04296e"
      },
      "execution_count": 28,
      "outputs": [
        {
          "output_type": "stream",
          "name": "stdout",
          "text": [
            "torch.Size([10001, 2, 1, 1])\n"
          ]
        },
        {
          "output_type": "execute_result",
          "data": {
            "text/plain": [
              "<matplotlib.collections.PathCollection at 0x7f5564c555d0>"
            ]
          },
          "metadata": {},
          "execution_count": 28
        },
        {
          "output_type": "display_data",
          "data": {
            "text/plain": [
              "<Figure size 640x480 with 1 Axes>"
            ],
            "image/png": "[encoded data removed]"
          },
          "metadata": {}
        }
      ]
    },
    {
      "cell_type": "code",
      "source": [
        "#model.load_state_dict(torch.load(\"/content/FCC-swiss-roll-2turn-10kbig.pth\"))\n",
        "model = SimplePerceptron().double()\n",
        "model.load_state_dict(torch.load(\"/content/FCC-swiss-roll-2turn-10kbig-corrected.pth\"))\n",
        "model.eval()"
      ],
      "metadata": {
        "colab": {
          "base_uri": "https://localhost:8080/"
        },
        "id": "quuAf9pkqlgH",
        "outputId": "eb372717-4054-4cf4-9806-87a1f6910fb5"
      },
      "execution_count": 62,
      "outputs": [
        {
          "output_type": "execute_result",
          "data": {
            "text/plain": [
              "SimplePerceptron(\n",
              "  (conv1): Conv2d(2, 400, kernel_size=(1, 1), stride=(1, 1))\n",
              "  (conv2): Conv2d(400, 400, kernel_size=(1, 1), stride=(1, 1))\n",
              "  (conv3): Conv2d(400, 400, kernel_size=(1, 1), stride=(1, 1))\n",
              "  (conv4): Conv2d(400, 1, kernel_size=(1, 1), stride=(1, 1))\n",
              "  (bn1): BatchNorm2d(400, eps=1e-05, momentum=0.1, affine=False, track_running_stats=True)\n",
              "  (bn2): BatchNorm2d(400, eps=1e-05, momentum=0.1, affine=False, track_running_stats=True)\n",
              "  (bn3): BatchNorm2d(400, eps=1e-05, momentum=0.1, affine=False, track_running_stats=True)\n",
              ")"
            ]
          },
          "metadata": {},
          "execution_count": 62
        }
      ]
    },
    {
      "cell_type": "markdown",
      "source": [
        "### Sparse model - efficient implementation"
      ],
      "metadata": {
        "id": "FlTsGMkJyTXr"
      }
    },
    {
      "cell_type": "code",
      "source": [
        "class SimplePerceptronSparse2(nn.Module):\n",
        "\n",
        "    def __init__(self):\n",
        "        super(SimplePerceptronSparse2, self).__init__()\n",
        "        self.conv1 = nn.Conv2d(2,11,kernel_size = (1,1))\n",
        "        self.conv2 = nn.Conv2d(11,20,kernel_size = (1,1))\n",
        "        self.conv3 = nn.Conv2d(20,15,kernel_size = (1,1))\n",
        "        self.conv4 = nn.Conv2d(15,1,kernel_size = (1,1))\n",
        "\n",
        "        self.bn1 = nn.BatchNorm2d(11, affine=False)\n",
        "        self.bn2 = nn.BatchNorm2d(20, affine=False)\n",
        "        self.bn3 = nn.BatchNorm2d(15, affine=False)\n",
        "\n",
        "        self.path_A2 = '/content/estAp2_layer2.csv'\n",
        "        self.path_b2 = '/content/estB_p2_layer2.csv'\n",
        "        self.path_W2 = '/content/W_p2_layer2.csv'\n",
        "\n",
        "        self.path_A3 = '/content/estAp2_layer3.csv'\n",
        "        self.path_b3 = '/content/estB_p2_layer3.csv'\n",
        "        self.path_W3 = '/content/W_p2_layer3.csv'\n",
        "\n",
        "        self.path_A4 = '/content/estAp2_layer4.csv'\n",
        "        self.path_b4 = '/content/estB_p2_layer4.csv'\n",
        "        self.path_W4 = '/content/W_p2_layer4.csv'\n",
        "\n",
        "        self.A2 = pd.read_csv(self.path_A2, header = None)\n",
        "        self.A2 = self.A2.to_numpy()\n",
        "        self.A2 = torch.from_numpy(self.A2)\n",
        "        self.b2 = pd.read_csv(self.path_b2, header = None)\n",
        "        self.b2 = self.b2.to_numpy()\n",
        "        self.b2 = torch.squeeze(torch.from_numpy(self.b2))\n",
        "        self.W2 = pd.read_csv(self.path_W2, header = None).to_numpy()\n",
        "        self.W2 = torch.squeeze(torch.from_numpy(self.W2))\n",
        "\n",
        "        self.A3 = pd.read_csv(self.path_A3, header = None)\n",
        "        self.A3 = self.A3.to_numpy()\n",
        "        self.A3 = torch.from_numpy(self.A3)\n",
        "        self.b3 = pd.read_csv(self.path_b3, header = None)\n",
        "        self.b3 = self.b3.to_numpy()\n",
        "        self.b3 = torch.squeeze(torch.from_numpy(self.b3))\n",
        "        #self.b3 = torch.squeeze(torch.from_numpy(self.b3), dim = 1)\n",
        "        self.W3 = pd.read_csv(self.path_W3, header = None).to_numpy()\n",
        "        self.W3 = torch.squeeze(torch.from_numpy(self.W3))\n",
        "\n",
        "        self.A4 = pd.read_csv(self.path_A4, header = None)\n",
        "        self.A4 = self.A4.to_numpy()\n",
        "        self.A4 = torch.from_numpy(self.A4)\n",
        "        self.b4 = pd.read_csv(self.path_b4, header = None)\n",
        "        self.b4 = self.b4.to_numpy()\n",
        "        #self.b3 = torch.squeeze(torch.from_numpy(self.b3))\n",
        "        self.b4 = torch.squeeze(torch.from_numpy(self.b4), dim = 1)\n",
        "        self.W4 = pd.read_csv(self.path_W4, header = None).to_numpy()\n",
        "        self.W4 = torch.squeeze(torch.from_numpy(self.W4))\n",
        "        #print(self.b3.shape)\n",
        "\n",
        "        self.A2 = self.A2[:,self.W2>0]\n",
        "        self.A2 = self.A2[self.W3>0,:]\n",
        "        self.b2 = self.b2[self.W3>0]\n",
        "\n",
        "        self.A3 = self.A3[:,self.W3>0]\n",
        "        self.A3 = self.A3[self.W4>0,:]\n",
        "        self.b3 = self.b3[self.W4>0]\n",
        "\n",
        "        self.A4 = self.A4[:,self.W4>0]\n",
        "\n",
        "\n",
        "    def forward(self, x):\n",
        "\n",
        "        #1st  layer\n",
        "        #x = self.bn1(x)\n",
        "        x = self.conv1(x)\n",
        "        x = self.bn1(x)\n",
        "        x = F.relu(x)\n",
        "\n",
        "        #x = x[:,self.W2>0]\n",
        "        x = self.conv2(x)\n",
        "        x = self.bn2(x)\n",
        "        x = F.relu(x)\n",
        "\n",
        "        #x = x[:,self.W3>0]\n",
        "        x = self.conv3(x)\n",
        "        x = self.bn3(x)\n",
        "        x = F.relu(x)\n",
        "\n",
        "        #x = x[:,self.W4>0]\n",
        "        x = self.conv4(x)\n",
        "        #x = F.softmax(x)\n",
        "        x = F.sigmoid(x)\n",
        "        return x\n",
        "\n",
        "    def init_sparse(self, model):\n",
        "      self.conv1.weight = nn.Parameter(model.conv1.weight[self.W2>0,:])\n",
        "      self.conv1.bias = nn.Parameter(model.conv1.bias[self.W2>0])\n",
        "      self.bn1.running_mean = model.bn1.running_mean[self.W2>0]\n",
        "      self.bn1.running_var = model.bn1.running_var[self.W2>0]\n",
        "\n",
        "      self.conv2.weight = nn.Parameter(self.A2.reshape([self.A2.shape[0],self.A2.shape[1],1,1]));\n",
        "      self.conv2.bias = nn.Parameter(self.b2)\n",
        "      self.bn2.running_mean = model.bn2.running_mean[self.W3>0]\n",
        "      self.bn2.running_var = model.bn2.running_var[self.W3>0]\n",
        "\n",
        "      self.conv3.weight = nn.Parameter(self.A3.reshape([self.A3.shape[0],self.A3.shape[1],1,1]));\n",
        "      self.conv3.bias = nn.Parameter(self.b3)\n",
        "      self.bn3.running_mean = model.bn3.running_mean[self.W4>0]\n",
        "      self.bn3.running_var = model.bn3.running_var[self.W4>0]\n",
        "\n",
        "      #print(self.conv3.weight.shape)\n",
        "      #print(self.conv3.bias.shape)\n",
        "      self.conv4.weight = nn.Parameter(self.A4.reshape([self.A4.shape[0],self.A4.shape[1],1,1]));\n",
        "      self.conv4.bias = nn.Parameter(self.b4)\n",
        "      #print(self.W1.shape)\n",
        "      #print(self.W2.shape)"
      ],
      "metadata": {
        "id": "9LV9zYbha2cA"
      },
      "execution_count": 63,
      "outputs": []
    },
    {
      "cell_type": "code",
      "source": [
        "model_sparse2 = SimplePerceptronSparse2().double()\n",
        "print(count_parameters(model_sparse2))\n",
        "print(count_parameters(model_sparse2)/count_parameters(model))\n",
        "model_sparse2.init_sparse(model)\n",
        "model_sparse2.eval()"
      ],
      "metadata": {
        "colab": {
          "base_uri": "https://localhost:8080/"
        },
        "id": "eXqMOapNyV6z",
        "outputId": "28d0509a-92c3-49d2-c3c9-88888da8648b"
      },
      "execution_count": 64,
      "outputs": [
        {
          "output_type": "stream",
          "name": "stdout",
          "text": [
            "604\n",
            "0.001873443320585234\n"
          ]
        },
        {
          "output_type": "execute_result",
          "data": {
            "text/plain": [
              "SimplePerceptronSparse2(\n",
              "  (conv1): Conv2d(2, 11, kernel_size=(1, 1), stride=(1, 1))\n",
              "  (conv2): Conv2d(11, 20, kernel_size=(1, 1), stride=(1, 1))\n",
              "  (conv3): Conv2d(20, 15, kernel_size=(1, 1), stride=(1, 1))\n",
              "  (conv4): Conv2d(15, 1, kernel_size=(1, 1), stride=(1, 1))\n",
              "  (bn1): BatchNorm2d(11, eps=1e-05, momentum=0.1, affine=False, track_running_stats=True)\n",
              "  (bn2): BatchNorm2d(20, eps=1e-05, momentum=0.1, affine=False, track_running_stats=True)\n",
              "  (bn3): BatchNorm2d(15, eps=1e-05, momentum=0.1, affine=False, track_running_stats=True)\n",
              ")"
            ]
          },
          "metadata": {},
          "execution_count": 64
        }
      ]
    },
    {
      "cell_type": "code",
      "source": [
        "#train\n",
        "v = model_sparse2(input)\n",
        "v[v>=0.5] = 1\n",
        "v[v<0.5] = 0\n",
        "#val\n",
        "v1 = model_sparse2(input_v)\n",
        "v1[v1>=0.5] = 1\n",
        "v1[v1<0.5] = 0\n",
        "#test\n",
        "v2 = model_sparse2(test_x)\n",
        "v2[v2>=0.5] = 1\n",
        "v2[v2<0.5] = 0\n",
        "\n",
        "print(accuracy(v[:,0,0,0],target))\n",
        "print(accuracy(v1[:,0,0,0],target_v))\n",
        "print(accuracy(v2[:,0,0,0],test_y))"
      ],
      "metadata": {
        "colab": {
          "base_uri": "https://localhost:8080/"
        },
        "id": "H54NUkHfyV9G",
        "outputId": "d58fc023-1c5a-4017-e4ca-6ece6c7c2edd"
      },
      "execution_count": 65,
      "outputs": [
        {
          "output_type": "stream",
          "name": "stdout",
          "text": [
            "tensor(0.9703)\n",
            "tensor(0.9690)\n",
            "tensor(0.9620)\n"
          ]
        }
      ]
    },
    {
      "cell_type": "code",
      "source": [
        "#grid\n",
        "x1 = np.array([0])\n",
        "x2 = np.array([0])\n",
        "for i in range(100):\n",
        "  for j in range(100):\n",
        "    x1 = np.concatenate([x1,[-1.5+3/100*i]])\n",
        "    x2 = np.concatenate([x2,[-1.5+3/100*j]])\n",
        "\n",
        "grid = torch.zeros([pow(10,4)+1,2,1,1])\n",
        "print(grid.shape)\n",
        "grid[:,0,0,0] = torch.from_numpy(x1)\n",
        "grid[:,1,0,0] = torch.from_numpy(x2)\n",
        "\n",
        "\n",
        "v = model_sparse2(grid.double())\n",
        "v[v>=0.5] = 1\n",
        "v[v<0.5] = 0\n",
        "\n",
        "\n",
        "xA = grid[v[:,0,0,0]==1,0,0,0]\n",
        "yA = grid[v[:,0,0,0]==1,1,0,0]\n",
        "xB = grid[v[:,0,0,0]==0,0,0,0]\n",
        "yB = grid[v[:,0,0,0]==0,1,0,0]\n",
        "plt.scatter(xA,yA)\n",
        "plt.scatter(xB,yB)"
      ],
      "metadata": {
        "colab": {
          "base_uri": "https://localhost:8080/",
          "height": 465
        },
        "id": "WkUSl4uIyV_e",
        "outputId": "8fb0804c-c17c-4d98-eac7-b079b29e2cb8"
      },
      "execution_count": 66,
      "outputs": [
        {
          "output_type": "stream",
          "name": "stdout",
          "text": [
            "torch.Size([10001, 2, 1, 1])\n"
          ]
        },
        {
          "output_type": "execute_result",
          "data": {
            "text/plain": [
              "<matplotlib.collections.PathCollection at 0x7f54baeccb20>"
            ]
          },
          "metadata": {},
          "execution_count": 66
        },
        {
          "output_type": "display_data",
          "data": {
            "text/plain": [
              "<Figure size 640x480 with 1 Axes>"
            ],
            "image/png": "[encoded data removed]"
          },
          "metadata": {}
        }
      ]
    },
    {
      "cell_type": "code",
      "source": [
        "v = model(grid.double())\n",
        "v = v[1:]\n",
        "v.shape\n",
        "v1 = torch.reshape(v,[100,100])\n",
        "v1.shape\n",
        "plt.axis('off')\n",
        "plt.imshow(np.rot90(v1.detach().numpy()),cmap=\"gray\")"
      ],
      "metadata": {
        "colab": {
          "base_uri": "https://localhost:8080/",
          "height": 423
        },
        "id": "JQ0VdOn9FPL5",
        "outputId": "2d0a1af5-7f70-4bf5-8c82-a67e430849fa"
      },
      "execution_count": 69,
      "outputs": [
        {
          "output_type": "execute_result",
          "data": {
            "text/plain": [
              "<matplotlib.image.AxesImage at 0x7f54bae72dd0>"
            ]
          },
          "metadata": {},
          "execution_count": 69
        },
        {
          "output_type": "display_data",
          "data": {
            "text/plain": [
              "<Figure size 640x480 with 1 Axes>"
            ],
            "image/png": "[encoded data removed]"
          },
          "metadata": {}
        }
      ]
    },
    {
      "cell_type": "code",
      "source": [
        "v = model_sparse2(grid.double())\n",
        "v = v[1:]\n",
        "v.shape\n",
        "v1 = torch.reshape(v,[100,100])\n",
        "v1.shape\n",
        "plt.axis('off')\n",
        "plt.imshow(np.rot90(v1.detach().numpy()),cmap=\"gray\")"
      ],
      "metadata": {
        "colab": {
          "base_uri": "https://localhost:8080/",
          "height": 423
        },
        "id": "18pvaNTu84HB",
        "outputId": "a769d41b-8a11-4322-b478-c1aaf02a9deb"
      },
      "execution_count": 67,
      "outputs": [
        {
          "output_type": "execute_result",
          "data": {
            "text/plain": [
              "<matplotlib.image.AxesImage at 0x7f54badcfac0>"
            ]
          },
          "metadata": {},
          "execution_count": 67
        },
        {
          "output_type": "display_data",
          "data": {
            "text/plain": [
              "<Figure size 640x480 with 1 Axes>"
            ],
            "image/png": "[encoded data removed]"
          },
          "metadata": {}
        }
      ]
    },
    {
      "cell_type": "code",
      "source": [
        "v = model_sparse2(grid.double())\n",
        "v = v[1:]\n",
        "v[v>=0.5] = 1\n",
        "v[v<0.5] = 0\n",
        "v.shape\n",
        "v1 = torch.reshape(v,[100,100])\n",
        "v1.shape\n",
        "plt.axis('off')\n",
        "plt.imshow(np.rot90(v1.detach().numpy()),cmap=\"gray\")"
      ],
      "metadata": {
        "id": "KUzt7eA96gca",
        "colab": {
          "base_uri": "https://localhost:8080/",
          "height": 423
        },
        "outputId": "ef88fdad-3c99-4140-8eda-8e44d1cafbd5"
      },
      "execution_count": 68,
      "outputs": [
        {
          "output_type": "execute_result",
          "data": {
            "text/plain": [
              "<matplotlib.image.AxesImage at 0x7f54baecc730>"
            ]
          },
          "metadata": {},
          "execution_count": 68
        },
        {
          "output_type": "display_data",
          "data": {
            "text/plain": [
              "<Figure size 640x480 with 1 Axes>"
            ],
            "image/png": "[encoded data removed]"
          },
          "metadata": {}
        }
      ]
    },
    {
      "cell_type": "code",
      "source": [],
      "metadata": {
        "id": "31I6u6BO-kEp"
      },
      "execution_count": null,
      "outputs": []
    },
    {
      "cell_type": "markdown",
      "source": [
        "Fine tuning"
      ],
      "metadata": {
        "id": "0cGzop4sgYWg"
      }
    },
    {
      "cell_type": "code",
      "source": [
        "model = model_sparse2\n",
        "model.train()"
      ],
      "metadata": {
        "id": "B9GjIFWO6gfn",
        "outputId": "fbe02621-27e5-4bb6-bf90-e17ebb5da8da",
        "colab": {
          "base_uri": "https://localhost:8080/"
        }
      },
      "execution_count": 52,
      "outputs": [
        {
          "output_type": "execute_result",
          "data": {
            "text/plain": [
              "SimplePerceptronSparse2(\n",
              "  (conv1): Conv2d(2, 11, kernel_size=(1, 1), stride=(1, 1))\n",
              "  (conv2): Conv2d(11, 20, kernel_size=(1, 1), stride=(1, 1))\n",
              "  (conv3): Conv2d(20, 15, kernel_size=(1, 1), stride=(1, 1))\n",
              "  (conv4): Conv2d(15, 1, kernel_size=(1, 1), stride=(1, 1))\n",
              "  (bn1): BatchNorm2d(11, eps=1e-05, momentum=0.1, affine=False, track_running_stats=True)\n",
              "  (bn2): BatchNorm2d(20, eps=1e-05, momentum=0.1, affine=False, track_running_stats=True)\n",
              "  (bn3): BatchNorm2d(15, eps=1e-05, momentum=0.1, affine=False, track_running_stats=True)\n",
              ")"
            ]
          },
          "metadata": {},
          "execution_count": 52
        }
      ]
    },
    {
      "cell_type": "code",
      "source": [
        "n_epochs = 10 # or whatever\n",
        "batch_size = 50 # or whatever\n",
        "train_num = 10000\n",
        "\n",
        "optimizer = optim.Adam(model.parameters(), lr = 0.0001)\n",
        "scheduler = sched.StepLR(optimizer, step_size=4, gamma=0.5)\n",
        "\n",
        "input = train_x[:10000].double()\n",
        "target = train_y[:10000].double()\n",
        "\n",
        "input_v = train_x[10000:].double()\n",
        "target_v = train_y[10000:].double()\n",
        "\n",
        "criterion_val = nn.BCELoss()\n",
        "#criterion_val = loss = nn.CrossEntropyLoss()\n",
        "\n",
        "for epoch in range(n_epochs):\n",
        "\n",
        "    # X is a torch Variable\n",
        "    permutation = torch.randperm(train_num)\n",
        "    if(epoch % 2 == 1):\n",
        "        print(\"Epoch:\")\n",
        "        print(epoch)\n",
        "        print(\"Train loss:\")\n",
        "        print(t_loss/train_num*batch_size)\n",
        "        print(\"val:\")\n",
        "        val_loss=0\n",
        "        model.eval()\n",
        "        v1 = model(input_v)\n",
        "        #for i in range(200):\n",
        "            #v1 = model(input_v[(i*50):((i+1)*50)])\n",
        "            #v2  = target_v[(i*50):((i+1)*50)]\n",
        "            #v1 = torch.argmax(v1, dim=1)\n",
        "            #print(v1.shape)\n",
        "        val_loss = criterion_val(v1[:,0,0,0],target_v)\n",
        "        #gc.collect()\n",
        "        #val_loss = val_loss + criterion_val(v1[:,:,0,0],v2)\n",
        "        #print(criterion_val(model.forward(val_x2), val_y2))\n",
        "        print(\"Validation loss:\")\n",
        "        print(val_loss)\n",
        "        print(\"--------\")\n",
        "        model.train()\n",
        "    t_loss = 0\n",
        "    gc.collect()\n",
        "\n",
        "    for i in range(0,train_num, batch_size):\n",
        "        optimizer.zero_grad()\n",
        "        indices = permutation[i:(i+batch_size)]\n",
        "        batch_x = input[indices]\n",
        "        batch_y = target[indices]\n",
        "        #batch_w = input_w[indices]\n",
        "        #criterion3 = nn.BCELoss(weight=batch_w)\n",
        "        #print(batch_x.shape)\n",
        "        outputs = model.forward(batch_x)\n",
        "        #print(outputs[:,:,0,0].shape)\n",
        "        #print(torch.max(outputs[:,:,0,0]))\n",
        "        #print(torch.max(batch_y))\n",
        "        #print(torch.min(batch_y))\n",
        "        #print(batch_y.shape)\n",
        "        #loss = criterion3(outputs,batch_y)\n",
        "        loss = criterion_val(outputs[:,0,0,0],batch_y)\n",
        "        #print(loss)\n",
        "\n",
        "        if(epoch % 2 == 0):\n",
        "            t_loss += loss\n",
        "\n",
        "        loss.backward()\n",
        "        optimizer.step()\n",
        "        gc.collect()\n",
        "\n",
        "    scheduler.step()\n",
        "    gc.collect()"
      ],
      "metadata": {
        "id": "NnTtEQQbyWCD",
        "outputId": "0a068909-ba4e-48a9-e7cd-f46b0258243f",
        "colab": {
          "base_uri": "https://localhost:8080/"
        }
      },
      "execution_count": 53,
      "outputs": [
        {
          "output_type": "stream",
          "name": "stdout",
          "text": [
            "Epoch:\n",
            "1\n",
            "Train loss:\n",
            "tensor(0.3313, dtype=torch.float64, grad_fn=<MulBackward0>)\n",
            "val:\n",
            "Validation loss:\n",
            "tensor(0.1127, dtype=torch.float64, grad_fn=<BinaryCrossEntropyBackward0>)\n",
            "--------\n",
            "Epoch:\n",
            "3\n",
            "Train loss:\n",
            "tensor(0.3123, dtype=torch.float64, grad_fn=<MulBackward0>)\n",
            "val:\n",
            "Validation loss:\n",
            "tensor(0.1009, dtype=torch.float64, grad_fn=<BinaryCrossEntropyBackward0>)\n",
            "--------\n",
            "Epoch:\n",
            "5\n",
            "Train loss:\n",
            "tensor(0.3222, dtype=torch.float64, grad_fn=<MulBackward0>)\n",
            "val:\n",
            "Validation loss:\n",
            "tensor(0.0973, dtype=torch.float64, grad_fn=<BinaryCrossEntropyBackward0>)\n",
            "--------\n",
            "Epoch:\n",
            "7\n",
            "Train loss:\n",
            "tensor(0.2926, dtype=torch.float64, grad_fn=<MulBackward0>)\n",
            "val:\n",
            "Validation loss:\n",
            "tensor(0.1025, dtype=torch.float64, grad_fn=<BinaryCrossEntropyBackward0>)\n",
            "--------\n",
            "Epoch:\n",
            "9\n",
            "Train loss:\n",
            "tensor(0.2937, dtype=torch.float64, grad_fn=<MulBackward0>)\n",
            "val:\n",
            "Validation loss:\n",
            "tensor(0.0986, dtype=torch.float64, grad_fn=<BinaryCrossEntropyBackward0>)\n",
            "--------\n"
          ]
        }
      ]
    },
    {
      "cell_type": "code",
      "source": [
        "#train\n",
        "model.eval()\n",
        "v = model(input)\n",
        "v[v>=0.5] = 1\n",
        "v[v<0.5] = 0\n",
        "#val\n",
        "v1 = model(input_v)\n",
        "v1[v1>=0.5] = 1\n",
        "v1[v1<0.5] = 0\n",
        "#test\n",
        "v2 = model(test_x)\n",
        "v2[v2>=0.5] = 1\n",
        "v2[v2<0.5] = 0\n",
        "\n",
        "print(\"-------\")\n",
        "print(accuracy(v[:,0,0,0],target))\n",
        "print(accuracy(v1[:,0,0,0],target_v))\n",
        "print(accuracy(v2[:,0,0,0],test_y))"
      ],
      "metadata": {
        "id": "4FsUSDolgfG-",
        "outputId": "7c251ec3-e6d2-4186-8f7e-dd74693d210d",
        "colab": {
          "base_uri": "https://localhost:8080/"
        }
      },
      "execution_count": 54,
      "outputs": [
        {
          "output_type": "stream",
          "name": "stdout",
          "text": [
            "-------\n",
            "tensor(0.9911)\n",
            "tensor(0.9910)\n",
            "tensor(0.9882)\n"
          ]
        }
      ]
    },
    {
      "cell_type": "code",
      "source": [
        "#grid\n",
        "x1 = np.array([0])\n",
        "x2 = np.array([0])\n",
        "for i in range(100):\n",
        "  for j in range(100):\n",
        "    x1 = np.concatenate([x1,[-1.5+3/100*i]])\n",
        "    x2 = np.concatenate([x2,[-1.5+3/100*j]])\n",
        "\n",
        "grid = torch.zeros([pow(10,4)+1,2,1,1])\n",
        "print(grid.shape)\n",
        "grid[:,0,0,0] = torch.from_numpy(x1)\n",
        "grid[:,1,0,0] = torch.from_numpy(x2)\n",
        "\n",
        "v = model(grid.double())\n",
        "v[v>=0.5] = 1\n",
        "v[v<0.5] = 0\n",
        "\n",
        "\n",
        "xA = grid[v[:,0,0,0]==1,0,0,0]\n",
        "yA = grid[v[:,0,0,0]==1,1,0,0]\n",
        "xB = grid[v[:,0,0,0]==0,0,0,0]\n",
        "yB = grid[v[:,0,0,0]==0,1,0,0]\n",
        "plt.scatter(xA,yA)\n",
        "plt.scatter(xB,yB)"
      ],
      "metadata": {
        "id": "tsfRD4WLgfKU",
        "outputId": "0421ebb8-950c-4c1e-fa28-94cffbdcc9cd",
        "colab": {
          "base_uri": "https://localhost:8080/",
          "height": 465
        }
      },
      "execution_count": 55,
      "outputs": [
        {
          "output_type": "stream",
          "name": "stdout",
          "text": [
            "torch.Size([10001, 2, 1, 1])\n"
          ]
        },
        {
          "output_type": "execute_result",
          "data": {
            "text/plain": [
              "<matplotlib.collections.PathCollection at 0x7f54bbd026e0>"
            ]
          },
          "metadata": {},
          "execution_count": 55
        },
        {
          "output_type": "display_data",
          "data": {
            "text/plain": [
              "<Figure size 640x480 with 1 Axes>"
            ],
            "image/png": "[encoded data removed]"
          },
          "metadata": {}
        }
      ]
    },
    {
      "cell_type": "code",
      "source": [
        "v = model_sparse2(grid.double())\n",
        "v = v[1:]\n",
        "v.shape\n",
        "v1 = torch.reshape(v,[100,100])\n",
        "v1.shape\n",
        "plt.axis('off')\n",
        "plt.imshow(np.rot90(v1.detach().numpy()),cmap=\"gray\")"
      ],
      "metadata": {
        "id": "_TOvVN6AgidS",
        "colab": {
          "base_uri": "https://localhost:8080/",
          "height": 423
        },
        "outputId": "9066cb1d-cbeb-4095-b456-2c7a3ae7bcc1"
      },
      "execution_count": 56,
      "outputs": [
        {
          "output_type": "execute_result",
          "data": {
            "text/plain": [
              "<matplotlib.image.AxesImage at 0x7f54bae5ef80>"
            ]
          },
          "metadata": {},
          "execution_count": 56
        },
        {
          "output_type": "display_data",
          "data": {
            "text/plain": [
              "<Figure size 640x480 with 1 Axes>"
            ],
            "image/png": "[encoded data removed]"
          },
          "metadata": {}
        }
      ]
    },
    {
      "cell_type": "code",
      "source": [
        "v = model_sparse2(grid.double())\n",
        "v = v[1:]\n",
        "v[v>=0.5] = 1\n",
        "v[v<0.5] = 0\n",
        "v.shape\n",
        "v1 = torch.reshape(v,[100,100])\n",
        "v1.shape\n",
        "plt.axis('off')\n",
        "plt.imshow(np.rot90(v1.detach().numpy()),cmap=\"gray\")"
      ],
      "metadata": {
        "colab": {
          "base_uri": "https://localhost:8080/",
          "height": 423
        },
        "id": "NMrtIvB0_leh",
        "outputId": "92328519-46d2-4fad-e23f-6c675dbdbd9c"
      },
      "execution_count": 57,
      "outputs": [
        {
          "output_type": "execute_result",
          "data": {
            "text/plain": [
              "<matplotlib.image.AxesImage at 0x7f54bae5f220>"
            ]
          },
          "metadata": {},
          "execution_count": 57
        },
        {
          "output_type": "display_data",
          "data": {
            "text/plain": [
              "<Figure size 640x480 with 1 Axes>"
            ],
            "image/png": "[encoded data removed]"
          },
          "metadata": {}
        }
      ]
    },
    {
      "cell_type": "code",
      "source": [
        "torch.save(model_sparse2.state_dict(), \"model2_p2_sparse-ft.pth\")"
      ],
      "metadata": {
        "id": "13M84AorBFOE"
      },
      "execution_count": 58,
      "outputs": []
    },
    {
      "cell_type": "code",
      "source": [],
      "metadata": {
        "id": "W6_5pFwaBW4z"
      },
      "execution_count": null,
      "outputs": []
    }
  ]
}