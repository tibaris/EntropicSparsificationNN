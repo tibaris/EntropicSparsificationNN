{
  "nbformat": 4,
  "nbformat_minor": 0,
  "metadata": {
    "colab": {
      "provenance": [],
      "authorship_tag": "ABX9TyPm3vMsY5eVKm1+JJAyvS6r",
      "include_colab_link": true
    },
    "kernelspec": {
      "name": "python3",
      "display_name": "Python 3"
    },
    "language_info": {
      "name": "python"
    }
  },
  "cells": [
    {
      "cell_type": "markdown",
      "metadata": {
        "id": "view-in-github",
        "colab_type": "text"
      },
      "source": [
        "<a href=\"https://colab.research.google.com/github/tibaris/EntropicSparsificationNN/blob/main/spirals_generate.ipynb\" target=\"_parent\"><img src=\"https://colab.research.google.com/assets/colab-badge.svg\" alt=\"Open In Colab\"/></a>"
      ]
    },
    {
      "cell_type": "code",
      "execution_count": 24,
      "metadata": {
        "id": "1djPT8xQq0dv"
      },
      "outputs": [],
      "source": [
        "#import conx as cx\n",
        "import math\n",
        "import numpy as np"
      ]
    },
    {
      "cell_type": "code",
      "source": [
        "import matplotlib.pyplot as plt"
      ],
      "metadata": {
        "id": "HaGSdW3Oq3-T"
      },
      "execution_count": 7,
      "outputs": []
    },
    {
      "cell_type": "markdown",
      "source": [
        "https://conx.readthedocs.io/en/latest/Two-Spirals.html"
      ],
      "metadata": {
        "id": "T9JSsqUDvzG1"
      }
    },
    {
      "cell_type": "code",
      "source": [
        "def spiral_xy(i, spiral_num):\n",
        "    \"\"\"\n",
        "    Create the data for a spiral.\n",
        "\n",
        "    Arguments:\n",
        "        i runs from 0 to 96\n",
        "        spiral_num is 1 or -1\n",
        "    \"\"\"\n",
        "    φ = i/16 * math.pi\n",
        "    r = 6.5 * ((104 - i)/104)\n",
        "    x = (r * math.cos(φ) * spiral_num)/13 + 0.5\n",
        "    y = (r * math.sin(φ) * spiral_num)/13 + 0.5\n",
        "    return (x, y)\n",
        "\n",
        "def spiral(spiral_num):\n",
        "  #for i in range(97):\n",
        "    #if i == 0:\n",
        "      #(x,y) = spiral_xy(i, spiral_num)\n",
        "      #x = np.array(x)\n",
        "      #y = np.array(y)\n",
        "    #else:\n",
        "      #(x1,y1) = spiral_xy(i, spiral_num)\n",
        "      #x1 = np.array(x1)\n",
        "      #y1 = np.array(y1)\n",
        "      #x = np.concatenate((x,x1))\n",
        "      #y = np.concatenate((y,y1))\n",
        "    return [spiral_xy(i, spiral_num) for i in range(97)]\n",
        "    #return(x,y)"
      ],
      "metadata": {
        "id": "QRCBkmgHq345"
      },
      "execution_count": 42,
      "outputs": []
    },
    {
      "cell_type": "code",
      "source": [
        "#(x,y) = spiral_xy(1,1)\n",
        "a = spiral(1)\n",
        "#len(a)\n",
        "xA = np.zeros(len(a))\n",
        "yA = np.zeros(len(a))\n",
        "for i in range(len(a)):\n",
        "  xA[i] = a[i][0]\n",
        "  yA[i] = a[i][1]\n",
        "\n",
        "b = spiral(-1)\n",
        "#len(a)\n",
        "xB = np.zeros(len(b))\n",
        "yB = np.zeros(len(b))\n",
        "for i in range(len(b)):\n",
        "  xB[i] = b[i][0]\n",
        "  yB[i] = b[i][1]"
      ],
      "metadata": {
        "id": "5MElGphorZBj"
      },
      "execution_count": 62,
      "outputs": []
    },
    {
      "cell_type": "code",
      "source": [
        "plt.scatter(xA,yA)\n",
        "plt.scatter(xB,yB)"
      ],
      "metadata": {
        "colab": {
          "base_uri": "https://localhost:8080/",
          "height": 450
        },
        "id": "gl3s6pQ2q4Ax",
        "outputId": "e48ea779-b5be-444b-a5b5-19fae8d2b028"
      },
      "execution_count": 63,
      "outputs": [
        {
          "output_type": "execute_result",
          "data": {
            "text/plain": [
              "<matplotlib.collections.PathCollection at 0x7d247a766560>"
            ]
          },
          "metadata": {},
          "execution_count": 63
        },
        {
          "output_type": "display_data",
          "data": {
            "text/plain": [
              "<Figure size 640x480 with 1 Axes>"
            ],
            "image/png": "[encoded data removed]"
          },
          "metadata": {}
        }
      ]
    },
    {
      "cell_type": "code",
      "source": [],
      "metadata": {
        "id": "oy8yG8ewv8zo"
      },
      "execution_count": null,
      "outputs": []
    }
  ]
}